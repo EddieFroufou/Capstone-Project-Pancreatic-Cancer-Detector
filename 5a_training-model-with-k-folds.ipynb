{
 "cells": [
  {
   "cell_type": "markdown",
   "execution_count": null,
   "metadata": {
    "papermill": {
     "duration": 0.007632,
     "end_time": "2020-08-24T04:34:23.821190",
     "exception": false,
     "start_time": "2020-08-24T04:34:23.813558",
     "status": "completed"
    },
    "tags": []
   },
   "source": [
    "# Importing modules"
   ]
  },
  {
   "cell_type": "code",
   "execution_count": 1,
   "metadata": {
    "execution": {
     "iopub.execute_input": "2020-08-24T04:34:23.839385Z",
     "iopub.status.busy": "2020-08-24T04:34:23.838480Z",
     "iopub.status.idle": "2020-08-24T04:34:43.056030Z",
     "shell.execute_reply": "2020-08-24T04:34:43.054447Z"
    },
    "papermill": {
     "duration": 19.228746,
     "end_time": "2020-08-24T04:34:43.056157",
     "exception": false,
     "start_time": "2020-08-24T04:34:23.827411",
     "status": "completed"
    },
    "tags": []
   },
   "outputs": [
    {
     "name": "stdout",
     "output_type": "stream",
     "text": [
      "Collecting efficientnet_pytorch\r\n",
      "  Downloading efficientnet_pytorch-0.6.3.tar.gz (16 kB)\r\n",
      "Collecting torchtoolbox\r\n",
      "  Downloading torchtoolbox-0.1.5-py3-none-any.whl (58 kB)\r\n",
      "\u001b[K     |████████████████████████████████| 58 kB 2.2 MB/s \r\n",
      "\u001b[?25hRequirement already satisfied: torch in /opt/conda/lib/python3.7/site-packages (from efficientnet_pytorch) (1.5.1)\r\n",
      "Requirement already satisfied: opencv-python in /opt/conda/lib/python3.7/site-packages (from torchtoolbox) (4.3.0.36)\r\n",
      "Requirement already satisfied: scikit-learn in /opt/conda/lib/python3.7/site-packages (from torchtoolbox) (0.23.2)\r\n",
      "Requirement already satisfied: numpy in /opt/conda/lib/python3.7/site-packages (from torchtoolbox) (1.18.5)\r\n",
      "Requirement already satisfied: tqdm in /opt/conda/lib/python3.7/site-packages (from torchtoolbox) (4.45.0)\r\n",
      "Requirement already satisfied: six in /opt/conda/lib/python3.7/site-packages (from torchtoolbox) (1.14.0)\r\n",
      "Requirement already satisfied: pyarrow in /opt/conda/lib/python3.7/site-packages (from torchtoolbox) (0.16.0)\r\n",
      "Requirement already satisfied: scipy in /opt/conda/lib/python3.7/site-packages (from torchtoolbox) (1.4.1)\r\n",
      "Collecting lmdb\r\n",
      "  Downloading lmdb-0.99.tar.gz (995 kB)\r\n",
      "\u001b[K     |████████████████████████████████| 995 kB 8.7 MB/s \r\n",
      "\u001b[?25hRequirement already satisfied: future in /opt/conda/lib/python3.7/site-packages (from torch->efficientnet_pytorch) (0.18.2)\r\n",
      "Requirement already satisfied: threadpoolctl>=2.0.0 in /opt/conda/lib/python3.7/site-packages (from scikit-learn->torchtoolbox) (2.1.0)\r\n",
      "Requirement already satisfied: joblib>=0.11 in /opt/conda/lib/python3.7/site-packages (from scikit-learn->torchtoolbox) (0.14.1)\r\n",
      "Building wheels for collected packages: efficientnet-pytorch, lmdb\r\n",
      "  Building wheel for efficientnet-pytorch (setup.py) ... \u001b[?25l-\b \b\\\b \bdone\r\n",
      "\u001b[?25h  Created wheel for efficientnet-pytorch: filename=efficientnet_pytorch-0.6.3-py3-none-any.whl size=12419 sha256=8ed6ac9a037966a91a0391e1c92f4ba57d11353adf03279ffdd691f91aa73097\r\n",
      "  Stored in directory: /root/.cache/pip/wheels/90/6b/0c/f0ad36d00310e65390b0d4c9218ae6250ac579c92540c9097a\r\n",
      "  Building wheel for lmdb (setup.py) ... \u001b[?25l-\b \b\\\b \b|\b \b/\b \b-\b \bdone\r\n",
      "\u001b[?25h  Created wheel for lmdb: filename=lmdb-0.99-cp37-cp37m-linux_x86_64.whl size=275502 sha256=35a6933566525685a793bf1a6ee807b64e4db52bc6d3bb832c3079141f239a32\r\n",
      "  Stored in directory: /root/.cache/pip/wheels/c1/bd/71/e80e6fdf2b280becb1954b49d1610ab24d7d06a515feb0605a\r\n",
      "Successfully built efficientnet-pytorch lmdb\r\n",
      "Installing collected packages: efficientnet-pytorch, lmdb, torchtoolbox\r\n",
      "Successfully installed efficientnet-pytorch-0.6.3 lmdb-0.99 torchtoolbox-0.1.5\r\n",
      "\u001b[33mWARNING: You are using pip version 20.2.1; however, version 20.2.2 is available.\r\n",
      "You should consider upgrading via the '/opt/conda/bin/python3.7 -m pip install --upgrade pip' command.\u001b[0m\r\n"
     ]
    }
   ],
   "source": [
    "!pip install efficientnet_pytorch torchtoolbox"
   ]
  },
  {
   "cell_type": "code",
   "execution_count": 2,
   "metadata": {
    "_cell_guid": "79c7e3d0-c299-4dcb-8224-4455121ee9b0",
    "_uuid": "d629ff2d2480ee46fbb7e2d37f6b5fab8052498a",
    "execution": {
     "iopub.execute_input": "2020-08-24T04:34:43.081648Z",
     "iopub.status.busy": "2020-08-24T04:34:43.080787Z",
     "iopub.status.idle": "2020-08-24T04:34:46.121904Z",
     "shell.execute_reply": "2020-08-24T04:34:46.120855Z"
    },
    "papermill": {
     "duration": 3.05746,
     "end_time": "2020-08-24T04:34:46.122034",
     "exception": false,
     "start_time": "2020-08-24T04:34:43.064574",
     "status": "completed"
    },
    "tags": []
   },
   "outputs": [],
   "source": [
    "# Imports here\n",
    "from efficientnet_pytorch import EfficientNet\n",
    "import matplotlib.pyplot as plt\n",
    "import torch\n",
    "from torch import nn\n",
    "from torch import optim\n",
    "import torch.nn.functional as F\n",
    "from torchvision import datasets, transforms, models\n",
    "from torch.utils.data import Dataset, DataLoader\n",
    "import matplotlib.pyplot as plt\n",
    "import seaborn as sns\n",
    "import csv\n",
    "import pandas as pd\n",
    "import os\n",
    "import random\n",
    "import math\n",
    "import skimage.io\n",
    "import sklearn\n",
    "#from csv_loader import load_csv\n",
    "\n",
    "# Tiff visualisation imports and downloads\n",
    "import numpy as np\n",
    "import tifffile as tiff\n",
    "\n",
    "# For re-importing python modules\n",
    "import importlib\n",
    "#importlib.reload(csv_loader.py)\n",
    "\n",
    "#for quadratic score calculator\n",
    "from sklearn.metrics import cohen_kappa_score\n",
    "\n",
    "#for k-folds\n",
    "from sklearn import model_selection\n",
    "from sklearn.model_selection import train_test_split"
   ]
  },
  {
   "cell_type": "markdown",
   "execution_count": null,
   "metadata": {
    "papermill": {
     "duration": 0.008854,
     "end_time": "2020-08-24T04:34:46.138880",
     "exception": false,
     "start_time": "2020-08-24T04:34:46.130026",
     "status": "completed"
    },
    "tags": []
   },
   "source": [
    "# Creating data_loader class"
   ]
  },
  {
   "cell_type": "code",
   "execution_count": 3,
   "metadata": {
    "execution": {
     "iopub.execute_input": "2020-08-24T04:34:46.167795Z",
     "iopub.status.busy": "2020-08-24T04:34:46.167003Z",
     "iopub.status.idle": "2020-08-24T04:34:46.170936Z",
     "shell.execute_reply": "2020-08-24T04:34:46.170455Z"
    },
    "papermill": {
     "duration": 0.023757,
     "end_time": "2020-08-24T04:34:46.171042",
     "exception": false,
     "start_time": "2020-08-24T04:34:46.147285",
     "status": "completed"
    },
    "tags": []
   },
   "outputs": [],
   "source": [
    "class load_csv(Dataset):\n",
    "    def __init__(self, csv_file, root_dir, transform=True):\n",
    "        self.annotations = pd.read_csv(csv_file)# todo remove sample for debug\n",
    "        self.root_dir = root_dir\n",
    "        self.transform = transform\n",
    "    \n",
    "    def __len__(self):\n",
    "        return len(self.annotations)\n",
    "        \n",
    "    \n",
    "    def __getitem__(self, index):\n",
    "        #img_path = os.path.join(self.root_dir, self.annotations.iloc[index, 0])\n",
    "        image_id = self.annotations.iloc[index, 0]\n",
    "        img_path = os.path.join(self.root_dir, str(image_id) +\".png\")\n",
    "        image = torch.from_numpy(skimage.io.imread(img_path)).permute(2,0,1).float()\n",
    "        \n",
    "        #Image.MAX_IMAGE_PIXELS = None\n",
    "                \n",
    "        #image.transform = transforms.RandomResizedCrop(224)\n",
    "        \n",
    "        y_label = torch.tensor(int(self.annotations.iloc[index,:]['isup_grade']))\n",
    "        #isup_grade = int(self.annotations.iloc[index,:]['isup_grade'])\n",
    "        \n",
    "        #label = np.zeros(6).astype(np.float32)\n",
    "        #y_label = label[isup_grade] = 1.\n",
    "        #y_label = torch.tensor(y_label)\n",
    "        \n",
    "        self.transform= transforms.Compose([transforms.ToPILImage(),\n",
    "                                            transforms.ToTensor(),\n",
    "                                            transforms.Normalize([0.485, 0.456, 0.406],[0.229, 0.224, 0.225])])\n",
    "        if self.transform:\n",
    "            image = self.transform(image)\n",
    "        \n",
    "        return image, y_label, image_id"
   ]
  },
  {
   "cell_type": "code",
   "execution_count": 4,
   "metadata": {
    "execution": {
     "iopub.execute_input": "2020-08-24T04:34:46.196250Z",
     "iopub.status.busy": "2020-08-24T04:34:46.195633Z",
     "iopub.status.idle": "2020-08-24T04:34:46.390967Z",
     "shell.execute_reply": "2020-08-24T04:34:46.390283Z"
    },
    "papermill": {
     "duration": 0.212314,
     "end_time": "2020-08-24T04:34:46.391088",
     "exception": false,
     "start_time": "2020-08-24T04:34:46.178774",
     "status": "completed"
    },
    "tags": []
   },
   "outputs": [
    {
     "data": {
      "text/html": [
       "<div>\n",
       "<style scoped>\n",
       "    .dataframe tbody tr th:only-of-type {\n",
       "        vertical-align: middle;\n",
       "    }\n",
       "\n",
       "    .dataframe tbody tr th {\n",
       "        vertical-align: top;\n",
       "    }\n",
       "\n",
       "    .dataframe thead th {\n",
       "        text-align: right;\n",
       "    }\n",
       "</style>\n",
       "<table border=\"1\" class=\"dataframe\">\n",
       "  <thead>\n",
       "    <tr style=\"text-align: right;\">\n",
       "      <th></th>\n",
       "      <th>image_id</th>\n",
       "      <th>data_provider</th>\n",
       "      <th>isup_grade</th>\n",
       "      <th>gleason_score</th>\n",
       "      <th>fold</th>\n",
       "    </tr>\n",
       "  </thead>\n",
       "  <tbody>\n",
       "    <tr>\n",
       "      <th>0</th>\n",
       "      <td>0005f7aaab2800f6170c399693a96917</td>\n",
       "      <td>karolinska</td>\n",
       "      <td>0</td>\n",
       "      <td>0+0</td>\n",
       "      <td>0.0</td>\n",
       "    </tr>\n",
       "    <tr>\n",
       "      <th>1</th>\n",
       "      <td>000920ad0b612851f8e01bcc880d9b3d</td>\n",
       "      <td>karolinska</td>\n",
       "      <td>0</td>\n",
       "      <td>0+0</td>\n",
       "      <td>0.0</td>\n",
       "    </tr>\n",
       "    <tr>\n",
       "      <th>2</th>\n",
       "      <td>0018ae58b01bdadc8e347995b69f99aa</td>\n",
       "      <td>radboud</td>\n",
       "      <td>4</td>\n",
       "      <td>4+4</td>\n",
       "      <td>0.0</td>\n",
       "    </tr>\n",
       "    <tr>\n",
       "      <th>3</th>\n",
       "      <td>001c62abd11fa4b57bf7a6c603a11bb9</td>\n",
       "      <td>karolinska</td>\n",
       "      <td>4</td>\n",
       "      <td>4+4</td>\n",
       "      <td>0.0</td>\n",
       "    </tr>\n",
       "    <tr>\n",
       "      <th>4</th>\n",
       "      <td>001d865e65ef5d2579c190a0e0350d8f</td>\n",
       "      <td>karolinska</td>\n",
       "      <td>0</td>\n",
       "      <td>0+0</td>\n",
       "      <td>0.0</td>\n",
       "    </tr>\n",
       "    <tr>\n",
       "      <th>...</th>\n",
       "      <td>...</td>\n",
       "      <td>...</td>\n",
       "      <td>...</td>\n",
       "      <td>...</td>\n",
       "      <td>...</td>\n",
       "    </tr>\n",
       "    <tr>\n",
       "      <th>10611</th>\n",
       "      <td>ffd2841373b39792ab0c84cccd066e31</td>\n",
       "      <td>radboud</td>\n",
       "      <td>0</td>\n",
       "      <td>negative</td>\n",
       "      <td>4.0</td>\n",
       "    </tr>\n",
       "    <tr>\n",
       "      <th>10612</th>\n",
       "      <td>ffdc59cd580a1468eac0e6a32dd1ff2d</td>\n",
       "      <td>radboud</td>\n",
       "      <td>5</td>\n",
       "      <td>4+5</td>\n",
       "      <td>4.0</td>\n",
       "    </tr>\n",
       "    <tr>\n",
       "      <th>10613</th>\n",
       "      <td>ffe06afd66a93258f8fabdef6044e181</td>\n",
       "      <td>radboud</td>\n",
       "      <td>0</td>\n",
       "      <td>negative</td>\n",
       "      <td>4.0</td>\n",
       "    </tr>\n",
       "    <tr>\n",
       "      <th>10614</th>\n",
       "      <td>ffe236a25d4cbed59438220799920749</td>\n",
       "      <td>radboud</td>\n",
       "      <td>2</td>\n",
       "      <td>3+4</td>\n",
       "      <td>4.0</td>\n",
       "    </tr>\n",
       "    <tr>\n",
       "      <th>10615</th>\n",
       "      <td>ffe9bcababc858e04840669e788065a1</td>\n",
       "      <td>radboud</td>\n",
       "      <td>4</td>\n",
       "      <td>4+4</td>\n",
       "      <td>4.0</td>\n",
       "    </tr>\n",
       "  </tbody>\n",
       "</table>\n",
       "<p>10616 rows × 5 columns</p>\n",
       "</div>"
      ],
      "text/plain": [
       "                               image_id data_provider  isup_grade  \\\n",
       "0      0005f7aaab2800f6170c399693a96917    karolinska           0   \n",
       "1      000920ad0b612851f8e01bcc880d9b3d    karolinska           0   \n",
       "2      0018ae58b01bdadc8e347995b69f99aa       radboud           4   \n",
       "3      001c62abd11fa4b57bf7a6c603a11bb9    karolinska           4   \n",
       "4      001d865e65ef5d2579c190a0e0350d8f    karolinska           0   \n",
       "...                                 ...           ...         ...   \n",
       "10611  ffd2841373b39792ab0c84cccd066e31       radboud           0   \n",
       "10612  ffdc59cd580a1468eac0e6a32dd1ff2d       radboud           5   \n",
       "10613  ffe06afd66a93258f8fabdef6044e181       radboud           0   \n",
       "10614  ffe236a25d4cbed59438220799920749       radboud           2   \n",
       "10615  ffe9bcababc858e04840669e788065a1       radboud           4   \n",
       "\n",
       "      gleason_score  fold  \n",
       "0               0+0   0.0  \n",
       "1               0+0   0.0  \n",
       "2               4+4   0.0  \n",
       "3               4+4   0.0  \n",
       "4               0+0   0.0  \n",
       "...             ...   ...  \n",
       "10611      negative   4.0  \n",
       "10612           4+5   4.0  \n",
       "10613      negative   4.0  \n",
       "10614           3+4   4.0  \n",
       "10615           4+4   4.0  \n",
       "\n",
       "[10616 rows x 5 columns]"
      ]
     },
     "execution_count": 4,
     "metadata": {},
     "output_type": "execute_result"
    }
   ],
   "source": [
    "# path inputs\n",
    "train_fold_path = 'train_fold_'\n",
    "test_fold_path = 'test_fold_'\n",
    "img_dir = '../input/prostate-cancer-tiles-4x4x128px-downsampling-4x/train_128x4x4_res1/train_128x4x4_res1'\n",
    "\n",
    "# Adding folds into dataset\n",
    "file_info = pd.read_csv('../input/prostate-cancer-grade-assessment/train.csv').copy()\n",
    "num_folds = 5\n",
    "\n",
    "stratified_kfold = model_selection.StratifiedKFold(n_splits=num_folds)\n",
    "\n",
    "for fold_id, (_, rows) in enumerate(stratified_kfold.split(X=file_info, y=file_info.isup_grade.values)):\n",
    "    file_info.loc[rows, 'fold'] = int(fold_id)\n",
    " \n",
    "file_info.to_csv(\"train_list.csv\", sep=\",\", index=False)\n",
    "file_info"
   ]
  },
  {
   "cell_type": "code",
   "execution_count": 5,
   "metadata": {
    "execution": {
     "iopub.execute_input": "2020-08-24T04:34:46.416301Z",
     "iopub.status.busy": "2020-08-24T04:34:46.415448Z",
     "iopub.status.idle": "2020-08-24T04:34:46.691053Z",
     "shell.execute_reply": "2020-08-24T04:34:46.689948Z"
    },
    "papermill": {
     "duration": 0.291519,
     "end_time": "2020-08-24T04:34:46.691178",
     "exception": false,
     "start_time": "2020-08-24T04:34:46.399659",
     "status": "completed"
    },
    "tags": []
   },
   "outputs": [],
   "source": [
    "# Inputs for df that will feed training model\n",
    "sample_size = 10616\n",
    "df = file_info.sample(sample_size)\n",
    "\n",
    "train_folds = []\n",
    "test_folds = []\n",
    "\n",
    "\n",
    "# Creating excel files that will upload the correct portions of sample dataset to respect fold sequencings/orders\n",
    "for i in range(num_folds):\n",
    "    # grab non_fold entries\n",
    "    train_set = df[df.fold==i]\n",
    "    \n",
    "    # define valid size and dataframes according to non-fold sample df length\n",
    "    test_set = df[df.fold!=i]\n",
    "    \n",
    "    train_set.to_csv('train_fold_' + str(i) + \".csv\", sep=\",\", index=False)\n",
    "    test_set.to_csv('test_fold_' + str(i) + \".csv\", sep=\",\", index=False)"
   ]
  },
  {
   "cell_type": "markdown",
   "execution_count": null,
   "metadata": {
    "papermill": {
     "duration": 0.008056,
     "end_time": "2020-08-24T04:34:46.707638",
     "exception": false,
     "start_time": "2020-08-24T04:34:46.699582",
     "status": "completed"
    },
    "tags": []
   },
   "source": [
    "# Building model, training, validating, and k-fold"
   ]
  },
  {
   "cell_type": "code",
   "execution_count": 6,
   "metadata": {
    "execution": {
     "iopub.execute_input": "2020-08-24T04:34:46.733880Z",
     "iopub.status.busy": "2020-08-24T04:34:46.733254Z",
     "iopub.status.idle": "2020-08-24T04:34:53.742041Z",
     "shell.execute_reply": "2020-08-24T04:34:53.741263Z"
    },
    "papermill": {
     "duration": 7.026354,
     "end_time": "2020-08-24T04:34:53.742166",
     "exception": false,
     "start_time": "2020-08-24T04:34:46.715812",
     "status": "completed"
    },
    "tags": []
   },
   "outputs": [
    {
     "name": "stderr",
     "output_type": "stream",
     "text": [
      "Downloading: \"https://github.com/lukemelas/EfficientNet-PyTorch/releases/download/1.0/efficientnet-b4-6ed6700e.pth\" to /root/.cache/torch/checkpoints/efficientnet-b4-6ed6700e.pth\n"
     ]
    },
    {
     "data": {
      "application/vnd.jupyter.widget-view+json": {
       "model_id": "967e66f0db564186ad5cc87a99867866",
       "version_major": 2,
       "version_minor": 0
      },
      "text/plain": [
       "HBox(children=(FloatProgress(value=0.0, max=77999237.0), HTML(value='')))"
      ]
     },
     "metadata": {},
     "output_type": "display_data"
    },
    {
     "name": "stdout",
     "output_type": "stream",
     "text": [
      "\n",
      "Loaded pretrained weights for efficientnet-b4\n"
     ]
    }
   ],
   "source": [
    "# Uploading model\n",
    "model = EfficientNet.from_pretrained('efficientnet-b4', num_classes=6)\n",
    "model._fc = nn.Sequential(nn.Linear(model._fc.in_features, 216),\n",
    "                          nn.ReLU(),\n",
    "                          nn.Linear(216, 36, bias=True),\n",
    "                          nn.ReLU(),\n",
    "                          nn.Linear(36, 6, bias=True),\n",
    "                          nn.LogSoftmax(dim=1))\n",
    "\n",
    "# Criterion and optimzer\n",
    "criterion = nn.NLLLoss()\n",
    "optimizer = optim.Adam(model.parameters(), lr=0.001)\n",
    "\n",
    "# Use GPU if available\n",
    "device = torch.device(\"cuda\" if torch.cuda.is_available() else \"cpu\")\n",
    "torch.set_default_tensor_type(torch.cuda.FloatTensor)\n",
    "\n",
    "if torch.cuda.is_available():\n",
    "    model = model.cuda()\n"
   ]
  },
  {
   "cell_type": "code",
   "execution_count": 7,
   "metadata": {
    "execution": {
     "iopub.execute_input": "2020-08-24T04:34:53.770601Z",
     "iopub.status.busy": "2020-08-24T04:34:53.768586Z",
     "iopub.status.idle": "2020-08-24T04:34:53.771269Z",
     "shell.execute_reply": "2020-08-24T04:34:53.771737Z"
    },
    "papermill": {
     "duration": 0.01967,
     "end_time": "2020-08-24T04:34:53.771852",
     "exception": false,
     "start_time": "2020-08-24T04:34:53.752182",
     "status": "completed"
    },
    "tags": []
   },
   "outputs": [],
   "source": [
    "# Build validation and accuracy function\n",
    "def validate_data_function(model, test_loader, criterion):\n",
    "    test_loss = 0\n",
    "    accuracy = 0\n",
    "    \n",
    "    for ii, (inputs, labels, image_id) in enumerate(test_loader):\n",
    "        \n",
    "        inputs, labels = inputs.to(device), labels.to(device)\n",
    "        \n",
    "        output = model.forward(inputs)\n",
    "        test_loss += criterion(output,labels.long())#.item()\n",
    "        \n",
    "        #ps = torch.exp(output)\n",
    "        #equality = (labels.argmax(dim=1) == output.argmax(dim=1))\n",
    "        equality = (labels == output.argmax(dim=1))\n",
    "        accuracy += equality.type(torch.FloatTensor).mean()\n",
    "        #pred = output.cpu().data.numpy().argmax()\n",
    "        #qwk = cohen_kappa_score(pred, labels, weights='quadratic')\n",
    "    \n",
    "    return test_loss, accuracy, image_id"
   ]
  },
  {
   "cell_type": "code",
   "execution_count": 8,
   "metadata": {
    "execution": {
     "iopub.execute_input": "2020-08-24T04:34:53.804185Z",
     "iopub.status.busy": "2020-08-24T04:34:53.803251Z",
     "iopub.status.idle": "2020-08-24T04:34:53.806251Z",
     "shell.execute_reply": "2020-08-24T04:34:53.806763Z"
    },
    "papermill": {
     "duration": 0.026718,
     "end_time": "2020-08-24T04:34:53.806908",
     "exception": false,
     "start_time": "2020-08-24T04:34:53.780190",
     "status": "completed"
    },
    "tags": []
   },
   "outputs": [],
   "source": [
    "# Build standalone training model\n",
    "def train_model(epochs, model, train_loader, device, optimizer, criterion, print_every, valid_loader, fold):\n",
    "    steps = 0\n",
    "    test_loss = 0\n",
    "    \n",
    "    for epoch in range(epochs):\n",
    "        model.train()\n",
    "        running_loss = 0\n",
    "        \n",
    "        for ii, (inputs, labels, image_id) in enumerate(train_loader):\n",
    "            steps += 1\n",
    "        \n",
    "            inputs, labels = inputs.to(device), labels.to(device)\n",
    "        \n",
    "            optimizer.zero_grad()\n",
    "        \n",
    "       \n",
    "            outputs = model.forward(inputs)\n",
    "            loss = criterion(outputs, labels.long())\n",
    "            loss.backward()\n",
    "            optimizer.step()\n",
    "        \n",
    "            running_loss += loss.item()\n",
    "        \n",
    "            if steps % print_every == 0:\n",
    "                model.eval()\n",
    "\n",
    "                with torch.no_grad():\n",
    "                    valid_loss, accuracy, image_id = validate_data_function(model, test_loader, criterion)\n",
    "            \n",
    "                print(f\"Fold: {fold}..| \"\n",
    "                      f\"Epoch: {epoch+1}/{epochs}..| \"\n",
    "                      f\"Train loss: {running_loss/print_every:.3f}..| \"\n",
    "                      f\"Validation loss: {valid_loss/print_every:.3f}..| \"                  \n",
    "                      f\"Validation accuracy: {accuracy/len(valid_loader):.3f}|\"\n",
    "                     )\n",
    "            \n",
    "                running_loss = 0\n",
    "                model.train()\n",
    "    \n",
    "        # saving model to new paths corresponding to folds\n",
    "        model_path_prefix = 'model_fold_' \n",
    "        path = model_path_prefix + str(fold) + '.pth'\n",
    "        torch.save({\n",
    "            'classifier_state_dict': model._fc.state_dict(),\n",
    "            'epoch': epoch,\n",
    "            'model_state_dict': model.state_dict(),\n",
    "            'optimizer_state_dict': optimizer.state_dict(),\n",
    "            'loss': loss,\n",
    "            'fold':fold\n",
    "            }, path)\n",
    "    \n",
    "    \n",
    "        model.cuda() # moving model to GPU for further training"
   ]
  },
  {
   "cell_type": "markdown",
   "execution_count": null,
   "metadata": {
    "papermill": {
     "duration": 0.008508,
     "end_time": "2020-08-24T04:34:53.824847",
     "exception": false,
     "start_time": "2020-08-24T04:34:53.816339",
     "status": "completed"
    },
    "tags": []
   },
   "source": [
    "# Performing k-folds training"
   ]
  },
  {
   "cell_type": "code",
   "execution_count": 9,
   "metadata": {
    "execution": {
     "iopub.execute_input": "2020-08-24T04:34:53.850573Z",
     "iopub.status.busy": "2020-08-24T04:34:53.849778Z",
     "iopub.status.idle": "2020-08-24T10:17:09.639710Z",
     "shell.execute_reply": "2020-08-24T10:17:09.638864Z"
    },
    "papermill": {
     "duration": 20535.806563,
     "end_time": "2020-08-24T10:17:09.639860",
     "exception": false,
     "start_time": "2020-08-24T04:34:53.833297",
     "status": "completed"
    },
    "tags": []
   },
   "outputs": [
    {
     "name": "stdout",
     "output_type": "stream",
     "text": [
      "Fold: 0..| Epoch: 1/5..| Train loss: 1.669..| Validation loss: 24.570..| Validation accuracy: 0.313|\n",
      "Fold: 0..| Epoch: 1/5..| Train loss: 1.642..| Validation loss: 15.030..| Validation accuracy: 0.339|\n",
      "Fold: 0..| Epoch: 2/5..| Train loss: 1.338..| Validation loss: 13.051..| Validation accuracy: 0.366|\n",
      "Fold: 0..| Epoch: 2/5..| Train loss: 1.566..| Validation loss: 13.642..| Validation accuracy: 0.365|\n",
      "Fold: 0..| Epoch: 3/5..| Train loss: 1.122..| Validation loss: 17.919..| Validation accuracy: 0.393|\n",
      "Fold: 0..| Epoch: 3/5..| Train loss: 1.510..| Validation loss: 23.572..| Validation accuracy: 0.265|\n",
      "Fold: 0..| Epoch: 4/5..| Train loss: 0.894..| Validation loss: 12.172..| Validation accuracy: 0.438|\n",
      "Fold: 0..| Epoch: 4/5..| Train loss: 1.409..| Validation loss: 248.571..| Validation accuracy: 0.357|\n",
      "Fold: 0..| Epoch: 5/5..| Train loss: 0.672..| Validation loss: 15.264..| Validation accuracy: 0.376|\n",
      "Fold: 0..| Epoch: 5/5..| Train loss: 1.374..| Validation loss: 15.476..| Validation accuracy: 0.386|\n",
      "Fold: 1..| Epoch: 1/5..| Train loss: 1.392..| Validation loss: 12.491..| Validation accuracy: 0.483|\n",
      "Fold: 1..| Epoch: 1/5..| Train loss: 1.374..| Validation loss: 12.222..| Validation accuracy: 0.450|\n",
      "Fold: 1..| Epoch: 2/5..| Train loss: 1.135..| Validation loss: 11.071..| Validation accuracy: 0.496|\n",
      "Fold: 1..| Epoch: 2/5..| Train loss: 1.299..| Validation loss: 37.345..| Validation accuracy: 0.470|\n",
      "Fold: 1..| Epoch: 3/5..| Train loss: 0.915..| Validation loss: 18.101..| Validation accuracy: 0.441|\n",
      "Fold: 1..| Epoch: 3/5..| Train loss: 1.334..| Validation loss: 10.674..| Validation accuracy: 0.476|\n",
      "Fold: 1..| Epoch: 4/5..| Train loss: 0.737..| Validation loss: 14.951..| Validation accuracy: 0.464|\n",
      "Fold: 1..| Epoch: 4/5..| Train loss: 1.247..| Validation loss: 11.939..| Validation accuracy: 0.515|\n",
      "Fold: 1..| Epoch: 5/5..| Train loss: 0.551..| Validation loss: 26.422..| Validation accuracy: 0.494|\n",
      "Fold: 1..| Epoch: 5/5..| Train loss: 1.164..| Validation loss: 21.685..| Validation accuracy: 0.466|\n",
      "Fold: 2..| Epoch: 1/5..| Train loss: 1.354..| Validation loss: 10.927..| Validation accuracy: 0.488|\n",
      "Fold: 2..| Epoch: 1/5..| Train loss: 1.266..| Validation loss: 10.625..| Validation accuracy: 0.529|\n",
      "Fold: 2..| Epoch: 2/5..| Train loss: 1.052..| Validation loss: 10.170..| Validation accuracy: 0.537|\n",
      "Fold: 2..| Epoch: 2/5..| Train loss: 1.238..| Validation loss: 14.895..| Validation accuracy: 0.476|\n",
      "Fold: 2..| Epoch: 3/5..| Train loss: 0.882..| Validation loss: 14.825..| Validation accuracy: 0.458|\n",
      "Fold: 2..| Epoch: 3/5..| Train loss: 1.196..| Validation loss: 10.865..| Validation accuracy: 0.516|\n",
      "Fold: 2..| Epoch: 4/5..| Train loss: 0.667..| Validation loss: 11.869..| Validation accuracy: 0.493|\n",
      "Fold: 2..| Epoch: 4/5..| Train loss: 1.112..| Validation loss: 11.273..| Validation accuracy: 0.489|\n",
      "Fold: 2..| Epoch: 5/5..| Train loss: 0.484..| Validation loss: 12.293..| Validation accuracy: 0.495|\n",
      "Fold: 2..| Epoch: 5/5..| Train loss: 1.080..| Validation loss: 10.598..| Validation accuracy: 0.540|\n",
      "Fold: 3..| Epoch: 1/5..| Train loss: 1.317..| Validation loss: 9.528..| Validation accuracy: 0.549|\n",
      "Fold: 3..| Epoch: 1/5..| Train loss: 1.262..| Validation loss: 10.892..| Validation accuracy: 0.461|\n",
      "Fold: 3..| Epoch: 2/5..| Train loss: 0.978..| Validation loss: 12.497..| Validation accuracy: 0.494|\n",
      "Fold: 3..| Epoch: 2/5..| Train loss: 1.223..| Validation loss: 9.446..| Validation accuracy: 0.560|\n",
      "Fold: 3..| Epoch: 3/5..| Train loss: 0.775..| Validation loss: 9.824..| Validation accuracy: 0.552|\n",
      "Fold: 3..| Epoch: 3/5..| Train loss: 1.136..| Validation loss: 9.816..| Validation accuracy: 0.531|\n",
      "Fold: 3..| Epoch: 4/5..| Train loss: 0.635..| Validation loss: 10.432..| Validation accuracy: 0.542|\n",
      "Fold: 3..| Epoch: 4/5..| Train loss: 1.088..| Validation loss: 11.778..| Validation accuracy: 0.471|\n",
      "Fold: 3..| Epoch: 5/5..| Train loss: 0.467..| Validation loss: 10.593..| Validation accuracy: 0.543|\n",
      "Fold: 3..| Epoch: 5/5..| Train loss: 1.040..| Validation loss: 11.340..| Validation accuracy: 0.501|\n",
      "Fold: 4..| Epoch: 1/5..| Train loss: 1.333..| Validation loss: 8.915..| Validation accuracy: 0.587|\n",
      "Fold: 4..| Epoch: 1/5..| Train loss: 1.262..| Validation loss: 9.345..| Validation accuracy: 0.570|\n",
      "Fold: 4..| Epoch: 2/5..| Train loss: 1.001..| Validation loss: 10.278..| Validation accuracy: 0.492|\n",
      "Fold: 4..| Epoch: 2/5..| Train loss: 1.165..| Validation loss: 9.580..| Validation accuracy: 0.552|\n",
      "Fold: 4..| Epoch: 3/5..| Train loss: 0.801..| Validation loss: 9.356..| Validation accuracy: 0.563|\n",
      "Fold: 4..| Epoch: 3/5..| Train loss: 1.062..| Validation loss: 10.384..| Validation accuracy: 0.519|\n",
      "Fold: 4..| Epoch: 4/5..| Train loss: 0.599..| Validation loss: 9.619..| Validation accuracy: 0.558|\n",
      "Fold: 4..| Epoch: 4/5..| Train loss: 1.005..| Validation loss: 10.199..| Validation accuracy: 0.543|\n",
      "Fold: 4..| Epoch: 5/5..| Train loss: 0.435..| Validation loss: 10.234..| Validation accuracy: 0.550|\n",
      "Fold: 4..| Epoch: 5/5..| Train loss: 0.918..| Validation loss: 10.271..| Validation accuracy: 0.540|\n"
     ]
    }
   ],
   "source": [
    "num_folds = num_folds\n",
    "epochs = 5\n",
    "print_every = 200\n",
    "\n",
    "for i in range(num_folds):\n",
    "    # loading datasets in k_fold fashion pd.read_csv('./test_fold_3.csv')\n",
    "    train_set = load_csv(csv_file=train_fold_path + str(i) + '.csv', root_dir=img_dir)\n",
    "    test_set = load_csv(csv_file=test_fold_path + str(i) + '.csv', root_dir=img_dir)\n",
    "     \n",
    "    # creating data loaders\n",
    "    train_loader = torch.utils.data.DataLoader(train_set, batch_size=5, shuffle=True)\n",
    "    test_loader = torch.utils.data.DataLoader(test_set, batch_size=5, shuffle=True)\n",
    "    \n",
    "    \n",
    "    #train models across all folds\n",
    "    model.eval()\n",
    "    train_model(epochs, model, train_loader, device, optimizer, criterion, print_every, test_loader, fold=i)   "
   ]
  },
  {
   "cell_type": "markdown",
   "execution_count": null,
   "metadata": {
    "papermill": {
     "duration": 0.012326,
     "end_time": "2020-08-24T10:17:09.664298",
     "exception": false,
     "start_time": "2020-08-24T10:17:09.651972",
     "status": "completed"
    },
    "tags": []
   },
   "source": []
  },
  {
   "cell_type": "code",
   "execution_count": null,
   "metadata": {
    "papermill": {
     "duration": 0.011285,
     "end_time": "2020-08-24T10:17:09.686713",
     "exception": false,
     "start_time": "2020-08-24T10:17:09.675428",
     "status": "completed"
    },
    "tags": []
   },
   "outputs": [],
   "source": [
    "\n",
    "\n"
   ]
  },
  {
   "cell_type": "code",
   "execution_count": null,
   "metadata": {
    "papermill": {
     "duration": 0.012434,
     "end_time": "2020-08-24T10:17:09.710657",
     "exception": false,
     "start_time": "2020-08-24T10:17:09.698223",
     "status": "completed"
    },
    "tags": []
   },
   "outputs": [],
   "source": []
  },
  {
   "cell_type": "code",
   "execution_count": null,
   "metadata": {
    "papermill": {
     "duration": 0.011186,
     "end_time": "2020-08-24T10:17:09.733707",
     "exception": false,
     "start_time": "2020-08-24T10:17:09.722521",
     "status": "completed"
    },
    "tags": []
   },
   "outputs": [],
   "source": []
  },
  {
   "cell_type": "code",
   "execution_count": null,
   "metadata": {
    "papermill": {
     "duration": 0.010905,
     "end_time": "2020-08-24T10:17:09.756263",
     "exception": false,
     "start_time": "2020-08-24T10:17:09.745358",
     "status": "completed"
    },
    "tags": []
   },
   "outputs": [],
   "source": []
  },
  {
   "cell_type": "code",
   "execution_count": null,
   "metadata": {
    "papermill": {
     "duration": 0.014998,
     "end_time": "2020-08-24T10:17:09.782710",
     "exception": false,
     "start_time": "2020-08-24T10:17:09.767712",
     "status": "completed"
    },
    "tags": []
   },
   "outputs": [],
   "source": []
  },
  {
   "cell_type": "code",
   "execution_count": null,
   "metadata": {
    "papermill": {
     "duration": 0.014705,
     "end_time": "2020-08-24T10:17:09.811826",
     "exception": false,
     "start_time": "2020-08-24T10:17:09.797121",
     "status": "completed"
    },
    "tags": []
   },
   "outputs": [],
   "source": []
  },
  {
   "cell_type": "code",
   "execution_count": null,
   "metadata": {
    "papermill": {
     "duration": 0.015608,
     "end_time": "2020-08-24T10:17:09.843728",
     "exception": false,
     "start_time": "2020-08-24T10:17:09.828120",
     "status": "completed"
    },
    "tags": []
   },
   "outputs": [],
   "source": []
  },
  {
   "cell_type": "code",
   "execution_count": 10,
   "metadata": {
    "execution": {
     "iopub.execute_input": "2020-08-24T10:17:09.882860Z",
     "iopub.status.busy": "2020-08-24T10:17:09.878884Z",
     "iopub.status.idle": "2020-08-24T10:17:10.141776Z",
     "shell.execute_reply": "2020-08-24T10:17:10.142974Z"
    },
    "papermill": {
     "duration": 0.283797,
     "end_time": "2020-08-24T10:17:10.143186",
     "exception": false,
     "start_time": "2020-08-24T10:17:09.859389",
     "status": "completed"
    },
    "tags": []
   },
   "outputs": [
    {
     "ename": "NameError",
     "evalue": "name 'k_models_average_pred' is not defined",
     "output_type": "error",
     "traceback": [
      "\u001b[0;31m---------------------------------------------------------------------------\u001b[0m",
      "\u001b[0;31mNameError\u001b[0m                                 Traceback (most recent call last)",
      "\u001b[0;32m<ipython-input-10-070d62224205>\u001b[0m in \u001b[0;36m<module>\u001b[0;34m\u001b[0m\n\u001b[0;32m----> 1\u001b[0;31m \u001b[0mk_models_average_pred\u001b[0m\u001b[0;34m(\u001b[0m\u001b[0mnum_folds\u001b[0m\u001b[0;34m,\u001b[0m \u001b[0mmodel\u001b[0m\u001b[0;34m)\u001b[0m\u001b[0;34m\u001b[0m\u001b[0;34m\u001b[0m\u001b[0m\n\u001b[0m",
      "\u001b[0;31mNameError\u001b[0m: name 'k_models_average_pred' is not defined"
     ]
    }
   ],
   "source": [
    "k_models_average_pred(num_folds, model)"
   ]
  },
  {
   "cell_type": "code",
   "execution_count": 11,
   "metadata": {
    "execution": {
     "iopub.execute_input": "2020-08-24T10:17:10.187696Z",
     "iopub.status.busy": "2020-08-24T10:17:10.186811Z",
     "iopub.status.idle": "2020-08-24T10:17:10.210580Z",
     "shell.execute_reply": "2020-08-24T10:17:10.211575Z"
    },
    "papermill": {
     "duration": 0.050734,
     "end_time": "2020-08-24T10:17:10.211734",
     "exception": false,
     "start_time": "2020-08-24T10:17:10.161000",
     "status": "completed"
    },
    "tags": []
   },
   "outputs": [
    {
     "ename": "NameError",
     "evalue": "name 'entire_set_loader' is not defined",
     "output_type": "error",
     "traceback": [
      "\u001b[0;31m---------------------------------------------------------------------------\u001b[0m",
      "\u001b[0;31mNameError\u001b[0m                                 Traceback (most recent call last)",
      "\u001b[0;32m<ipython-input-11-e7d3c97d2b99>\u001b[0m in \u001b[0;36m<module>\u001b[0;34m\u001b[0m\n\u001b[1;32m      5\u001b[0m \u001b[0;34m\u001b[0m\u001b[0m\n\u001b[1;32m      6\u001b[0m \u001b[0;34m\u001b[0m\u001b[0m\n\u001b[0;32m----> 7\u001b[0;31m \u001b[0;32mfor\u001b[0m \u001b[0mii2\u001b[0m\u001b[0;34m,\u001b[0m \u001b[0;34m(\u001b[0m\u001b[0minputs2\u001b[0m\u001b[0;34m,\u001b[0m \u001b[0mlabels2\u001b[0m\u001b[0;34m,\u001b[0m \u001b[0mimage_id2\u001b[0m\u001b[0;34m)\u001b[0m \u001b[0;32min\u001b[0m \u001b[0menumerate\u001b[0m\u001b[0;34m(\u001b[0m\u001b[0mentire_set_loader\u001b[0m\u001b[0;34m)\u001b[0m\u001b[0;34m:\u001b[0m\u001b[0;34m\u001b[0m\u001b[0;34m\u001b[0m\u001b[0m\n\u001b[0m\u001b[1;32m      8\u001b[0m \u001b[0;34m\u001b[0m\u001b[0m\n\u001b[1;32m      9\u001b[0m         \u001b[0minputs2\u001b[0m\u001b[0;34m,\u001b[0m \u001b[0mlabels2\u001b[0m \u001b[0;34m=\u001b[0m \u001b[0minputs2\u001b[0m\u001b[0;34m.\u001b[0m\u001b[0mto\u001b[0m\u001b[0;34m(\u001b[0m\u001b[0mdevice\u001b[0m\u001b[0;34m)\u001b[0m\u001b[0;34m,\u001b[0m \u001b[0mlabels2\u001b[0m\u001b[0;34m.\u001b[0m\u001b[0mto\u001b[0m\u001b[0;34m(\u001b[0m\u001b[0mdevice\u001b[0m\u001b[0;34m)\u001b[0m\u001b[0;34m\u001b[0m\u001b[0;34m\u001b[0m\u001b[0m\n",
      "\u001b[0;31mNameError\u001b[0m: name 'entire_set_loader' is not defined"
     ]
    }
   ],
   "source": [
    "model.eval()\n",
    "    \n",
    "image_id_excel = []\n",
    "pred_y_excel = []\n",
    "\n",
    "\n",
    "for ii2, (inputs2, labels2, image_id2) in enumerate(entire_set_loader):\n",
    "        \n",
    "        inputs2, labels2 = inputs2.to(device), labels2.to(device)\n",
    "        \n",
    "        output2 = model.forward(inputs2)\n",
    "        pred_y2 = output2.argmax(dim=1)\n",
    "        image_id2 = str(image_id2[0])\n",
    "        #image_id2.replace(\"('\",\"\")\n",
    "        #image_id2.replace(\"',)/\",\"\")    \n",
    "        image_id_excel.append(str(image_id2))\n",
    "        pred_y_excel.append(int(pred_y2))\n",
    "\n",
    "submission = pd.DataFrame({'image_id':image_id_excel, 'isup_grade':pred_y_excel})\n"
   ]
  },
  {
   "cell_type": "code",
   "execution_count": 12,
   "metadata": {
    "execution": {
     "iopub.execute_input": "2020-08-24T10:17:10.253326Z",
     "iopub.status.busy": "2020-08-24T10:17:10.252421Z",
     "iopub.status.idle": "2020-08-24T10:17:10.270215Z",
     "shell.execute_reply": "2020-08-24T10:17:10.271313Z"
    },
    "papermill": {
     "duration": 0.043885,
     "end_time": "2020-08-24T10:17:10.271493",
     "exception": false,
     "start_time": "2020-08-24T10:17:10.227608",
     "status": "completed"
    },
    "tags": []
   },
   "outputs": [
    {
     "ename": "NameError",
     "evalue": "name 'submission' is not defined",
     "output_type": "error",
     "traceback": [
      "\u001b[0;31m---------------------------------------------------------------------------\u001b[0m",
      "\u001b[0;31mNameError\u001b[0m                                 Traceback (most recent call last)",
      "\u001b[0;32m<ipython-input-12-f43559195d1f>\u001b[0m in \u001b[0;36m<module>\u001b[0;34m\u001b[0m\n\u001b[0;32m----> 1\u001b[0;31m \u001b[0msubmission\u001b[0m\u001b[0;34m.\u001b[0m\u001b[0mto_csv\u001b[0m\u001b[0;34m(\u001b[0m\u001b[0;34m\"submission.csv\"\u001b[0m\u001b[0;34m,\u001b[0m \u001b[0msep\u001b[0m\u001b[0;34m=\u001b[0m\u001b[0;34m\",\"\u001b[0m\u001b[0;34m,\u001b[0m \u001b[0mindex\u001b[0m\u001b[0;34m=\u001b[0m\u001b[0;32mFalse\u001b[0m\u001b[0;34m)\u001b[0m\u001b[0;34m\u001b[0m\u001b[0;34m\u001b[0m\u001b[0m\n\u001b[0m",
      "\u001b[0;31mNameError\u001b[0m: name 'submission' is not defined"
     ]
    }
   ],
   "source": [
    "submission.to_csv(\"submission.csv\", sep=\",\", index=False)"
   ]
  },
  {
   "cell_type": "code",
   "execution_count": 13,
   "metadata": {
    "execution": {
     "iopub.execute_input": "2020-08-24T10:17:10.313920Z",
     "iopub.status.busy": "2020-08-24T10:17:10.313168Z",
     "iopub.status.idle": "2020-08-24T10:17:10.458765Z",
     "shell.execute_reply": "2020-08-24T10:17:10.458253Z"
    },
    "papermill": {
     "duration": 0.170094,
     "end_time": "2020-08-24T10:17:10.458878",
     "exception": false,
     "start_time": "2020-08-24T10:17:10.288784",
     "status": "completed"
    },
    "tags": []
   },
   "outputs": [
    {
     "ename": "FileNotFoundError",
     "evalue": "[Errno 2] No such file or directory: 'submission.csv'",
     "output_type": "error",
     "traceback": [
      "\u001b[0;31m---------------------------------------------------------------------------\u001b[0m",
      "\u001b[0;31mFileNotFoundError\u001b[0m                         Traceback (most recent call last)",
      "\u001b[0;32m<ipython-input-13-be774dd58c67>\u001b[0m in \u001b[0;36m<module>\u001b[0;34m\u001b[0m\n\u001b[0;32m----> 1\u001b[0;31m \u001b[0msubmission_view\u001b[0m \u001b[0;34m=\u001b[0m \u001b[0mpd\u001b[0m\u001b[0;34m.\u001b[0m\u001b[0mread_csv\u001b[0m\u001b[0;34m(\u001b[0m\u001b[0;34m'submission.csv'\u001b[0m\u001b[0;34m)\u001b[0m\u001b[0;34m.\u001b[0m\u001b[0mcopy\u001b[0m\u001b[0;34m(\u001b[0m\u001b[0;34m)\u001b[0m\u001b[0;34m\u001b[0m\u001b[0;34m\u001b[0m\u001b[0m\n\u001b[0m\u001b[1;32m      2\u001b[0m \u001b[0msubmission_view\u001b[0m\u001b[0;34m\u001b[0m\u001b[0;34m\u001b[0m\u001b[0m\n",
      "\u001b[0;32m/opt/conda/lib/python3.7/site-packages/pandas/io/parsers.py\u001b[0m in \u001b[0;36mread_csv\u001b[0;34m(filepath_or_buffer, sep, delimiter, header, names, index_col, usecols, squeeze, prefix, mangle_dupe_cols, dtype, engine, converters, true_values, false_values, skipinitialspace, skiprows, skipfooter, nrows, na_values, keep_default_na, na_filter, verbose, skip_blank_lines, parse_dates, infer_datetime_format, keep_date_col, date_parser, dayfirst, cache_dates, iterator, chunksize, compression, thousands, decimal, lineterminator, quotechar, quoting, doublequote, escapechar, comment, encoding, dialect, error_bad_lines, warn_bad_lines, delim_whitespace, low_memory, memory_map, float_precision)\u001b[0m\n\u001b[1;32m    684\u001b[0m     )\n\u001b[1;32m    685\u001b[0m \u001b[0;34m\u001b[0m\u001b[0m\n\u001b[0;32m--> 686\u001b[0;31m     \u001b[0;32mreturn\u001b[0m \u001b[0m_read\u001b[0m\u001b[0;34m(\u001b[0m\u001b[0mfilepath_or_buffer\u001b[0m\u001b[0;34m,\u001b[0m \u001b[0mkwds\u001b[0m\u001b[0;34m)\u001b[0m\u001b[0;34m\u001b[0m\u001b[0;34m\u001b[0m\u001b[0m\n\u001b[0m\u001b[1;32m    687\u001b[0m \u001b[0;34m\u001b[0m\u001b[0m\n\u001b[1;32m    688\u001b[0m \u001b[0;34m\u001b[0m\u001b[0m\n",
      "\u001b[0;32m/opt/conda/lib/python3.7/site-packages/pandas/io/parsers.py\u001b[0m in \u001b[0;36m_read\u001b[0;34m(filepath_or_buffer, kwds)\u001b[0m\n\u001b[1;32m    450\u001b[0m \u001b[0;34m\u001b[0m\u001b[0m\n\u001b[1;32m    451\u001b[0m     \u001b[0;31m# Create the parser.\u001b[0m\u001b[0;34m\u001b[0m\u001b[0;34m\u001b[0m\u001b[0;34m\u001b[0m\u001b[0m\n\u001b[0;32m--> 452\u001b[0;31m     \u001b[0mparser\u001b[0m \u001b[0;34m=\u001b[0m \u001b[0mTextFileReader\u001b[0m\u001b[0;34m(\u001b[0m\u001b[0mfp_or_buf\u001b[0m\u001b[0;34m,\u001b[0m \u001b[0;34m**\u001b[0m\u001b[0mkwds\u001b[0m\u001b[0;34m)\u001b[0m\u001b[0;34m\u001b[0m\u001b[0;34m\u001b[0m\u001b[0m\n\u001b[0m\u001b[1;32m    453\u001b[0m \u001b[0;34m\u001b[0m\u001b[0m\n\u001b[1;32m    454\u001b[0m     \u001b[0;32mif\u001b[0m \u001b[0mchunksize\u001b[0m \u001b[0;32mor\u001b[0m \u001b[0miterator\u001b[0m\u001b[0;34m:\u001b[0m\u001b[0;34m\u001b[0m\u001b[0;34m\u001b[0m\u001b[0m\n",
      "\u001b[0;32m/opt/conda/lib/python3.7/site-packages/pandas/io/parsers.py\u001b[0m in \u001b[0;36m__init__\u001b[0;34m(self, f, engine, **kwds)\u001b[0m\n\u001b[1;32m    934\u001b[0m             \u001b[0mself\u001b[0m\u001b[0;34m.\u001b[0m\u001b[0moptions\u001b[0m\u001b[0;34m[\u001b[0m\u001b[0;34m\"has_index_names\"\u001b[0m\u001b[0;34m]\u001b[0m \u001b[0;34m=\u001b[0m \u001b[0mkwds\u001b[0m\u001b[0;34m[\u001b[0m\u001b[0;34m\"has_index_names\"\u001b[0m\u001b[0;34m]\u001b[0m\u001b[0;34m\u001b[0m\u001b[0;34m\u001b[0m\u001b[0m\n\u001b[1;32m    935\u001b[0m \u001b[0;34m\u001b[0m\u001b[0m\n\u001b[0;32m--> 936\u001b[0;31m         \u001b[0mself\u001b[0m\u001b[0;34m.\u001b[0m\u001b[0m_make_engine\u001b[0m\u001b[0;34m(\u001b[0m\u001b[0mself\u001b[0m\u001b[0;34m.\u001b[0m\u001b[0mengine\u001b[0m\u001b[0;34m)\u001b[0m\u001b[0;34m\u001b[0m\u001b[0;34m\u001b[0m\u001b[0m\n\u001b[0m\u001b[1;32m    937\u001b[0m \u001b[0;34m\u001b[0m\u001b[0m\n\u001b[1;32m    938\u001b[0m     \u001b[0;32mdef\u001b[0m \u001b[0mclose\u001b[0m\u001b[0;34m(\u001b[0m\u001b[0mself\u001b[0m\u001b[0;34m)\u001b[0m\u001b[0;34m:\u001b[0m\u001b[0;34m\u001b[0m\u001b[0;34m\u001b[0m\u001b[0m\n",
      "\u001b[0;32m/opt/conda/lib/python3.7/site-packages/pandas/io/parsers.py\u001b[0m in \u001b[0;36m_make_engine\u001b[0;34m(self, engine)\u001b[0m\n\u001b[1;32m   1166\u001b[0m     \u001b[0;32mdef\u001b[0m \u001b[0m_make_engine\u001b[0m\u001b[0;34m(\u001b[0m\u001b[0mself\u001b[0m\u001b[0;34m,\u001b[0m \u001b[0mengine\u001b[0m\u001b[0;34m=\u001b[0m\u001b[0;34m\"c\"\u001b[0m\u001b[0;34m)\u001b[0m\u001b[0;34m:\u001b[0m\u001b[0;34m\u001b[0m\u001b[0;34m\u001b[0m\u001b[0m\n\u001b[1;32m   1167\u001b[0m         \u001b[0;32mif\u001b[0m \u001b[0mengine\u001b[0m \u001b[0;34m==\u001b[0m \u001b[0;34m\"c\"\u001b[0m\u001b[0;34m:\u001b[0m\u001b[0;34m\u001b[0m\u001b[0;34m\u001b[0m\u001b[0m\n\u001b[0;32m-> 1168\u001b[0;31m             \u001b[0mself\u001b[0m\u001b[0;34m.\u001b[0m\u001b[0m_engine\u001b[0m \u001b[0;34m=\u001b[0m \u001b[0mCParserWrapper\u001b[0m\u001b[0;34m(\u001b[0m\u001b[0mself\u001b[0m\u001b[0;34m.\u001b[0m\u001b[0mf\u001b[0m\u001b[0;34m,\u001b[0m \u001b[0;34m**\u001b[0m\u001b[0mself\u001b[0m\u001b[0;34m.\u001b[0m\u001b[0moptions\u001b[0m\u001b[0;34m)\u001b[0m\u001b[0;34m\u001b[0m\u001b[0;34m\u001b[0m\u001b[0m\n\u001b[0m\u001b[1;32m   1169\u001b[0m         \u001b[0;32melse\u001b[0m\u001b[0;34m:\u001b[0m\u001b[0;34m\u001b[0m\u001b[0;34m\u001b[0m\u001b[0m\n\u001b[1;32m   1170\u001b[0m             \u001b[0;32mif\u001b[0m \u001b[0mengine\u001b[0m \u001b[0;34m==\u001b[0m \u001b[0;34m\"python\"\u001b[0m\u001b[0;34m:\u001b[0m\u001b[0;34m\u001b[0m\u001b[0;34m\u001b[0m\u001b[0m\n",
      "\u001b[0;32m/opt/conda/lib/python3.7/site-packages/pandas/io/parsers.py\u001b[0m in \u001b[0;36m__init__\u001b[0;34m(self, src, **kwds)\u001b[0m\n\u001b[1;32m   1996\u001b[0m         \u001b[0mkwds\u001b[0m\u001b[0;34m[\u001b[0m\u001b[0;34m\"usecols\"\u001b[0m\u001b[0;34m]\u001b[0m \u001b[0;34m=\u001b[0m \u001b[0mself\u001b[0m\u001b[0;34m.\u001b[0m\u001b[0musecols\u001b[0m\u001b[0;34m\u001b[0m\u001b[0;34m\u001b[0m\u001b[0m\n\u001b[1;32m   1997\u001b[0m \u001b[0;34m\u001b[0m\u001b[0m\n\u001b[0;32m-> 1998\u001b[0;31m         \u001b[0mself\u001b[0m\u001b[0;34m.\u001b[0m\u001b[0m_reader\u001b[0m \u001b[0;34m=\u001b[0m \u001b[0mparsers\u001b[0m\u001b[0;34m.\u001b[0m\u001b[0mTextReader\u001b[0m\u001b[0;34m(\u001b[0m\u001b[0msrc\u001b[0m\u001b[0;34m,\u001b[0m \u001b[0;34m**\u001b[0m\u001b[0mkwds\u001b[0m\u001b[0;34m)\u001b[0m\u001b[0;34m\u001b[0m\u001b[0;34m\u001b[0m\u001b[0m\n\u001b[0m\u001b[1;32m   1999\u001b[0m         \u001b[0mself\u001b[0m\u001b[0;34m.\u001b[0m\u001b[0munnamed_cols\u001b[0m \u001b[0;34m=\u001b[0m \u001b[0mself\u001b[0m\u001b[0;34m.\u001b[0m\u001b[0m_reader\u001b[0m\u001b[0;34m.\u001b[0m\u001b[0munnamed_cols\u001b[0m\u001b[0;34m\u001b[0m\u001b[0;34m\u001b[0m\u001b[0m\n\u001b[1;32m   2000\u001b[0m \u001b[0;34m\u001b[0m\u001b[0m\n",
      "\u001b[0;32mpandas/_libs/parsers.pyx\u001b[0m in \u001b[0;36mpandas._libs.parsers.TextReader.__cinit__\u001b[0;34m()\u001b[0m\n",
      "\u001b[0;32mpandas/_libs/parsers.pyx\u001b[0m in \u001b[0;36mpandas._libs.parsers.TextReader._setup_parser_source\u001b[0;34m()\u001b[0m\n",
      "\u001b[0;31mFileNotFoundError\u001b[0m: [Errno 2] No such file or directory: 'submission.csv'"
     ]
    }
   ],
   "source": [
    "submission_view = pd.read_csv('submission.csv').copy()\n",
    "submission_view"
   ]
  }
 ],
 "metadata": {
  "kernelspec": {
   "display_name": "Python 3",
   "language": "python",
   "name": "python3"
  },
  "language_info": {
   "codemirror_mode": {
    "name": "ipython",
    "version": 3
   },
   "file_extension": ".py",
   "mimetype": "text/x-python",
   "name": "python",
   "nbconvert_exporter": "python",
   "pygments_lexer": "ipython3",
   "version": "3.7.6"
  },
  "papermill": {
   "duration": 20571.73119,
   "end_time": "2020-08-24T10:17:11.117586",
   "environment_variables": {},
   "exception": null,
   "input_path": "__notebook__.ipynb",
   "output_path": "__notebook__.ipynb",
   "parameters": {},
   "start_time": "2020-08-24T04:34:19.386396",
   "version": "2.1.0"
  },
  "widgets": {
   "application/vnd.jupyter.widget-state+json": {
    "state": {
     "267cc644657847b4ac988485b0da686b": {
      "model_module": "@jupyter-widgets/base",
      "model_module_version": "1.2.0",
      "model_name": "LayoutModel",
      "state": {
       "_model_module": "@jupyter-widgets/base",
       "_model_module_version": "1.2.0",
       "_model_name": "LayoutModel",
       "_view_count": null,
       "_view_module": "@jupyter-widgets/base",
       "_view_module_version": "1.2.0",
       "_view_name": "LayoutView",
       "align_content": null,
       "align_items": null,
       "align_self": null,
       "border": null,
       "bottom": null,
       "display": null,
       "flex": null,
       "flex_flow": null,
       "grid_area": null,
       "grid_auto_columns": null,
       "grid_auto_flow": null,
       "grid_auto_rows": null,
       "grid_column": null,
       "grid_gap": null,
       "grid_row": null,
       "grid_template_areas": null,
       "grid_template_columns": null,
       "grid_template_rows": null,
       "height": null,
       "justify_content": null,
       "justify_items": null,
       "left": null,
       "margin": null,
       "max_height": null,
       "max_width": null,
       "min_height": null,
       "min_width": null,
       "object_fit": null,
       "object_position": null,
       "order": null,
       "overflow": null,
       "overflow_x": null,
       "overflow_y": null,
       "padding": null,
       "right": null,
       "top": null,
       "visibility": null,
       "width": null
      }
     },
     "52e01152dfe040fc980b8ab1a067a0e9": {
      "model_module": "@jupyter-widgets/base",
      "model_module_version": "1.2.0",
      "model_name": "LayoutModel",
      "state": {
       "_model_module": "@jupyter-widgets/base",
       "_model_module_version": "1.2.0",
       "_model_name": "LayoutModel",
       "_view_count": null,
       "_view_module": "@jupyter-widgets/base",
       "_view_module_version": "1.2.0",
       "_view_name": "LayoutView",
       "align_content": null,
       "align_items": null,
       "align_self": null,
       "border": null,
       "bottom": null,
       "display": null,
       "flex": null,
       "flex_flow": null,
       "grid_area": null,
       "grid_auto_columns": null,
       "grid_auto_flow": null,
       "grid_auto_rows": null,
       "grid_column": null,
       "grid_gap": null,
       "grid_row": null,
       "grid_template_areas": null,
       "grid_template_columns": null,
       "grid_template_rows": null,
       "height": null,
       "justify_content": null,
       "justify_items": null,
       "left": null,
       "margin": null,
       "max_height": null,
       "max_width": null,
       "min_height": null,
       "min_width": null,
       "object_fit": null,
       "object_position": null,
       "order": null,
       "overflow": null,
       "overflow_x": null,
       "overflow_y": null,
       "padding": null,
       "right": null,
       "top": null,
       "visibility": null,
       "width": null
      }
     },
     "535fd930a1be4998ba8ff0dac1bcdce2": {
      "model_module": "@jupyter-widgets/controls",
      "model_module_version": "1.5.0",
      "model_name": "ProgressStyleModel",
      "state": {
       "_model_module": "@jupyter-widgets/controls",
       "_model_module_version": "1.5.0",
       "_model_name": "ProgressStyleModel",
       "_view_count": null,
       "_view_module": "@jupyter-widgets/base",
       "_view_module_version": "1.2.0",
       "_view_name": "StyleView",
       "bar_color": null,
       "description_width": "initial"
      }
     },
     "593a62d992b14fff890fc2322562ad0b": {
      "model_module": "@jupyter-widgets/controls",
      "model_module_version": "1.5.0",
      "model_name": "DescriptionStyleModel",
      "state": {
       "_model_module": "@jupyter-widgets/controls",
       "_model_module_version": "1.5.0",
       "_model_name": "DescriptionStyleModel",
       "_view_count": null,
       "_view_module": "@jupyter-widgets/base",
       "_view_module_version": "1.2.0",
       "_view_name": "StyleView",
       "description_width": ""
      }
     },
     "5a6ad9ee13b646358f5d66450cc50fa9": {
      "model_module": "@jupyter-widgets/controls",
      "model_module_version": "1.5.0",
      "model_name": "FloatProgressModel",
      "state": {
       "_dom_classes": [],
       "_model_module": "@jupyter-widgets/controls",
       "_model_module_version": "1.5.0",
       "_model_name": "FloatProgressModel",
       "_view_count": null,
       "_view_module": "@jupyter-widgets/controls",
       "_view_module_version": "1.5.0",
       "_view_name": "ProgressView",
       "bar_style": "success",
       "description": "100%",
       "description_tooltip": null,
       "layout": "IPY_MODEL_abc4e1746c2245529df1a917439febc8",
       "max": 77999237.0,
       "min": 0.0,
       "orientation": "horizontal",
       "style": "IPY_MODEL_535fd930a1be4998ba8ff0dac1bcdce2",
       "value": 77999237.0
      }
     },
     "788e104380b0482bb3919e6c0c451d40": {
      "model_module": "@jupyter-widgets/controls",
      "model_module_version": "1.5.0",
      "model_name": "HTMLModel",
      "state": {
       "_dom_classes": [],
       "_model_module": "@jupyter-widgets/controls",
       "_model_module_version": "1.5.0",
       "_model_name": "HTMLModel",
       "_view_count": null,
       "_view_module": "@jupyter-widgets/controls",
       "_view_module_version": "1.5.0",
       "_view_name": "HTMLView",
       "description": "",
       "description_tooltip": null,
       "layout": "IPY_MODEL_52e01152dfe040fc980b8ab1a067a0e9",
       "placeholder": "​",
       "style": "IPY_MODEL_593a62d992b14fff890fc2322562ad0b",
       "value": " 74.4M/74.4M [00:00&lt;00:00, 110MB/s]"
      }
     },
     "967e66f0db564186ad5cc87a99867866": {
      "model_module": "@jupyter-widgets/controls",
      "model_module_version": "1.5.0",
      "model_name": "HBoxModel",
      "state": {
       "_dom_classes": [],
       "_model_module": "@jupyter-widgets/controls",
       "_model_module_version": "1.5.0",
       "_model_name": "HBoxModel",
       "_view_count": null,
       "_view_module": "@jupyter-widgets/controls",
       "_view_module_version": "1.5.0",
       "_view_name": "HBoxView",
       "box_style": "",
       "children": [
        "IPY_MODEL_5a6ad9ee13b646358f5d66450cc50fa9",
        "IPY_MODEL_788e104380b0482bb3919e6c0c451d40"
       ],
       "layout": "IPY_MODEL_267cc644657847b4ac988485b0da686b"
      }
     },
     "abc4e1746c2245529df1a917439febc8": {
      "model_module": "@jupyter-widgets/base",
      "model_module_version": "1.2.0",
      "model_name": "LayoutModel",
      "state": {
       "_model_module": "@jupyter-widgets/base",
       "_model_module_version": "1.2.0",
       "_model_name": "LayoutModel",
       "_view_count": null,
       "_view_module": "@jupyter-widgets/base",
       "_view_module_version": "1.2.0",
       "_view_name": "LayoutView",
       "align_content": null,
       "align_items": null,
       "align_self": null,
       "border": null,
       "bottom": null,
       "display": null,
       "flex": null,
       "flex_flow": null,
       "grid_area": null,
       "grid_auto_columns": null,
       "grid_auto_flow": null,
       "grid_auto_rows": null,
       "grid_column": null,
       "grid_gap": null,
       "grid_row": null,
       "grid_template_areas": null,
       "grid_template_columns": null,
       "grid_template_rows": null,
       "height": null,
       "justify_content": null,
       "justify_items": null,
       "left": null,
       "margin": null,
       "max_height": null,
       "max_width": null,
       "min_height": null,
       "min_width": null,
       "object_fit": null,
       "object_position": null,
       "order": null,
       "overflow": null,
       "overflow_x": null,
       "overflow_y": null,
       "padding": null,
       "right": null,
       "top": null,
       "visibility": null,
       "width": null
      }
     }
    },
    "version_major": 2,
    "version_minor": 0
   }
  }
 },
 "nbformat": 4,
 "nbformat_minor": 4
}
