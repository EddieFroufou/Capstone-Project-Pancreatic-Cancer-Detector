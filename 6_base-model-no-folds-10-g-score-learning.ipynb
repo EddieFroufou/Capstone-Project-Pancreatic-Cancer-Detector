{
 "cells": [
  {
   "cell_type": "code",
   "execution_count": 1,
   "metadata": {
    "_cell_guid": "b1076dfc-b9ad-4769-8c92-a6c4dae69d19",
    "_uuid": "8f2839f25d086af736a60e9eeb907d3b93b6e0e5",
    "execution": {
     "iopub.execute_input": "2020-09-02T02:54:54.547072Z",
     "iopub.status.busy": "2020-09-02T02:54:54.546166Z",
     "iopub.status.idle": "2020-09-02T02:55:16.108881Z",
     "shell.execute_reply": "2020-09-02T02:55:16.107841Z"
    },
    "papermill": {
     "duration": 21.578655,
     "end_time": "2020-09-02T02:55:16.109023",
     "exception": false,
     "start_time": "2020-09-02T02:54:54.530368",
     "status": "completed"
    },
    "tags": []
   },
   "outputs": [
    {
     "name": "stdout",
     "output_type": "stream",
     "text": [
      "Collecting efficientnet_pytorch\r\n",
      "  Downloading efficientnet_pytorch-0.7.0.tar.gz (20 kB)\r\n",
      "Collecting torchtoolbox\r\n",
      "  Downloading torchtoolbox-0.1.5-py3-none-any.whl (58 kB)\r\n",
      "\u001b[K     |████████████████████████████████| 58 kB 695 kB/s \r\n",
      "\u001b[?25hRequirement already satisfied: torch in /opt/conda/lib/python3.7/site-packages (from efficientnet_pytorch) (1.5.1)\r\n",
      "Requirement already satisfied: scipy in /opt/conda/lib/python3.7/site-packages (from torchtoolbox) (1.4.1)\r\n",
      "Requirement already satisfied: six in /opt/conda/lib/python3.7/site-packages (from torchtoolbox) (1.14.0)\r\n",
      "Collecting lmdb\r\n",
      "  Downloading lmdb-1.0.0.tar.gz (876 kB)\r\n",
      "\u001b[K     |████████████████████████████████| 876 kB 1.5 MB/s \r\n",
      "\u001b[?25hRequirement already satisfied: scikit-learn in /opt/conda/lib/python3.7/site-packages (from torchtoolbox) (0.23.2)\r\n",
      "Requirement already satisfied: pyarrow in /opt/conda/lib/python3.7/site-packages (from torchtoolbox) (0.16.0)\r\n",
      "Requirement already satisfied: tqdm in /opt/conda/lib/python3.7/site-packages (from torchtoolbox) (4.45.0)\r\n",
      "Requirement already satisfied: opencv-python in /opt/conda/lib/python3.7/site-packages (from torchtoolbox) (4.3.0.36)\r\n",
      "Requirement already satisfied: numpy in /opt/conda/lib/python3.7/site-packages (from torchtoolbox) (1.18.5)\r\n",
      "Requirement already satisfied: future in /opt/conda/lib/python3.7/site-packages (from torch->efficientnet_pytorch) (0.18.2)\r\n",
      "Requirement already satisfied: threadpoolctl>=2.0.0 in /opt/conda/lib/python3.7/site-packages (from scikit-learn->torchtoolbox) (2.1.0)\r\n",
      "Requirement already satisfied: joblib>=0.11 in /opt/conda/lib/python3.7/site-packages (from scikit-learn->torchtoolbox) (0.14.1)\r\n",
      "Building wheels for collected packages: efficientnet-pytorch, lmdb\r\n",
      "  Building wheel for efficientnet-pytorch (setup.py) ... \u001b[?25l-\b \b\\\b \bdone\r\n",
      "\u001b[?25h  Created wheel for efficientnet-pytorch: filename=efficientnet_pytorch-0.7.0-py3-none-any.whl size=16035 sha256=cf33a4ee0dc1d413deb497e09bb797c69ce0f7c937dad4bd022ea4f3349f071f\r\n",
      "  Stored in directory: /root/.cache/pip/wheels/b7/cc/0d/41d384b0071c6f46e542aded5f8571700ace4f1eb3f1591c29\r\n",
      "  Building wheel for lmdb (setup.py) ... \u001b[?25l-\b \b\\\b \b|\b \b/\b \b-\b \bdone\r\n",
      "\u001b[?25h  Created wheel for lmdb: filename=lmdb-1.0.0-cp37-cp37m-linux_x86_64.whl size=276759 sha256=010a211f6c1784273349a2bf40ffc533a6a7169d3c54e9a1da3e400eded795fb\r\n",
      "  Stored in directory: /root/.cache/pip/wheels/12/e2/8d/261e2b6143cc3e0e690ccc065af68e44c43c26bc903ffa5d69\r\n",
      "Successfully built efficientnet-pytorch lmdb\r\n",
      "Installing collected packages: efficientnet-pytorch, lmdb, torchtoolbox\r\n",
      "Successfully installed efficientnet-pytorch-0.7.0 lmdb-1.0.0 torchtoolbox-0.1.5\r\n",
      "\u001b[33mWARNING: You are using pip version 20.2.1; however, version 20.2.2 is available.\r\n",
      "You should consider upgrading via the '/opt/conda/bin/python3.7 -m pip install --upgrade pip' command.\u001b[0m\r\n"
     ]
    }
   ],
   "source": [
    "!pip install efficientnet_pytorch torchtoolbox"
   ]
  },
  {
   "cell_type": "code",
   "execution_count": 2,
   "metadata": {
    "_cell_guid": "79c7e3d0-c299-4dcb-8224-4455121ee9b0",
    "_uuid": "d629ff2d2480ee46fbb7e2d37f6b5fab8052498a",
    "execution": {
     "iopub.execute_input": "2020-09-02T02:55:16.174558Z",
     "iopub.status.busy": "2020-09-02T02:55:16.173558Z",
     "iopub.status.idle": "2020-09-02T02:55:19.048723Z",
     "shell.execute_reply": "2020-09-02T02:55:19.048012Z"
    },
    "papermill": {
     "duration": 2.913707,
     "end_time": "2020-09-02T02:55:19.048837",
     "exception": false,
     "start_time": "2020-09-02T02:55:16.135130",
     "status": "completed"
    },
    "tags": []
   },
   "outputs": [],
   "source": [
    "# Imports here\n",
    "from efficientnet_pytorch import EfficientNet\n",
    "import matplotlib.pyplot as plt\n",
    "import torch\n",
    "from torch import nn\n",
    "from torch import optim\n",
    "import torch.nn.functional as F\n",
    "from torchvision import datasets, transforms, models\n",
    "from torch.utils.data import Dataset, DataLoader\n",
    "import matplotlib.pyplot as plt\n",
    "import seaborn as sns\n",
    "import csv\n",
    "import pandas as pd\n",
    "import os\n",
    "import random\n",
    "import math\n",
    "import skimage.io\n",
    "#from csv_loader import load_csv\n",
    "\n",
    "# Tiff visualisation imports and downloads\n",
    "import numpy as np\n",
    "import tifffile as tiff\n",
    "\n",
    "# For re-importing python modules\n",
    "import importlib\n",
    "#importlib.reload(csv_loader.py)\n",
    "\n",
    "#for quadratic score calculator\n",
    "from sklearn.metrics import cohen_kappa_score\n"
   ]
  },
  {
   "cell_type": "code",
   "execution_count": 3,
   "metadata": {
    "execution": {
     "iopub.execute_input": "2020-09-02T02:55:19.441673Z",
     "iopub.status.busy": "2020-09-02T02:55:19.440993Z",
     "iopub.status.idle": "2020-09-02T02:55:19.445750Z",
     "shell.execute_reply": "2020-09-02T02:55:19.444692Z"
    },
    "papermill": {
     "duration": 0.374217,
     "end_time": "2020-09-02T02:55:19.445864",
     "exception": false,
     "start_time": "2020-09-02T02:55:19.071647",
     "status": "completed"
    },
    "tags": []
   },
   "outputs": [],
   "source": [
    "#use GPU if available\n",
    "device = torch.device(\"cuda\" if torch.cuda.is_available() else \"cpu\")\n",
    "torch.set_default_tensor_type(torch.cuda.FloatTensor)"
   ]
  },
  {
   "cell_type": "code",
   "execution_count": 4,
   "metadata": {
    "execution": {
     "iopub.execute_input": "2020-09-02T02:55:19.500692Z",
     "iopub.status.busy": "2020-09-02T02:55:19.500102Z",
     "iopub.status.idle": "2020-09-02T02:55:19.654571Z",
     "shell.execute_reply": "2020-09-02T02:55:19.653381Z"
    },
    "papermill": {
     "duration": 0.185162,
     "end_time": "2020-09-02T02:55:19.654702",
     "exception": false,
     "start_time": "2020-09-02T02:55:19.469540",
     "status": "completed"
    },
    "tags": []
   },
   "outputs": [],
   "source": [
    "# Creating ability to control how many pictures go into the training sample. For debugging / training purposes\n",
    "sample_size = 10616\n",
    "df = pd.read_csv('../input/prostate-cancer-grade-assessment/train.csv').copy().sample(sample_size)\n",
    "df.to_csv(\"sample.csv\", sep=\",\", index=False)"
   ]
  },
  {
   "cell_type": "code",
   "execution_count": 5,
   "metadata": {
    "execution": {
     "iopub.execute_input": "2020-09-02T02:55:19.719333Z",
     "iopub.status.busy": "2020-09-02T02:55:19.717442Z",
     "iopub.status.idle": "2020-09-02T02:55:19.720153Z",
     "shell.execute_reply": "2020-09-02T02:55:19.720643Z"
    },
    "papermill": {
     "duration": 0.042979,
     "end_time": "2020-09-02T02:55:19.720768",
     "exception": false,
     "start_time": "2020-09-02T02:55:19.677789",
     "status": "completed"
    },
    "tags": []
   },
   "outputs": [],
   "source": [
    "class load_csv(Dataset):\n",
    "    def __init__(self, csv_file, root_dir, transform=None):\n",
    "        self.annotations = pd.read_csv(csv_file)# todo remove sample for debug\n",
    "        self.root_dir = root_dir\n",
    "        self.transform = transform\n",
    "    \n",
    "    def __len__(self):\n",
    "        return len(self.annotations)\n",
    "        \n",
    "    \n",
    "    def __getitem__(self, index):\n",
    "        image_id = self.annotations.iloc[index, 0]\n",
    "        img_path = os.path.join(self.root_dir, str(image_id) +\".png\")\n",
    "        image = torch.from_numpy(skimage.io.imread(img_path)).permute(2,0,1).float()\n",
    "        gleason_score_map = {'negative':0, '0+0':0,'3+3':1,'3+4':2,'4+3':3,'3+5':4,'4+4':5,'5+3':6,'4+5':7,'5+4':8,'5+5':9}\n",
    "        gleason_score = str(self.annotations.iloc[index,:]['gleason_score'])\n",
    "        y_label = torch.tensor(int(gleason_score_map[gleason_score]))\n",
    "        isup_grade = torch.tensor(int(self.annotations.iloc[index,:]['isup_grade']))\n",
    "        \n",
    "        #label = np.zeros(6).astype(np.float32)\n",
    "        #y_label = label[isup_grade] = 1.\n",
    "        #y_label = torch.tensor(y_label)\n",
    "        \n",
    "        self.transform= transforms.Compose([transforms.ToPILImage(),\n",
    "                                            transforms.ToTensor()])\n",
    "                                            \n",
    "        if self.transform:\n",
    "            image = self.transform(image)\n",
    "        \n",
    "        return (image, y_label, image_id, isup_grade)"
   ]
  },
  {
   "cell_type": "code",
   "execution_count": 6,
   "metadata": {
    "execution": {
     "iopub.execute_input": "2020-09-02T02:55:19.783478Z",
     "iopub.status.busy": "2020-09-02T02:55:19.781581Z",
     "iopub.status.idle": "2020-09-02T02:55:19.785942Z",
     "shell.execute_reply": "2020-09-02T02:55:19.785433Z"
    },
    "papermill": {
     "duration": 0.038105,
     "end_time": "2020-09-02T02:55:19.786032",
     "exception": false,
     "start_time": "2020-09-02T02:55:19.747927",
     "status": "completed"
    },
    "tags": []
   },
   "outputs": [
    {
     "data": {
      "text/plain": [
       "5"
      ]
     },
     "execution_count": 6,
     "metadata": {},
     "output_type": "execute_result"
    }
   ],
   "source": [
    "gleason_to_isup_score = {'negative':0, '0+0':0,'3+3':1,'3+4':2,'4+3':3,'4+4':4,'3+5':5,'5+3':6,'4+5':7,'5+4':8,'5+5':9}\n",
    "gleason_score = '3+5'\n",
    "y_label = int(gleason_to_isup_score[gleason_score])\n",
    "y_label"
   ]
  },
  {
   "cell_type": "code",
   "execution_count": 7,
   "metadata": {
    "execution": {
     "iopub.execute_input": "2020-09-02T02:55:19.848073Z",
     "iopub.status.busy": "2020-09-02T02:55:19.847176Z",
     "iopub.status.idle": "2020-09-02T02:55:24.633725Z",
     "shell.execute_reply": "2020-09-02T02:55:24.633093Z"
    },
    "papermill": {
     "duration": 4.822411,
     "end_time": "2020-09-02T02:55:24.633841",
     "exception": false,
     "start_time": "2020-09-02T02:55:19.811430",
     "status": "completed"
    },
    "tags": []
   },
   "outputs": [],
   "source": [
    "# Loading csv dataset into the dataset loader function load_csv. \n",
    "dataset = load_csv(csv_file='sample.csv', root_dir='../input/prostate-cancer-tiles-4x4x128px-downsampling-4x/train_128x4x4_res1/train_128x4x4_res1')\n",
    "\n",
    "# Creating sample subsets for validation and testing datasets\n",
    "sample_size = dataset.annotations.shape[0]\n",
    "train_ratio = .85\n",
    "valid_ratio = .05\n",
    "test_ratio = 1-(train_ratio + valid_ratio)\n",
    "train_size = int(train_ratio*sample_size)\n",
    "valid_size = int(valid_ratio*sample_size)\n",
    "test_size = sample_size - train_size - valid_size\n",
    "\n",
    "# Defining different datasets and respective dataloaders\n",
    "train_set, valid_set, test_set = torch.utils.data.random_split(dataset, [train_size, valid_size, test_size])\n",
    "\n",
    "train_loader = torch.utils.data.DataLoader(train_set, batch_size=5, shuffle=True)\n",
    "valid_loader = torch.utils.data.DataLoader(valid_set, batch_size=5, shuffle=True)\n",
    "test_loader = torch.utils.data.DataLoader(test_set, batch_size=1, shuffle=False)\n",
    "entire_set_loader = torch.utils.data.DataLoader(dataset, batch_size=1, shuffle=False)"
   ]
  },
  {
   "cell_type": "code",
   "execution_count": 8,
   "metadata": {
    "execution": {
     "iopub.execute_input": "2020-09-02T02:55:24.688419Z",
     "iopub.status.busy": "2020-09-02T02:55:24.687744Z",
     "iopub.status.idle": "2020-09-02T02:55:24.693102Z",
     "shell.execute_reply": "2020-09-02T02:55:24.693630Z"
    },
    "papermill": {
     "duration": 0.035164,
     "end_time": "2020-09-02T02:55:24.693759",
     "exception": false,
     "start_time": "2020-09-02T02:55:24.658595",
     "status": "completed"
    },
    "tags": []
   },
   "outputs": [
    {
     "data": {
      "text/plain": [
       "1063"
      ]
     },
     "execution_count": 8,
     "metadata": {},
     "output_type": "execute_result"
    }
   ],
   "source": [
    "test_size"
   ]
  },
  {
   "cell_type": "code",
   "execution_count": 9,
   "metadata": {
    "execution": {
     "iopub.execute_input": "2020-09-02T02:55:24.757112Z",
     "iopub.status.busy": "2020-09-02T02:55:24.750997Z",
     "iopub.status.idle": "2020-09-02T02:55:27.818582Z",
     "shell.execute_reply": "2020-09-02T02:55:27.820046Z"
    },
    "papermill": {
     "duration": 3.101963,
     "end_time": "2020-09-02T02:55:27.820220",
     "exception": false,
     "start_time": "2020-09-02T02:55:24.718257",
     "status": "completed"
    },
    "tags": []
   },
   "outputs": [
    {
     "name": "stderr",
     "output_type": "stream",
     "text": [
      "Downloading: \"https://github.com/lukemelas/EfficientNet-PyTorch/releases/download/1.0/efficientnet-b4-6ed6700e.pth\" to /root/.cache/torch/checkpoints/efficientnet-b4-6ed6700e.pth\n"
     ]
    },
    {
     "data": {
      "application/vnd.jupyter.widget-view+json": {
       "model_id": "c6c5f5019b00417bb5f98e1738ba233b",
       "version_major": 2,
       "version_minor": 0
      },
      "text/plain": [
       "HBox(children=(FloatProgress(value=0.0, max=77999237.0), HTML(value='')))"
      ]
     },
     "metadata": {},
     "output_type": "display_data"
    },
    {
     "name": "stdout",
     "output_type": "stream",
     "text": [
      "\n",
      "Loaded pretrained weights for efficientnet-b4\n"
     ]
    }
   ],
   "source": [
    "# Creating model and uploading/creating needed training components\n",
    "model = EfficientNet.from_pretrained('efficientnet-b4', num_classes=10)\n",
    "model._fc = model._fc = nn.Sequential(nn.Linear(model._fc.in_features, 216),\n",
    "                          nn.ReLU(),\n",
    "                          nn.Linear(216, 36, bias=True),\n",
    "                          nn.ReLU(),\n",
    "                          nn.Linear(36, 10, bias=True),\n",
    "                          nn.LogSoftmax(dim=1))\n",
    "\n",
    "\n",
    "if torch.cuda.is_available():\n",
    "    model = model.cuda()\n",
    "\n",
    "criterion = nn.NLLLoss()\n",
    "optimizer = optim.Adam(model.parameters(), lr=0.001)"
   ]
  },
  {
   "cell_type": "code",
   "execution_count": 10,
   "metadata": {
    "execution": {
     "iopub.execute_input": "2020-09-02T02:55:27.886555Z",
     "iopub.status.busy": "2020-09-02T02:55:27.885695Z",
     "iopub.status.idle": "2020-09-02T02:55:27.888871Z",
     "shell.execute_reply": "2020-09-02T02:55:27.888265Z"
    },
    "papermill": {
     "duration": 0.041625,
     "end_time": "2020-09-02T02:55:27.888989",
     "exception": false,
     "start_time": "2020-09-02T02:55:27.847364",
     "status": "completed"
    },
    "tags": []
   },
   "outputs": [],
   "source": [
    "def validate_data_function(model, test_loader, criterion):\n",
    "    test_loss = 0\n",
    "    accuracy = 0\n",
    "    pred_y_int_list = []\n",
    "    pred_y_dec_list = []\n",
    "    image_id_list = []\n",
    "    labels_list = []\n",
    "    isup_list = []\n",
    "    \n",
    "    for ii, (inputs, labels, image_id, isup_grade) in enumerate(test_loader):\n",
    "        \n",
    "        inputs, labels = inputs.to(device), labels.to(device)\n",
    "        \n",
    "        output = model.forward(inputs)\n",
    "        test_loss += criterion(output,labels.long())#.item()\n",
    "        \n",
    "        #ps = torch.exp(output)\n",
    "        #equality = (labels.argmax(dim=1) == output.argmax(dim=1))\n",
    "        equality = (labels == output.argmax(dim=1))\n",
    "        accuracy += equality.type(torch.FloatTensor)\n",
    "        #pred = output.cpu().data.numpy().argmax()\n",
    "        #qwk = cohen_kappa_score(pred, labels, weights='quadratic')\n",
    "        pred_y_int_v1 = output.argmax(dim=1)\n",
    "        pred_y_int_v2 = int(pred_y_int_v1[0])\n",
    "        \n",
    "        pred_y_dec_v1 = torch.max(output)\n",
    "        pred_y_dec_v2 = np.exp(float(pred_y_dec_v1.item()))\n",
    "        \n",
    "        pred_y_int_list.append(pred_y_int_v2)\n",
    "        pred_y_dec_list.append(pred_y_int_v2 + pred_y_dec_v2)\n",
    "        image_id_list.append(str(image_id[0]))\n",
    "        labels_list.append(int(labels[0]))\n",
    "        isup_list.append(int(isup_grade[0]))\n",
    "    accuracy = accuracy.mean()\n",
    "    \n",
    "    return test_loss, accuracy, image_id, image_id_list, pred_y_int_list, pred_y_dec_list, labels_list, isup_list"
   ]
  },
  {
   "cell_type": "code",
   "execution_count": 11,
   "metadata": {
    "execution": {
     "iopub.execute_input": "2020-09-02T02:55:27.960744Z",
     "iopub.status.busy": "2020-09-02T02:55:27.954748Z",
     "iopub.status.idle": "2020-09-02T05:18:09.342432Z",
     "shell.execute_reply": "2020-09-02T05:18:09.341761Z"
    },
    "papermill": {
     "duration": 8561.427463,
     "end_time": "2020-09-02T05:18:09.342582",
     "exception": false,
     "start_time": "2020-09-02T02:55:27.915119",
     "status": "completed"
    },
    "tags": []
   },
   "outputs": [
    {
     "name": "stdout",
     "output_type": "stream",
     "text": [
      "Epoch: 1/10..| Train loss: 1.846..| Validation loss: 0.649..| Validation accuracy: 43.600|\n",
      "Epoch: 1/10..| Train loss: 1.688..| Validation loss: 0.445..| Validation accuracy: 41.800|\n",
      "Epoch: 1/10..| Train loss: 1.612..| Validation loss: 0.298..| Validation accuracy: 52.600|\n",
      "Epoch: 2/10..| Train loss: 0.588..| Validation loss: 0.309..| Validation accuracy: 50.600|\n",
      "Epoch: 2/10..| Train loss: 1.548..| Validation loss: 0.292..| Validation accuracy: 53.200|\n",
      "Epoch: 2/10..| Train loss: 1.530..| Validation loss: 0.286..| Validation accuracy: 51.800|\n",
      "Epoch: 2/10..| Train loss: 1.484..| Validation loss: 0.313..| Validation accuracy: 50.800|\n",
      "Epoch: 3/10..| Train loss: 1.139..| Validation loss: 0.292..| Validation accuracy: 52.400|\n",
      "Epoch: 3/10..| Train loss: 1.461..| Validation loss: 0.323..| Validation accuracy: 48.400|\n",
      "Epoch: 3/10..| Train loss: 1.426..| Validation loss: 0.264..| Validation accuracy: 57.200|\n",
      "Epoch: 4/10..| Train loss: 0.246..| Validation loss: 0.255..| Validation accuracy: 59.600|\n",
      "Epoch: 4/10..| Train loss: 1.340..| Validation loss: 0.286..| Validation accuracy: 55.600|\n",
      "Epoch: 4/10..| Train loss: 1.394..| Validation loss: 0.258..| Validation accuracy: 58.000|\n",
      "Epoch: 4/10..| Train loss: 1.363..| Validation loss: 0.245..| Validation accuracy: 61.800|\n",
      "Epoch: 5/10..| Train loss: 0.758..| Validation loss: 0.293..| Validation accuracy: 49.200|\n",
      "Epoch: 5/10..| Train loss: 1.295..| Validation loss: 0.262..| Validation accuracy: 58.800|\n",
      "Epoch: 5/10..| Train loss: 1.308..| Validation loss: 0.253..| Validation accuracy: 59.800|\n",
      "Epoch: 5/10..| Train loss: 1.326..| Validation loss: 0.255..| Validation accuracy: 57.200|\n",
      "Epoch: 6/10..| Train loss: 1.197..| Validation loss: 0.251..| Validation accuracy: 57.800|\n",
      "Epoch: 6/10..| Train loss: 1.239..| Validation loss: 0.288..| Validation accuracy: 56.000|\n",
      "Epoch: 6/10..| Train loss: 1.272..| Validation loss: 0.259..| Validation accuracy: 56.800|\n",
      "Epoch: 7/10..| Train loss: 0.416..| Validation loss: 0.263..| Validation accuracy: 57.800|\n",
      "Epoch: 7/10..| Train loss: 1.220..| Validation loss: 0.298..| Validation accuracy: 53.200|\n",
      "Epoch: 7/10..| Train loss: 1.217..| Validation loss: 0.252..| Validation accuracy: 60.600|\n",
      "Epoch: 7/10..| Train loss: 1.203..| Validation loss: 0.258..| Validation accuracy: 60.000|\n",
      "Epoch: 8/10..| Train loss: 0.807..| Validation loss: 0.259..| Validation accuracy: 60.800|\n",
      "Epoch: 8/10..| Train loss: 1.149..| Validation loss: 0.281..| Validation accuracy: 58.000|\n",
      "Epoch: 8/10..| Train loss: 1.207..| Validation loss: 0.249..| Validation accuracy: 62.800|\n",
      "Epoch: 9/10..| Train loss: 0.127..| Validation loss: 0.271..| Validation accuracy: 57.400|\n",
      "Epoch: 9/10..| Train loss: 1.099..| Validation loss: 0.262..| Validation accuracy: 60.200|\n",
      "Epoch: 9/10..| Train loss: 1.117..| Validation loss: 0.269..| Validation accuracy: 59.800|\n",
      "Epoch: 9/10..| Train loss: 1.112..| Validation loss: 0.278..| Validation accuracy: 58.800|\n",
      "Epoch: 10/10..| Train loss: 0.507..| Validation loss: 0.288..| Validation accuracy: 58.400|\n",
      "Epoch: 10/10..| Train loss: 1.062..| Validation loss: 0.268..| Validation accuracy: 57.600|\n",
      "Epoch: 10/10..| Train loss: 1.053..| Validation loss: 0.271..| Validation accuracy: 59.400|\n",
      "Epoch: 10/10..| Train loss: 1.109..| Validation loss: 0.250..| Validation accuracy: 61.400|\n"
     ]
    }
   ],
   "source": [
    "# Training parameters and t=0 inputs\n",
    "epochs = 10\n",
    "print_every = 500\n",
    "steps = 0\n",
    "test_loss = 0\n",
    "\n",
    "# May the training begin!\n",
    "for epoch in range(epochs):\n",
    "    model.train()\n",
    "    running_loss = 0\n",
    "        \n",
    "    for ii, (inputs, labels, image_id, isup_grade) in enumerate(train_loader):\n",
    "        steps += 1\n",
    "        \n",
    "        inputs, labels = inputs.to(device), labels.to(device)\n",
    "        \n",
    "        optimizer.zero_grad()\n",
    "        \n",
    "       \n",
    "        outputs = model.forward(inputs)\n",
    "        loss = criterion(outputs, labels.long())\n",
    "        loss.backward()\n",
    "        optimizer.step()\n",
    "        \n",
    "        running_loss += loss.item()\n",
    "        \n",
    "        if steps % print_every == 0:\n",
    "            model.eval()\n",
    "\n",
    "            with torch.no_grad():\n",
    "                valid_loss, accuracy, image_id, image_id_list, pred_y_int_list, pred_y_dec_list, labels_list, isup_list = validate_data_function(model, valid_loader, criterion)\n",
    "            \n",
    "            print(f\"Epoch: {epoch+1}/{epochs}..| \"\n",
    "                  f\"Train loss: {running_loss/print_every:.3f}..| \"\n",
    "                  #f\"Train accuracy: {float(loss.item) / running_loss:.3f}..|\"\n",
    "                  f\"Validation loss: {valid_loss/print_every:.3f}..| \"                  \n",
    "                  f\"Validation accuracy: {accuracy:.3f}|\"\n",
    "                 )\n",
    "            \n",
    "            running_loss = 0\n",
    "            model.train()\n",
    "    \n",
    "    path = 'base_model_10cats.pth'\n",
    "    torch.save({\n",
    "            'epoch': epoch,\n",
    "            'model_state_dict': model.state_dict(),\n",
    "            'classifier_state_dict': model._fc.state_dict(),\n",
    "            'optimizer_state_dict': optimizer.state_dict(),\n",
    "            'loss': loss\n",
    "            }, path)\n",
    "    \n",
    "    \n",
    "    model.cuda() # moving model to GPU for further training"
   ]
  },
  {
   "cell_type": "code",
   "execution_count": 12,
   "metadata": {
    "execution": {
     "iopub.execute_input": "2020-09-02T05:18:09.424512Z",
     "iopub.status.busy": "2020-09-02T05:18:09.423894Z",
     "iopub.status.idle": "2020-09-02T05:19:13.885235Z",
     "shell.execute_reply": "2020-09-02T05:19:13.885896Z"
    },
    "papermill": {
     "duration": 64.505295,
     "end_time": "2020-09-02T05:19:13.886090",
     "exception": false,
     "start_time": "2020-09-02T05:18:09.380795",
     "status": "completed"
    },
    "tags": []
   },
   "outputs": [
    {
     "name": "stdout",
     "output_type": "stream",
     "text": [
      "Epoch: 10/10..| Train loss: 0.119..| Validation loss: 3.405..| Validation accuracy: 453.000|\n"
     ]
    }
   ],
   "source": [
    "with torch.no_grad():\n",
    "    valid_loss, accuracy, image_id, image_id_list, pred_y_int_list, pred_y_dec_list, labels_list, isup_list = validate_data_function(model, test_loader, criterion)\n",
    "            \n",
    "    print(f\"Epoch: {epoch+1}/{epochs}..| \"\n",
    "          f\"Train loss: {running_loss/print_every:.3f}..| \"\n",
    "          f\"Validation loss: {valid_loss/print_every:.3f}..| \"                  \n",
    "          f\"Validation accuracy: {accuracy:.3f}|\"\n",
    "          )"
   ]
  },
  {
   "cell_type": "code",
   "execution_count": 13,
   "metadata": {
    "execution": {
     "iopub.execute_input": "2020-09-02T05:19:13.987585Z",
     "iopub.status.busy": "2020-09-02T05:19:13.986764Z",
     "iopub.status.idle": "2020-09-02T05:19:14.020881Z",
     "shell.execute_reply": "2020-09-02T05:19:14.021499Z"
    },
    "papermill": {
     "duration": 0.096415,
     "end_time": "2020-09-02T05:19:14.021660",
     "exception": false,
     "start_time": "2020-09-02T05:19:13.925245",
     "status": "completed"
    },
    "tags": []
   },
   "outputs": [
    {
     "data": {
      "text/html": [
       "<div>\n",
       "<style scoped>\n",
       "    .dataframe tbody tr th:only-of-type {\n",
       "        vertical-align: middle;\n",
       "    }\n",
       "\n",
       "    .dataframe tbody tr th {\n",
       "        vertical-align: top;\n",
       "    }\n",
       "\n",
       "    .dataframe thead th {\n",
       "        text-align: right;\n",
       "    }\n",
       "</style>\n",
       "<table border=\"1\" class=\"dataframe\">\n",
       "  <thead>\n",
       "    <tr style=\"text-align: right;\">\n",
       "      <th></th>\n",
       "      <th>image_id</th>\n",
       "      <th>y_map_label</th>\n",
       "      <th>isup_label</th>\n",
       "      <th>pred_y_dec</th>\n",
       "      <th>pred_y_int</th>\n",
       "      <th>pred_y_isup</th>\n",
       "    </tr>\n",
       "  </thead>\n",
       "  <tbody>\n",
       "    <tr>\n",
       "      <th>0</th>\n",
       "      <td>fdc20a833738385bedbdfdabe9721bde</td>\n",
       "      <td>3</td>\n",
       "      <td>3</td>\n",
       "      <td>3.294655</td>\n",
       "      <td>3</td>\n",
       "      <td>3</td>\n",
       "    </tr>\n",
       "    <tr>\n",
       "      <th>1</th>\n",
       "      <td>a1f37b944f9590270b529e9f83610ebb</td>\n",
       "      <td>8</td>\n",
       "      <td>5</td>\n",
       "      <td>3.286679</td>\n",
       "      <td>3</td>\n",
       "      <td>3</td>\n",
       "    </tr>\n",
       "    <tr>\n",
       "      <th>2</th>\n",
       "      <td>bbfe245b1afa3fe05e45f380b6cbac8d</td>\n",
       "      <td>1</td>\n",
       "      <td>1</td>\n",
       "      <td>1.678675</td>\n",
       "      <td>1</td>\n",
       "      <td>1</td>\n",
       "    </tr>\n",
       "    <tr>\n",
       "      <th>3</th>\n",
       "      <td>639dcd07a4de787c02b44b26a984d202</td>\n",
       "      <td>0</td>\n",
       "      <td>0</td>\n",
       "      <td>0.572002</td>\n",
       "      <td>0</td>\n",
       "      <td>0</td>\n",
       "    </tr>\n",
       "    <tr>\n",
       "      <th>4</th>\n",
       "      <td>37a8139578e30b6572bfd3d2145e6543</td>\n",
       "      <td>0</td>\n",
       "      <td>0</td>\n",
       "      <td>5.306932</td>\n",
       "      <td>5</td>\n",
       "      <td>4</td>\n",
       "    </tr>\n",
       "    <tr>\n",
       "      <th>...</th>\n",
       "      <td>...</td>\n",
       "      <td>...</td>\n",
       "      <td>...</td>\n",
       "      <td>...</td>\n",
       "      <td>...</td>\n",
       "      <td>...</td>\n",
       "    </tr>\n",
       "    <tr>\n",
       "      <th>1058</th>\n",
       "      <td>5754cf219e01bd9b8bae58fcdbfa9ce9</td>\n",
       "      <td>5</td>\n",
       "      <td>4</td>\n",
       "      <td>5.293926</td>\n",
       "      <td>5</td>\n",
       "      <td>4</td>\n",
       "    </tr>\n",
       "    <tr>\n",
       "      <th>1059</th>\n",
       "      <td>7a7df1b2eabf6a5b55cba56cd312fcc5</td>\n",
       "      <td>5</td>\n",
       "      <td>4</td>\n",
       "      <td>0.273865</td>\n",
       "      <td>0</td>\n",
       "      <td>0</td>\n",
       "    </tr>\n",
       "    <tr>\n",
       "      <th>1060</th>\n",
       "      <td>995df9b93db1e396b57692c6c7f1d673</td>\n",
       "      <td>0</td>\n",
       "      <td>0</td>\n",
       "      <td>0.347992</td>\n",
       "      <td>0</td>\n",
       "      <td>0</td>\n",
       "    </tr>\n",
       "    <tr>\n",
       "      <th>1061</th>\n",
       "      <td>fd08b2bce422f40a465664f9a5f9afdd</td>\n",
       "      <td>1</td>\n",
       "      <td>1</td>\n",
       "      <td>1.528394</td>\n",
       "      <td>1</td>\n",
       "      <td>1</td>\n",
       "    </tr>\n",
       "    <tr>\n",
       "      <th>1062</th>\n",
       "      <td>ae2e55ae29c56bb4e122410aba1603e8</td>\n",
       "      <td>1</td>\n",
       "      <td>1</td>\n",
       "      <td>0.331775</td>\n",
       "      <td>0</td>\n",
       "      <td>0</td>\n",
       "    </tr>\n",
       "  </tbody>\n",
       "</table>\n",
       "<p>1063 rows × 6 columns</p>\n",
       "</div>"
      ],
      "text/plain": [
       "                              image_id  y_map_label  isup_label  pred_y_dec  \\\n",
       "0     fdc20a833738385bedbdfdabe9721bde            3           3    3.294655   \n",
       "1     a1f37b944f9590270b529e9f83610ebb            8           5    3.286679   \n",
       "2     bbfe245b1afa3fe05e45f380b6cbac8d            1           1    1.678675   \n",
       "3     639dcd07a4de787c02b44b26a984d202            0           0    0.572002   \n",
       "4     37a8139578e30b6572bfd3d2145e6543            0           0    5.306932   \n",
       "...                                ...          ...         ...         ...   \n",
       "1058  5754cf219e01bd9b8bae58fcdbfa9ce9            5           4    5.293926   \n",
       "1059  7a7df1b2eabf6a5b55cba56cd312fcc5            5           4    0.273865   \n",
       "1060  995df9b93db1e396b57692c6c7f1d673            0           0    0.347992   \n",
       "1061  fd08b2bce422f40a465664f9a5f9afdd            1           1    1.528394   \n",
       "1062  ae2e55ae29c56bb4e122410aba1603e8            1           1    0.331775   \n",
       "\n",
       "      pred_y_int  pred_y_isup  \n",
       "0              3            3  \n",
       "1              3            3  \n",
       "2              1            1  \n",
       "3              0            0  \n",
       "4              5            4  \n",
       "...          ...          ...  \n",
       "1058           5            4  \n",
       "1059           0            0  \n",
       "1060           0            0  \n",
       "1061           1            1  \n",
       "1062           0            0  \n",
       "\n",
       "[1063 rows x 6 columns]"
      ]
     },
     "execution_count": 13,
     "metadata": {},
     "output_type": "execute_result"
    }
   ],
   "source": [
    "predictions = pd.DataFrame({'image_id': image_id_list,\n",
    "                            'y_map_label': labels_list,\n",
    "                            'isup_label': isup_list,\n",
    "                            'pred_y_dec': pred_y_dec_list,\n",
    "                            'pred_y_int': pred_y_int_list})\n",
    "\n",
    "map_to_isup = {'0':0,'1':1,'2':2,'3':3,'4':4,'5':4,'6':4,'7':5,'8':5,'9':5}\n",
    "pred_y_isup = [map_to_isup[str(x)] for x in predictions['pred_y_int']]\n",
    "predictions['pred_y_isup']=pred_y_isup\n",
    "predictions.to_csv(\"sample_predictions.csv\", sep=\",\", index=False)\n",
    "\n",
    "predictions"
   ]
  },
  {
   "cell_type": "code",
   "execution_count": 14,
   "metadata": {
    "execution": {
     "iopub.execute_input": "2020-09-02T05:19:14.106858Z",
     "iopub.status.busy": "2020-09-02T05:19:14.106197Z",
     "iopub.status.idle": "2020-09-02T05:19:14.135119Z",
     "shell.execute_reply": "2020-09-02T05:19:14.134648Z"
    },
    "papermill": {
     "duration": 0.073099,
     "end_time": "2020-09-02T05:19:14.135220",
     "exception": false,
     "start_time": "2020-09-02T05:19:14.062121",
     "status": "completed"
    },
    "tags": []
   },
   "outputs": [
    {
     "data": {
      "text/plain": [
       "0.4270931326434619"
      ]
     },
     "execution_count": 14,
     "metadata": {},
     "output_type": "execute_result"
    }
   ],
   "source": [
    "equality = predictions[predictions['isup_label']==predictions['pred_y_isup']]\n",
    "accuracy = len(equality) / len(predictions)\n",
    "accuracy"
   ]
  }
 ],
 "metadata": {
  "kernelspec": {
   "display_name": "Python 3",
   "language": "python",
   "name": "python3"
  },
  "language_info": {
   "codemirror_mode": {
    "name": "ipython",
    "version": 3
   },
   "file_extension": ".py",
   "mimetype": "text/x-python",
   "name": "python",
   "nbconvert_exporter": "python",
   "pygments_lexer": "ipython3",
   "version": "3.7.6"
  },
  "papermill": {
   "duration": 8665.397648,
   "end_time": "2020-09-02T05:19:15.470223",
   "environment_variables": {},
   "exception": null,
   "input_path": "__notebook__.ipynb",
   "output_path": "__notebook__.ipynb",
   "parameters": {},
   "start_time": "2020-09-02T02:54:50.072575",
   "version": "2.1.0"
  },
  "widgets": {
   "application/vnd.jupyter.widget-state+json": {
    "state": {
     "03bfc29f7daf4eddb122fc21a66ed50b": {
      "model_module": "@jupyter-widgets/controls",
      "model_module_version": "1.5.0",
      "model_name": "HTMLModel",
      "state": {
       "_dom_classes": [],
       "_model_module": "@jupyter-widgets/controls",
       "_model_module_version": "1.5.0",
       "_model_name": "HTMLModel",
       "_view_count": null,
       "_view_module": "@jupyter-widgets/controls",
       "_view_module_version": "1.5.0",
       "_view_name": "HTMLView",
       "description": "",
       "description_tooltip": null,
       "layout": "IPY_MODEL_4c35e2862c284ab3b8817dbe8e3858ed",
       "placeholder": "​",
       "style": "IPY_MODEL_83f572165c3e47b7a40c74510294ef76",
       "value": " 74.4M/74.4M [00:02&lt;00:00, 37.4MB/s]"
      }
     },
     "4c35e2862c284ab3b8817dbe8e3858ed": {
      "model_module": "@jupyter-widgets/base",
      "model_module_version": "1.2.0",
      "model_name": "LayoutModel",
      "state": {
       "_model_module": "@jupyter-widgets/base",
       "_model_module_version": "1.2.0",
       "_model_name": "LayoutModel",
       "_view_count": null,
       "_view_module": "@jupyter-widgets/base",
       "_view_module_version": "1.2.0",
       "_view_name": "LayoutView",
       "align_content": null,
       "align_items": null,
       "align_self": null,
       "border": null,
       "bottom": null,
       "display": null,
       "flex": null,
       "flex_flow": null,
       "grid_area": null,
       "grid_auto_columns": null,
       "grid_auto_flow": null,
       "grid_auto_rows": null,
       "grid_column": null,
       "grid_gap": null,
       "grid_row": null,
       "grid_template_areas": null,
       "grid_template_columns": null,
       "grid_template_rows": null,
       "height": null,
       "justify_content": null,
       "justify_items": null,
       "left": null,
       "margin": null,
       "max_height": null,
       "max_width": null,
       "min_height": null,
       "min_width": null,
       "object_fit": null,
       "object_position": null,
       "order": null,
       "overflow": null,
       "overflow_x": null,
       "overflow_y": null,
       "padding": null,
       "right": null,
       "top": null,
       "visibility": null,
       "width": null
      }
     },
     "57f041cd205c4dafacba7fe98268e041": {
      "model_module": "@jupyter-widgets/controls",
      "model_module_version": "1.5.0",
      "model_name": "ProgressStyleModel",
      "state": {
       "_model_module": "@jupyter-widgets/controls",
       "_model_module_version": "1.5.0",
       "_model_name": "ProgressStyleModel",
       "_view_count": null,
       "_view_module": "@jupyter-widgets/base",
       "_view_module_version": "1.2.0",
       "_view_name": "StyleView",
       "bar_color": null,
       "description_width": "initial"
      }
     },
     "83f572165c3e47b7a40c74510294ef76": {
      "model_module": "@jupyter-widgets/controls",
      "model_module_version": "1.5.0",
      "model_name": "DescriptionStyleModel",
      "state": {
       "_model_module": "@jupyter-widgets/controls",
       "_model_module_version": "1.5.0",
       "_model_name": "DescriptionStyleModel",
       "_view_count": null,
       "_view_module": "@jupyter-widgets/base",
       "_view_module_version": "1.2.0",
       "_view_name": "StyleView",
       "description_width": ""
      }
     },
     "c6c5f5019b00417bb5f98e1738ba233b": {
      "model_module": "@jupyter-widgets/controls",
      "model_module_version": "1.5.0",
      "model_name": "HBoxModel",
      "state": {
       "_dom_classes": [],
       "_model_module": "@jupyter-widgets/controls",
       "_model_module_version": "1.5.0",
       "_model_name": "HBoxModel",
       "_view_count": null,
       "_view_module": "@jupyter-widgets/controls",
       "_view_module_version": "1.5.0",
       "_view_name": "HBoxView",
       "box_style": "",
       "children": [
        "IPY_MODEL_ead9fa39c90142189ece01791b094b1c",
        "IPY_MODEL_03bfc29f7daf4eddb122fc21a66ed50b"
       ],
       "layout": "IPY_MODEL_f7091a6a62d4432fb26106170850d55c"
      }
     },
     "c6d6e990320b4fca88fb8673da76bc98": {
      "model_module": "@jupyter-widgets/base",
      "model_module_version": "1.2.0",
      "model_name": "LayoutModel",
      "state": {
       "_model_module": "@jupyter-widgets/base",
       "_model_module_version": "1.2.0",
       "_model_name": "LayoutModel",
       "_view_count": null,
       "_view_module": "@jupyter-widgets/base",
       "_view_module_version": "1.2.0",
       "_view_name": "LayoutView",
       "align_content": null,
       "align_items": null,
       "align_self": null,
       "border": null,
       "bottom": null,
       "display": null,
       "flex": null,
       "flex_flow": null,
       "grid_area": null,
       "grid_auto_columns": null,
       "grid_auto_flow": null,
       "grid_auto_rows": null,
       "grid_column": null,
       "grid_gap": null,
       "grid_row": null,
       "grid_template_areas": null,
       "grid_template_columns": null,
       "grid_template_rows": null,
       "height": null,
       "justify_content": null,
       "justify_items": null,
       "left": null,
       "margin": null,
       "max_height": null,
       "max_width": null,
       "min_height": null,
       "min_width": null,
       "object_fit": null,
       "object_position": null,
       "order": null,
       "overflow": null,
       "overflow_x": null,
       "overflow_y": null,
       "padding": null,
       "right": null,
       "top": null,
       "visibility": null,
       "width": null
      }
     },
     "ead9fa39c90142189ece01791b094b1c": {
      "model_module": "@jupyter-widgets/controls",
      "model_module_version": "1.5.0",
      "model_name": "FloatProgressModel",
      "state": {
       "_dom_classes": [],
       "_model_module": "@jupyter-widgets/controls",
       "_model_module_version": "1.5.0",
       "_model_name": "FloatProgressModel",
       "_view_count": null,
       "_view_module": "@jupyter-widgets/controls",
       "_view_module_version": "1.5.0",
       "_view_name": "ProgressView",
       "bar_style": "success",
       "description": "100%",
       "description_tooltip": null,
       "layout": "IPY_MODEL_c6d6e990320b4fca88fb8673da76bc98",
       "max": 77999237.0,
       "min": 0.0,
       "orientation": "horizontal",
       "style": "IPY_MODEL_57f041cd205c4dafacba7fe98268e041",
       "value": 77999237.0
      }
     },
     "f7091a6a62d4432fb26106170850d55c": {
      "model_module": "@jupyter-widgets/base",
      "model_module_version": "1.2.0",
      "model_name": "LayoutModel",
      "state": {
       "_model_module": "@jupyter-widgets/base",
       "_model_module_version": "1.2.0",
       "_model_name": "LayoutModel",
       "_view_count": null,
       "_view_module": "@jupyter-widgets/base",
       "_view_module_version": "1.2.0",
       "_view_name": "LayoutView",
       "align_content": null,
       "align_items": null,
       "align_self": null,
       "border": null,
       "bottom": null,
       "display": null,
       "flex": null,
       "flex_flow": null,
       "grid_area": null,
       "grid_auto_columns": null,
       "grid_auto_flow": null,
       "grid_auto_rows": null,
       "grid_column": null,
       "grid_gap": null,
       "grid_row": null,
       "grid_template_areas": null,
       "grid_template_columns": null,
       "grid_template_rows": null,
       "height": null,
       "justify_content": null,
       "justify_items": null,
       "left": null,
       "margin": null,
       "max_height": null,
       "max_width": null,
       "min_height": null,
       "min_width": null,
       "object_fit": null,
       "object_position": null,
       "order": null,
       "overflow": null,
       "overflow_x": null,
       "overflow_y": null,
       "padding": null,
       "right": null,
       "top": null,
       "visibility": null,
       "width": null
      }
     }
    },
    "version_major": 2,
    "version_minor": 0
   }
  }
 },
 "nbformat": 4,
 "nbformat_minor": 4
}
