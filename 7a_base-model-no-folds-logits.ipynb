{
 "cells": [
  {
   "cell_type": "code",
   "execution_count": 1,
   "metadata": {
    "_cell_guid": "b1076dfc-b9ad-4769-8c92-a6c4dae69d19",
    "_uuid": "8f2839f25d086af736a60e9eeb907d3b93b6e0e5",
    "execution": {
     "iopub.execute_input": "2020-09-12T16:51:11.782918Z",
     "iopub.status.busy": "2020-09-12T16:51:11.782096Z",
     "iopub.status.idle": "2020-09-12T16:51:40.687721Z",
     "shell.execute_reply": "2020-09-12T16:51:40.686119Z"
    },
    "papermill": {
     "duration": 28.921295,
     "end_time": "2020-09-12T16:51:40.687861",
     "exception": false,
     "start_time": "2020-09-12T16:51:11.766566",
     "status": "completed"
    },
    "tags": []
   },
   "outputs": [
    {
     "name": "stdout",
     "output_type": "stream",
     "text": [
      "Collecting efficientnet_pytorch\r\n",
      "  Downloading efficientnet_pytorch-0.7.0.tar.gz (20 kB)\r\n",
      "Collecting torchtoolbox\r\n",
      "  Downloading torchtoolbox-0.1.5-py3-none-any.whl (58 kB)\r\n",
      "\u001b[K     |████████████████████████████████| 58 kB 2.2 MB/s \r\n",
      "\u001b[?25hRequirement already satisfied: torch in /opt/conda/lib/python3.7/site-packages (from efficientnet_pytorch) (1.5.1)\r\n",
      "Requirement already satisfied: opencv-python in /opt/conda/lib/python3.7/site-packages (from torchtoolbox) (4.3.0.36)\r\n",
      "Requirement already satisfied: scipy in /opt/conda/lib/python3.7/site-packages (from torchtoolbox) (1.4.1)\r\n",
      "Requirement already satisfied: numpy in /opt/conda/lib/python3.7/site-packages (from torchtoolbox) (1.18.5)\r\n",
      "Requirement already satisfied: tqdm in /opt/conda/lib/python3.7/site-packages (from torchtoolbox) (4.45.0)\r\n",
      "Requirement already satisfied: scikit-learn in /opt/conda/lib/python3.7/site-packages (from torchtoolbox) (0.23.2)\r\n",
      "Requirement already satisfied: pyarrow in /opt/conda/lib/python3.7/site-packages (from torchtoolbox) (0.16.0)\r\n",
      "Collecting lmdb\r\n",
      "  Downloading lmdb-1.0.0.tar.gz (876 kB)\r\n",
      "\u001b[K     |████████████████████████████████| 876 kB 8.4 MB/s \r\n",
      "\u001b[?25hRequirement already satisfied: six in /opt/conda/lib/python3.7/site-packages (from torchtoolbox) (1.14.0)\r\n",
      "Requirement already satisfied: future in /opt/conda/lib/python3.7/site-packages (from torch->efficientnet_pytorch) (0.18.2)\r\n",
      "Requirement already satisfied: joblib>=0.11 in /opt/conda/lib/python3.7/site-packages (from scikit-learn->torchtoolbox) (0.14.1)\r\n",
      "Requirement already satisfied: threadpoolctl>=2.0.0 in /opt/conda/lib/python3.7/site-packages (from scikit-learn->torchtoolbox) (2.1.0)\r\n",
      "Building wheels for collected packages: efficientnet-pytorch, lmdb\r\n",
      "  Building wheel for efficientnet-pytorch (setup.py) ... \u001b[?25l-\b \b\\\b \bdone\r\n",
      "\u001b[?25h  Created wheel for efficientnet-pytorch: filename=efficientnet_pytorch-0.7.0-py3-none-any.whl size=16035 sha256=53b7fdefbae6649a98828ef68c3871865815c39f68990337e70e79efc9f4d834\r\n",
      "  Stored in directory: /root/.cache/pip/wheels/b7/cc/0d/41d384b0071c6f46e542aded5f8571700ace4f1eb3f1591c29\r\n",
      "  Building wheel for lmdb (setup.py) ... \u001b[?25l-\b \b\\\b \b|\b \b/\b \b-\b \bdone\r\n",
      "\u001b[?25h  Created wheel for lmdb: filename=lmdb-1.0.0-cp37-cp37m-linux_x86_64.whl size=276752 sha256=f06312ae6e853bb6949795d2864712019fd313f2cd7ea1ba460dbcb7bacc5957\r\n",
      "  Stored in directory: /root/.cache/pip/wheels/12/e2/8d/261e2b6143cc3e0e690ccc065af68e44c43c26bc903ffa5d69\r\n",
      "Successfully built efficientnet-pytorch lmdb\r\n",
      "Installing collected packages: efficientnet-pytorch, lmdb, torchtoolbox\r\n",
      "Successfully installed efficientnet-pytorch-0.7.0 lmdb-1.0.0 torchtoolbox-0.1.5\r\n",
      "\u001b[33mWARNING: You are using pip version 20.2.1; however, version 20.2.3 is available.\r\n",
      "You should consider upgrading via the '/opt/conda/bin/python3.7 -m pip install --upgrade pip' command.\u001b[0m\r\n",
      "Collecting git+https://github.com/ildoonet/pytorch-gradual-warmup-lr.git\r\n",
      "  Cloning https://github.com/ildoonet/pytorch-gradual-warmup-lr.git to /tmp/pip-req-build-6cayzcb0\r\n",
      "Building wheels for collected packages: warmup-scheduler\r\n",
      "  Building wheel for warmup-scheduler (setup.py) ... \u001b[?25l-\b \b\\\b \bdone\r\n",
      "\u001b[?25h  Created wheel for warmup-scheduler: filename=warmup_scheduler-0.3.2-py3-none-any.whl size=3881 sha256=ef4587f7113b6e905034114e08b09243a690cafbd8aa383d5521f087c044bb32\r\n",
      "  Stored in directory: /tmp/pip-ephem-wheel-cache-3j8m8b_3/wheels/bf/81/52/0e3bc0b645a339f94c76b4dcb8c8b7a5f588a614f5add83b9f\r\n",
      "Successfully built warmup-scheduler\r\n",
      "Installing collected packages: warmup-scheduler\r\n",
      "Successfully installed warmup-scheduler-0.3.2\r\n",
      "\u001b[33mWARNING: You are using pip version 20.2.1; however, version 20.2.3 is available.\r\n",
      "You should consider upgrading via the '/opt/conda/bin/python3.7 -m pip install --upgrade pip' command.\u001b[0m\r\n"
     ]
    }
   ],
   "source": [
    "!pip install efficientnet_pytorch torchtoolbox\n",
    "!pip install git+https://github.com/ildoonet/pytorch-gradual-warmup-lr.git"
   ]
  },
  {
   "cell_type": "code",
   "execution_count": 2,
   "metadata": {
    "_cell_guid": "79c7e3d0-c299-4dcb-8224-4455121ee9b0",
    "_uuid": "d629ff2d2480ee46fbb7e2d37f6b5fab8052498a",
    "execution": {
     "iopub.execute_input": "2020-09-12T16:51:40.743569Z",
     "iopub.status.busy": "2020-09-12T16:51:40.739953Z",
     "iopub.status.idle": "2020-09-12T16:51:43.328314Z",
     "shell.execute_reply": "2020-09-12T16:51:43.327184Z"
    },
    "papermill": {
     "duration": 2.618534,
     "end_time": "2020-09-12T16:51:43.328449",
     "exception": false,
     "start_time": "2020-09-12T16:51:40.709915",
     "status": "completed"
    },
    "tags": []
   },
   "outputs": [],
   "source": [
    "# Imports here\n",
    "from efficientnet_pytorch import EfficientNet\n",
    "import matplotlib.pyplot as plt\n",
    "import torch\n",
    "from torch import nn\n",
    "from torch import optim\n",
    "import torch.nn.functional as F\n",
    "from torchvision import datasets, transforms, models\n",
    "from torch.utils.data import Dataset, DataLoader\n",
    "import matplotlib.pyplot as plt\n",
    "import seaborn as sns\n",
    "import csv\n",
    "import pandas as pd\n",
    "import os\n",
    "import random\n",
    "import math\n",
    "import skimage.io\n",
    "from torch.optim import lr_scheduler\n",
    "from torch.utils.data import DataLoader, Dataset\n",
    "from torch.utils.data.sampler import SubsetRandomSampler, RandomSampler, SequentialSampler\n",
    "from warmup_scheduler import GradualWarmupScheduler\n",
    "import time\n",
    "\n",
    "# Tiff visualisation imports and downloads\n",
    "import numpy as np\n",
    "import tifffile as tiff\n",
    "\n",
    "# For re-importing python modules\n",
    "import importlib\n",
    "#importlib.reload(csv_loader.py)\n",
    "\n",
    "#for quadratic score calculator\n",
    "from sklearn.metrics import cohen_kappa_score\n"
   ]
  },
  {
   "cell_type": "code",
   "execution_count": 3,
   "metadata": {
    "execution": {
     "iopub.execute_input": "2020-09-12T16:51:43.699797Z",
     "iopub.status.busy": "2020-09-12T16:51:43.698922Z",
     "iopub.status.idle": "2020-09-12T16:51:43.702511Z",
     "shell.execute_reply": "2020-09-12T16:51:43.701990Z"
    },
    "papermill": {
     "duration": 0.352558,
     "end_time": "2020-09-12T16:51:43.702622",
     "exception": false,
     "start_time": "2020-09-12T16:51:43.350064",
     "status": "completed"
    },
    "tags": []
   },
   "outputs": [],
   "source": [
    "#use GPU if available\n",
    "device = torch.device(\"cuda\" if torch.cuda.is_available() else \"cpu\")\n",
    "torch.set_default_tensor_type(torch.cuda.FloatTensor)"
   ]
  },
  {
   "cell_type": "code",
   "execution_count": 4,
   "metadata": {
    "execution": {
     "iopub.execute_input": "2020-09-12T16:51:43.758987Z",
     "iopub.status.busy": "2020-09-12T16:51:43.758412Z",
     "iopub.status.idle": "2020-09-12T16:51:43.973819Z",
     "shell.execute_reply": "2020-09-12T16:51:43.972861Z"
    },
    "papermill": {
     "duration": 0.249903,
     "end_time": "2020-09-12T16:51:43.973941",
     "exception": false,
     "start_time": "2020-09-12T16:51:43.724038",
     "status": "completed"
    },
    "tags": []
   },
   "outputs": [],
   "source": [
    "# Creating ability to control how many pictures go into the training sample. For debugging / training purposes\n",
    "sample_size = 10616\n",
    "df = pd.read_csv('../input/prostate-cancer-grade-assessment/train.csv').copy().sample(sample_size)\n",
    "df.to_csv(\"sample.csv\", sep=\",\", index=False)"
   ]
  },
  {
   "cell_type": "code",
   "execution_count": 5,
   "metadata": {
    "execution": {
     "iopub.execute_input": "2020-09-12T16:51:44.038856Z",
     "iopub.status.busy": "2020-09-12T16:51:44.038028Z",
     "iopub.status.idle": "2020-09-12T16:51:44.042028Z",
     "shell.execute_reply": "2020-09-12T16:51:44.041245Z"
    },
    "papermill": {
     "duration": 0.042936,
     "end_time": "2020-09-12T16:51:44.042168",
     "exception": false,
     "start_time": "2020-09-12T16:51:43.999232",
     "status": "completed"
    },
    "tags": []
   },
   "outputs": [],
   "source": [
    "class load_csv(Dataset):\n",
    "    def __init__(self, csv_file, root_dir, transform=None):\n",
    "        self.annotations = pd.read_csv(csv_file)# todo remove sample for debug\n",
    "        self.root_dir = root_dir\n",
    "        self.transform = transform\n",
    "    \n",
    "    def __len__(self):\n",
    "        return len(self.annotations)\n",
    "        \n",
    "    \n",
    "    def __getitem__(self, index):\n",
    "        image_id = self.annotations.iloc[index, 0]\n",
    "        img_path = os.path.join(self.root_dir, str(image_id) +\".png\")\n",
    "        image = torch.from_numpy(skimage.io.imread(img_path)).permute(2,0,1).float()\n",
    "        \n",
    "        #y_label = torch.tensor(int(self.annotations.iloc[index,:]['isup_grade']))\n",
    "        isup_grade = int(self.annotations.iloc[index,:]['isup_grade'])\n",
    "        \n",
    "        label = np.zeros(5).astype(np.float32)\n",
    "        label[:isup_grade] = 1.\n",
    "        \n",
    "        \n",
    "        self.transform= transforms.Compose([transforms.ToPILImage(),\n",
    "                                            transforms.ToTensor()])\n",
    "                                            \n",
    "        if self.transform:\n",
    "            image = self.transform(image)\n",
    "        \n",
    "        return (image, torch.tensor(label), image_id)"
   ]
  },
  {
   "cell_type": "code",
   "execution_count": 6,
   "metadata": {
    "execution": {
     "iopub.execute_input": "2020-09-12T16:51:44.102613Z",
     "iopub.status.busy": "2020-09-12T16:51:44.101615Z",
     "iopub.status.idle": "2020-09-12T16:51:48.528694Z",
     "shell.execute_reply": "2020-09-12T16:51:48.528078Z"
    },
    "papermill": {
     "duration": 4.461533,
     "end_time": "2020-09-12T16:51:48.528811",
     "exception": false,
     "start_time": "2020-09-12T16:51:44.067278",
     "status": "completed"
    },
    "tags": []
   },
   "outputs": [],
   "source": [
    "# Loading csv dataset into the dataset loader function load_csv. \n",
    "dataset = load_csv(csv_file='sample.csv', root_dir='../input/prostate-cancer-tiles-4x4x128px-downsampling-4x/train_128x4x4_res1/train_128x4x4_res1')\n",
    "\n",
    "# Creating sample subsets for validation and testing datasets\n",
    "sample_size = dataset.annotations.shape[0]\n",
    "train_ratio = .75\n",
    "valid_ratio = .15\n",
    "test_ratio = 1-(train_ratio + valid_ratio)\n",
    "train_size = int(train_ratio*sample_size)\n",
    "valid_size = int(valid_ratio*sample_size)\n",
    "test_size = sample_size - train_size - valid_size\n",
    "\n",
    "# Defining different datasets and respective dataloaders\n",
    "train_set, valid_set, test_set = torch.utils.data.random_split(dataset, [train_size, valid_size, test_size])\n",
    "\n",
    "train_loader = torch.utils.data.DataLoader(train_set, batch_size=30, shuffle=True)\n",
    "valid_loader = torch.utils.data.DataLoader(valid_set, batch_size=30, shuffle=True)\n",
    "test_loader = torch.utils.data.DataLoader(test_set, batch_size=30, shuffle=False)\n",
    "entire_set_loader = torch.utils.data.DataLoader(dataset, batch_size=30, shuffle=False)"
   ]
  },
  {
   "cell_type": "code",
   "execution_count": 7,
   "metadata": {
    "execution": {
     "iopub.execute_input": "2020-09-12T16:51:48.586302Z",
     "iopub.status.busy": "2020-09-12T16:51:48.585673Z",
     "iopub.status.idle": "2020-09-12T16:51:49.169473Z",
     "shell.execute_reply": "2020-09-12T16:51:49.170009Z"
    },
    "papermill": {
     "duration": 0.61888,
     "end_time": "2020-09-12T16:51:49.170151",
     "exception": false,
     "start_time": "2020-09-12T16:51:48.551271",
     "status": "completed"
    },
    "tags": []
   },
   "outputs": [
    {
     "name": "stderr",
     "output_type": "stream",
     "text": [
      "Downloading: \"https://github.com/lukemelas/EfficientNet-PyTorch/releases/download/1.0/efficientnet-b0-355c32eb.pth\" to /root/.cache/torch/checkpoints/efficientnet-b0-355c32eb.pth\n"
     ]
    },
    {
     "data": {
      "application/vnd.jupyter.widget-view+json": {
       "model_id": "aedb96c20df5499db1a354061764705b",
       "version_major": 2,
       "version_minor": 0
      },
      "text/plain": [
       "HBox(children=(FloatProgress(value=0.0, max=21388428.0), HTML(value='')))"
      ]
     },
     "metadata": {},
     "output_type": "display_data"
    },
    {
     "name": "stdout",
     "output_type": "stream",
     "text": [
      "\n",
      "Loaded pretrained weights for efficientnet-b0\n"
     ]
    }
   ],
   "source": [
    "\n",
    "# Creating model and uploading/creating needed training components\n",
    "model = EfficientNet.from_pretrained('efficientnet-b0', num_classes=5)\n",
    "model._fc = model._fc = nn.Sequential(nn.Linear(model._fc.in_features, 216),\n",
    "                          nn.ReLU(),\n",
    "                          nn.Linear(216, 36, bias=True),\n",
    "                          nn.ReLU(),\n",
    "                          nn.Linear(36, 5, bias=True))\n",
    "\n",
    "\n",
    "if torch.cuda.is_available():\n",
    "    model = model.cuda()"
   ]
  },
  {
   "cell_type": "code",
   "execution_count": 8,
   "metadata": {
    "execution": {
     "iopub.execute_input": "2020-09-12T16:51:49.225993Z",
     "iopub.status.busy": "2020-09-12T16:51:49.225192Z",
     "iopub.status.idle": "2020-09-12T16:51:49.228315Z",
     "shell.execute_reply": "2020-09-12T16:51:49.227814Z"
    },
    "papermill": {
     "duration": 0.034585,
     "end_time": "2020-09-12T16:51:49.228415",
     "exception": false,
     "start_time": "2020-09-12T16:51:49.193830",
     "status": "completed"
    },
    "tags": []
   },
   "outputs": [],
   "source": [
    "init_lr = 3e-4\n",
    "warmup_factor = 10\n",
    "\n",
    "warmup_epo = 1\n",
    "n_epochs = 30\n",
    "\n",
    "optimizer = optim.Adam(model.parameters(), lr=init_lr/warmup_factor)\n",
    "scheduler_cosine = torch.optim.lr_scheduler.CosineAnnealingLR(optimizer, n_epochs-warmup_epo)\n",
    "scheduler = GradualWarmupScheduler(optimizer, multiplier=warmup_factor, total_epoch=warmup_epo, after_scheduler=scheduler_cosine)\n",
    "\n",
    "criterion = nn.BCEWithLogitsLoss()"
   ]
  },
  {
   "cell_type": "code",
   "execution_count": 9,
   "metadata": {
    "execution": {
     "iopub.execute_input": "2020-09-12T16:51:49.287490Z",
     "iopub.status.busy": "2020-09-12T16:51:49.286640Z",
     "iopub.status.idle": "2020-09-12T16:51:49.288964Z",
     "shell.execute_reply": "2020-09-12T16:51:49.289502Z"
    },
    "papermill": {
     "duration": 0.038029,
     "end_time": "2020-09-12T16:51:49.289615",
     "exception": false,
     "start_time": "2020-09-12T16:51:49.251586",
     "status": "completed"
    },
    "tags": []
   },
   "outputs": [],
   "source": [
    "def validate_data_function(model, test_loader, criterion):\n",
    "    test_loss = 0\n",
    "    accuracy = 0\n",
    "    output_list = []\n",
    "    preds_list = []\n",
    "    dec_list = []\n",
    "    target_list = []\n",
    "    loss_list = []\n",
    "    \n",
    "    with torch.no_grad():\n",
    "        \n",
    "        for ii, (inputs, labels, image_id) in enumerate(test_loader):\n",
    "        \n",
    "            inputs, labels = inputs.to(device), labels.to(device)\n",
    "            output = model.forward(inputs)\n",
    "            \n",
    "            loss = criterion(output,labels)\n",
    "               \n",
    "            dec = output.sigmoid().sum(1).detach()\n",
    "        \n",
    "            output_list.append(output)\n",
    "            preds_list.append(dec.round())\n",
    "            target_list.append(labels.sum(1))\n",
    "            dec_list.append(dec)\n",
    "        \n",
    "            loss_np = loss.detach().cpu().numpy()\n",
    "            loss_list.append(loss_np)        \n",
    "        test_loss = np.mean(loss_list)\n",
    "        \n",
    "        preds_list = torch.cat(preds_list).cpu().numpy()\n",
    "        target_list = torch.cat(target_list).cpu().numpy()\n",
    "        accuracy = np.mean(preds_list == target_list) * 100.\n",
    "        \n",
    "        #pred = output.cpu().data.numpy().argmax()\n",
    "        #qwk = cohen_kappa_score(pred, labels, weights='quadratic')\n",
    "    \n",
    "    return test_loss, accuracy, image_id, preds_list, target_list"
   ]
  },
  {
   "cell_type": "code",
   "execution_count": 10,
   "metadata": {
    "execution": {
     "iopub.execute_input": "2020-09-12T16:51:49.353222Z",
     "iopub.status.busy": "2020-09-12T16:51:49.352617Z",
     "iopub.status.idle": "2020-09-12T20:22:55.181270Z",
     "shell.execute_reply": "2020-09-12T20:22:55.180101Z"
    },
    "papermill": {
     "duration": 12665.868357,
     "end_time": "2020-09-12T20:22:55.181453",
     "exception": false,
     "start_time": "2020-09-12T16:51:49.313096",
     "status": "completed"
    },
    "tags": []
   },
   "outputs": [
    {
     "name": "stderr",
     "output_type": "stream",
     "text": [
      "/opt/conda/lib/python3.7/site-packages/torch/optim/lr_scheduler.py:123: UserWarning: Detected call of `lr_scheduler.step()` before `optimizer.step()`. In PyTorch 1.1.0 and later, you should call them in the opposite order: `optimizer.step()` before `lr_scheduler.step()`.  Failure to do this will result in PyTorch skipping the first value of the learning rate schedule. See more details at https://pytorch.org/docs/stable/optim.html#how-to-adjust-learning-rate\n",
      "  \"https://pytorch.org/docs/stable/optim.html#how-to-adjust-learning-rate\", UserWarning)\n",
      "/opt/conda/lib/python3.7/site-packages/torch/optim/lr_scheduler.py:143: UserWarning: The epoch parameter in `scheduler.step()` was not necessary and is being deprecated where possible. Please use `scheduler.step()` to step the scheduler. During the deprecation, if epoch is different from None, the closed form is used instead of the new chainable form, where available. Please open an issue if you are unable to replicate your use case: https://github.com/pytorch/pytorch/issues/new/choose.\n",
      "  warnings.warn(EPOCH_DEPRECATION_WARNING, UserWarning)\n"
     ]
    },
    {
     "name": "stdout",
     "output_type": "stream",
     "text": [
      "Epoch: 1/30..| lr: 0.000030..|Train loss: 0.575..| Validation loss: 0.003..| Validation accuracy: 23.367|Epoch train time (m):  1.210..|\n",
      "Epoch: 2/30..| lr: 0.000300..|Train loss: 0.257..| Validation loss: 0.002..| Validation accuracy: 26.947|Epoch train time (m):  0.852..|\n",
      "Epoch: 3/30..| lr: 0.000030..|Train loss: 0.101..| Validation loss: 0.001..| Validation accuracy: 47.425|Epoch train time (m):  0.847..|\n",
      "Epoch: 4/30..| lr: 0.000296..|Train loss: 0.002..| Validation loss: 0.001..| Validation accuracy: 47.927|Epoch train time (m):  0.845..|\n",
      "Epoch: 4/30..| lr: 0.000296..|Train loss: 0.273..| Validation loss: 0.002..| Validation accuracy: 46.859|Epoch train time (m):  0.867..|\n",
      "Epoch: 5/30..| lr: 0.000292..|Train loss: 0.152..| Validation loss: 0.002..| Validation accuracy: 44.661|Epoch train time (m):  0.852..|\n",
      "Epoch: 6/30..| lr: 0.000286..|Train loss: 0.063..| Validation loss: 0.002..| Validation accuracy: 54.648|Epoch train time (m):  0.859..|\n",
      "Epoch: 7/30..| lr: 0.000279..|Train loss: 0.002..| Validation loss: 0.002..| Validation accuracy: 54.460|Epoch train time (m):  0.848..|\n",
      "Epoch: 7/30..| lr: 0.000279..|Train loss: 0.149..| Validation loss: 0.002..| Validation accuracy: 54.962|Epoch train time (m):  0.867..|\n",
      "Epoch: 8/30..| lr: 0.000269..|Train loss: 0.077..| Validation loss: 0.002..| Validation accuracy: 53.266|Epoch train time (m):  0.859..|\n",
      "Epoch: 9/30..| lr: 0.000259..|Train loss: 0.031..| Validation loss: 0.002..| Validation accuracy: 54.837|Epoch train time (m):  0.866..|\n",
      "Epoch: 10/30..| lr: 0.000247..|Train loss: 0.004..| Validation loss: 0.002..| Validation accuracy: 56.030|Epoch train time (m):  0.849..|\n",
      "Epoch: 10/30..| lr: 0.000247..|Train loss: 0.076..| Validation loss: 0.002..| Validation accuracy: 56.156|Epoch train time (m):  0.847..|\n",
      "Epoch: 11/30..| lr: 0.000234..|Train loss: 0.044..| Validation loss: 0.002..| Validation accuracy: 56.533|Epoch train time (m):  0.808..|\n",
      "Epoch: 12/30..| lr: 0.000220..|Train loss: 0.019..| Validation loss: 0.003..| Validation accuracy: 57.852|Epoch train time (m):  0.815..|\n",
      "Epoch: 13/30..| lr: 0.000206..|Train loss: 0.002..| Validation loss: 0.003..| Validation accuracy: 55.528|Epoch train time (m):  0.804..|\n",
      "Epoch: 13/30..| lr: 0.000206..|Train loss: 0.051..| Validation loss: 0.003..| Validation accuracy: 55.214|Epoch train time (m):  0.860..|\n",
      "Epoch: 14/30..| lr: 0.000190..|Train loss: 0.027..| Validation loss: 0.003..| Validation accuracy: 57.789|Epoch train time (m):  0.779..|\n",
      "Epoch: 15/30..| lr: 0.000174..|Train loss: 0.012..| Validation loss: 0.003..| Validation accuracy: 57.663|Epoch train time (m):  0.764..|\n",
      "Epoch: 16/30..| lr: 0.000158..|Train loss: 0.001..| Validation loss: 0.003..| Validation accuracy: 55.402|Epoch train time (m):  0.783..|\n",
      "Epoch: 16/30..| lr: 0.000158..|Train loss: 0.028..| Validation loss: 0.003..| Validation accuracy: 54.271|Epoch train time (m):  0.784..|\n",
      "Epoch: 17/30..| lr: 0.000142..|Train loss: 0.017..| Validation loss: 0.003..| Validation accuracy: 58.103|Epoch train time (m):  0.790..|\n",
      "Epoch: 18/30..| lr: 0.000126..|Train loss: 0.008..| Validation loss: 0.003..| Validation accuracy: 56.344|Epoch train time (m):  0.777..|\n",
      "Epoch: 19/30..| lr: 0.000110..|Train loss: 0.001..| Validation loss: 0.003..| Validation accuracy: 55.779|Epoch train time (m):  0.791..|\n",
      "Epoch: 19/30..| lr: 0.000110..|Train loss: 0.015..| Validation loss: 0.003..| Validation accuracy: 57.663|Epoch train time (m):  0.804..|\n",
      "Epoch: 20/30..| lr: 0.000094..|Train loss: 0.010..| Validation loss: 0.003..| Validation accuracy: 56.595|Epoch train time (m):  0.793..|\n",
      "Epoch: 21/30..| lr: 0.000080..|Train loss: 0.005..| Validation loss: 0.003..| Validation accuracy: 55.967|Epoch train time (m):  0.798..|\n",
      "Epoch: 22/30..| lr: 0.000066..|Train loss: 0.001..| Validation loss: 0.003..| Validation accuracy: 57.349|Epoch train time (m):  0.788..|\n",
      "Epoch: 22/30..| lr: 0.000066..|Train loss: 0.011..| Validation loss: 0.003..| Validation accuracy: 55.528|Epoch train time (m):  0.786..|\n",
      "Epoch: 23/30..| lr: 0.000053..|Train loss: 0.007..| Validation loss: 0.003..| Validation accuracy: 57.286|Epoch train time (m):  0.782..|\n",
      "Epoch: 24/30..| lr: 0.000041..|Train loss: 0.004..| Validation loss: 0.004..| Validation accuracy: 58.103|Epoch train time (m):  0.811..|\n",
      "Epoch: 25/30..| lr: 0.000031..|Train loss: 0.000..| Validation loss: 0.003..| Validation accuracy: 57.224|Epoch train time (m):  0.799..|\n",
      "Epoch: 25/30..| lr: 0.000031..|Train loss: 0.008..| Validation loss: 0.003..| Validation accuracy: 56.784|Epoch train time (m):  0.794..|\n",
      "Epoch: 26/30..| lr: 0.000021..|Train loss: 0.005..| Validation loss: 0.003..| Validation accuracy: 57.224|Epoch train time (m):  0.822..|\n",
      "Epoch: 27/30..| lr: 0.000014..|Train loss: 0.003..| Validation loss: 0.003..| Validation accuracy: 57.224|Epoch train time (m):  0.773..|\n",
      "Epoch: 28/30..| lr: 0.000008..|Train loss: 0.000..| Validation loss: 0.003..| Validation accuracy: 56.721|Epoch train time (m):  0.768..|\n",
      "Epoch: 28/30..| lr: 0.000008..|Train loss: 0.007..| Validation loss: 0.003..| Validation accuracy: 57.098|Epoch train time (m):  0.772..|\n",
      "Epoch: 29/30..| lr: 0.000004..|Train loss: 0.004..| Validation loss: 0.003..| Validation accuracy: 57.161|Epoch train time (m):  0.774..|\n",
      "Epoch: 30/30..| lr: 0.000001..|Train loss: 0.003..| Validation loss: 0.003..| Validation accuracy: 56.721|Epoch train time (m):  0.784..|\n"
     ]
    }
   ],
   "source": [
    "# Training parameters and t=0 inputs\n",
    "print_every = 200\n",
    "steps = 0\n",
    "test_loss = 0\n",
    "output_list = []\n",
    "label_list = []\n",
    "\n",
    "# May the training begin!\n",
    "for epoch in range(1, n_epochs+1):\n",
    "    model.train()\n",
    "    running_loss = 0\n",
    "    \n",
    "    scheduler.step(epoch-1)\n",
    "    \n",
    "    for ii, (inputs, labels, image_id) in enumerate(train_loader):\n",
    "        steps += 1\n",
    "        start = time.time()\n",
    "        \n",
    "        inputs, labels = inputs.to(device), labels.to(device)\n",
    "        \n",
    "        optimizer.zero_grad()\n",
    "        \n",
    "       \n",
    "        outputs = model.forward(inputs)#.forward(inputs)\n",
    "        loss = criterion(outputs, labels)#.long())\n",
    "        loss.backward()\n",
    "        optimizer.step()\n",
    "    \n",
    "        \n",
    "        running_loss += loss.item()\n",
    "        output_list.append(outputs.sum(1).round())\n",
    "        label_list.append(labels.sum(1))\n",
    "        \n",
    "        if steps % print_every == 0:\n",
    "            model.eval()\n",
    "            \n",
    "            train_accuracy=0.0\n",
    "            \n",
    "            with torch.no_grad():\n",
    "                valid_loss, accuracy, image_id,_,_ = validate_data_function(model, valid_loader, criterion)\n",
    "                #train_accuracy = np.mean(output_list == label_list)\n",
    "                #train_accuracy = equality.type(torch.FloatTensor)/steps * 100.\n",
    "                end = time.time()\n",
    "                train_time = end - start\n",
    "                \n",
    "            epoch_lr = optimizer.param_groups[0][\"lr\"]\n",
    "            print(f\"Epoch: {epoch}/{n_epochs}..| \"\n",
    "                  f\"lr: {epoch_lr:.6f}..|\"\n",
    "                  f\"Train loss: {running_loss/print_every:.3f}..| \"\n",
    "                  #f\"Train accuracy: {train_accuracy:.3f}..| \"\n",
    "                  f\"Validation loss: {valid_loss/print_every:.3f}..| \"                  \n",
    "                  f\"Validation accuracy: {accuracy:.3f}|\"\n",
    "                  f\"Epoch train time (m): {train_time/60: .3f}..|\"\n",
    "                 )\n",
    "            \n",
    "            \n",
    "            \n",
    "            running_loss = 0\n",
    "            model.train()\n",
    "    \n",
    "    path = 'base_model_w_logits.pth'\n",
    "    torch.save({\n",
    "            'epoch': epoch,\n",
    "            'model_state_dict': model.state_dict(),\n",
    "            'classifier_state_dict': model._fc.state_dict(),\n",
    "            'optimizer_state_dict': optimizer.state_dict(),\n",
    "            'loss': loss\n",
    "            }, path)\n",
    "    \n",
    "    \n",
    "    model.cuda() # moving model to GPU for further training"
   ]
  },
  {
   "cell_type": "code",
   "execution_count": 11,
   "metadata": {
    "execution": {
     "iopub.execute_input": "2020-09-12T20:22:55.264602Z",
     "iopub.status.busy": "2020-09-12T20:22:55.263982Z",
     "iopub.status.idle": "2020-09-12T20:23:34.967862Z",
     "shell.execute_reply": "2020-09-12T20:23:34.968603Z"
    },
    "papermill": {
     "duration": 39.749335,
     "end_time": "2020-09-12T20:23:34.968798",
     "exception": false,
     "start_time": "2020-09-12T20:22:55.219463",
     "status": "completed"
    },
    "tags": []
   },
   "outputs": [
    {
     "name": "stdout",
     "output_type": "stream",
     "text": [
      "Test Accuracy: 59.227871939736346%\n"
     ]
    }
   ],
   "source": [
    "model.eval()\n",
    "    \n",
    "with torch.no_grad():\n",
    "    test_loss, accuracy, image_id, _, _ = validate_data_function(model, test_loader, criterion)\n",
    "                \n",
    "print(\"Test Accuracy: {}%\".format(accuracy))"
   ]
  }
 ],
 "metadata": {
  "kernelspec": {
   "display_name": "Python 3",
   "language": "python",
   "name": "python3"
  },
  "language_info": {
   "codemirror_mode": {
    "name": "ipython",
    "version": 3
   },
   "file_extension": ".py",
   "mimetype": "text/x-python",
   "name": "python",
   "nbconvert_exporter": "python",
   "pygments_lexer": "ipython3",
   "version": "3.7.6"
  },
  "papermill": {
   "duration": 12749.414773,
   "end_time": "2020-09-12T20:23:37.114149",
   "environment_variables": {},
   "exception": null,
   "input_path": "__notebook__.ipynb",
   "output_path": "__notebook__.ipynb",
   "parameters": {},
   "start_time": "2020-09-12T16:51:07.699376",
   "version": "2.1.0"
  },
  "widgets": {
   "application/vnd.jupyter.widget-state+json": {
    "state": {
     "011765ba07b049dca6261c4e6732cd01": {
      "model_module": "@jupyter-widgets/controls",
      "model_module_version": "1.5.0",
      "model_name": "FloatProgressModel",
      "state": {
       "_dom_classes": [],
       "_model_module": "@jupyter-widgets/controls",
       "_model_module_version": "1.5.0",
       "_model_name": "FloatProgressModel",
       "_view_count": null,
       "_view_module": "@jupyter-widgets/controls",
       "_view_module_version": "1.5.0",
       "_view_name": "ProgressView",
       "bar_style": "success",
       "description": "100%",
       "description_tooltip": null,
       "layout": "IPY_MODEL_2c5db08c6c944887b56e23690c3cd06f",
       "max": 21388428.0,
       "min": 0.0,
       "orientation": "horizontal",
       "style": "IPY_MODEL_1a323e90bec645e683bc69f40ca4ffcf",
       "value": 21388428.0
      }
     },
     "1a323e90bec645e683bc69f40ca4ffcf": {
      "model_module": "@jupyter-widgets/controls",
      "model_module_version": "1.5.0",
      "model_name": "ProgressStyleModel",
      "state": {
       "_model_module": "@jupyter-widgets/controls",
       "_model_module_version": "1.5.0",
       "_model_name": "ProgressStyleModel",
       "_view_count": null,
       "_view_module": "@jupyter-widgets/base",
       "_view_module_version": "1.2.0",
       "_view_name": "StyleView",
       "bar_color": null,
       "description_width": "initial"
      }
     },
     "21f2236191814980ae6ae2e8f0bcf120": {
      "model_module": "@jupyter-widgets/controls",
      "model_module_version": "1.5.0",
      "model_name": "HTMLModel",
      "state": {
       "_dom_classes": [],
       "_model_module": "@jupyter-widgets/controls",
       "_model_module_version": "1.5.0",
       "_model_name": "HTMLModel",
       "_view_count": null,
       "_view_module": "@jupyter-widgets/controls",
       "_view_module_version": "1.5.0",
       "_view_name": "HTMLView",
       "description": "",
       "description_tooltip": null,
       "layout": "IPY_MODEL_48ef41e19eb04430beffd01e8b9557b5",
       "placeholder": "​",
       "style": "IPY_MODEL_5563a25091c34020a936c473917948ac",
       "value": " 20.4M/20.4M [00:13&lt;00:00, 1.62MB/s]"
      }
     },
     "2c5db08c6c944887b56e23690c3cd06f": {
      "model_module": "@jupyter-widgets/base",
      "model_module_version": "1.2.0",
      "model_name": "LayoutModel",
      "state": {
       "_model_module": "@jupyter-widgets/base",
       "_model_module_version": "1.2.0",
       "_model_name": "LayoutModel",
       "_view_count": null,
       "_view_module": "@jupyter-widgets/base",
       "_view_module_version": "1.2.0",
       "_view_name": "LayoutView",
       "align_content": null,
       "align_items": null,
       "align_self": null,
       "border": null,
       "bottom": null,
       "display": null,
       "flex": null,
       "flex_flow": null,
       "grid_area": null,
       "grid_auto_columns": null,
       "grid_auto_flow": null,
       "grid_auto_rows": null,
       "grid_column": null,
       "grid_gap": null,
       "grid_row": null,
       "grid_template_areas": null,
       "grid_template_columns": null,
       "grid_template_rows": null,
       "height": null,
       "justify_content": null,
       "justify_items": null,
       "left": null,
       "margin": null,
       "max_height": null,
       "max_width": null,
       "min_height": null,
       "min_width": null,
       "object_fit": null,
       "object_position": null,
       "order": null,
       "overflow": null,
       "overflow_x": null,
       "overflow_y": null,
       "padding": null,
       "right": null,
       "top": null,
       "visibility": null,
       "width": null
      }
     },
     "48ef41e19eb04430beffd01e8b9557b5": {
      "model_module": "@jupyter-widgets/base",
      "model_module_version": "1.2.0",
      "model_name": "LayoutModel",
      "state": {
       "_model_module": "@jupyter-widgets/base",
       "_model_module_version": "1.2.0",
       "_model_name": "LayoutModel",
       "_view_count": null,
       "_view_module": "@jupyter-widgets/base",
       "_view_module_version": "1.2.0",
       "_view_name": "LayoutView",
       "align_content": null,
       "align_items": null,
       "align_self": null,
       "border": null,
       "bottom": null,
       "display": null,
       "flex": null,
       "flex_flow": null,
       "grid_area": null,
       "grid_auto_columns": null,
       "grid_auto_flow": null,
       "grid_auto_rows": null,
       "grid_column": null,
       "grid_gap": null,
       "grid_row": null,
       "grid_template_areas": null,
       "grid_template_columns": null,
       "grid_template_rows": null,
       "height": null,
       "justify_content": null,
       "justify_items": null,
       "left": null,
       "margin": null,
       "max_height": null,
       "max_width": null,
       "min_height": null,
       "min_width": null,
       "object_fit": null,
       "object_position": null,
       "order": null,
       "overflow": null,
       "overflow_x": null,
       "overflow_y": null,
       "padding": null,
       "right": null,
       "top": null,
       "visibility": null,
       "width": null
      }
     },
     "5563a25091c34020a936c473917948ac": {
      "model_module": "@jupyter-widgets/controls",
      "model_module_version": "1.5.0",
      "model_name": "DescriptionStyleModel",
      "state": {
       "_model_module": "@jupyter-widgets/controls",
       "_model_module_version": "1.5.0",
       "_model_name": "DescriptionStyleModel",
       "_view_count": null,
       "_view_module": "@jupyter-widgets/base",
       "_view_module_version": "1.2.0",
       "_view_name": "StyleView",
       "description_width": ""
      }
     },
     "5ea872caa3124503b81891eeaa5af82a": {
      "model_module": "@jupyter-widgets/base",
      "model_module_version": "1.2.0",
      "model_name": "LayoutModel",
      "state": {
       "_model_module": "@jupyter-widgets/base",
       "_model_module_version": "1.2.0",
       "_model_name": "LayoutModel",
       "_view_count": null,
       "_view_module": "@jupyter-widgets/base",
       "_view_module_version": "1.2.0",
       "_view_name": "LayoutView",
       "align_content": null,
       "align_items": null,
       "align_self": null,
       "border": null,
       "bottom": null,
       "display": null,
       "flex": null,
       "flex_flow": null,
       "grid_area": null,
       "grid_auto_columns": null,
       "grid_auto_flow": null,
       "grid_auto_rows": null,
       "grid_column": null,
       "grid_gap": null,
       "grid_row": null,
       "grid_template_areas": null,
       "grid_template_columns": null,
       "grid_template_rows": null,
       "height": null,
       "justify_content": null,
       "justify_items": null,
       "left": null,
       "margin": null,
       "max_height": null,
       "max_width": null,
       "min_height": null,
       "min_width": null,
       "object_fit": null,
       "object_position": null,
       "order": null,
       "overflow": null,
       "overflow_x": null,
       "overflow_y": null,
       "padding": null,
       "right": null,
       "top": null,
       "visibility": null,
       "width": null
      }
     },
     "aedb96c20df5499db1a354061764705b": {
      "model_module": "@jupyter-widgets/controls",
      "model_module_version": "1.5.0",
      "model_name": "HBoxModel",
      "state": {
       "_dom_classes": [],
       "_model_module": "@jupyter-widgets/controls",
       "_model_module_version": "1.5.0",
       "_model_name": "HBoxModel",
       "_view_count": null,
       "_view_module": "@jupyter-widgets/controls",
       "_view_module_version": "1.5.0",
       "_view_name": "HBoxView",
       "box_style": "",
       "children": [
        "IPY_MODEL_011765ba07b049dca6261c4e6732cd01",
        "IPY_MODEL_21f2236191814980ae6ae2e8f0bcf120"
       ],
       "layout": "IPY_MODEL_5ea872caa3124503b81891eeaa5af82a"
      }
     }
    },
    "version_major": 2,
    "version_minor": 0
   }
  }
 },
 "nbformat": 4,
 "nbformat_minor": 4
}
