{
 "cells": [
  {
   "cell_type": "code",
   "execution_count": 1,
   "metadata": {
    "_cell_guid": "b1076dfc-b9ad-4769-8c92-a6c4dae69d19",
    "_uuid": "8f2839f25d086af736a60e9eeb907d3b93b6e0e5",
    "execution": {
     "iopub.execute_input": "2020-09-20T23:16:05.081354Z",
     "iopub.status.busy": "2020-09-20T23:16:05.080597Z",
     "iopub.status.idle": "2020-09-20T23:16:34.679123Z",
     "shell.execute_reply": "2020-09-20T23:16:34.677173Z"
    },
    "papermill": {
     "duration": 29.615074,
     "end_time": "2020-09-20T23:16:34.679260",
     "exception": false,
     "start_time": "2020-09-20T23:16:05.064186",
     "status": "completed"
    },
    "tags": []
   },
   "outputs": [
    {
     "name": "stdout",
     "output_type": "stream",
     "text": [
      "Collecting efficientnet_pytorch\r\n",
      "  Downloading efficientnet_pytorch-0.7.0.tar.gz (20 kB)\r\n",
      "Collecting torchtoolbox\r\n",
      "  Downloading torchtoolbox-0.1.5-py3-none-any.whl (58 kB)\r\n",
      "\u001b[K     |████████████████████████████████| 58 kB 736 kB/s \r\n",
      "\u001b[?25hRequirement already satisfied: torch in /opt/conda/lib/python3.7/site-packages (from efficientnet_pytorch) (1.5.1)\r\n",
      "Collecting lmdb\r\n",
      "  Downloading lmdb-1.0.0.tar.gz (876 kB)\r\n",
      "\u001b[K     |████████████████████████████████| 876 kB 1.5 MB/s \r\n",
      "\u001b[?25hRequirement already satisfied: scikit-learn in /opt/conda/lib/python3.7/site-packages (from torchtoolbox) (0.23.2)\r\n",
      "Requirement already satisfied: opencv-python in /opt/conda/lib/python3.7/site-packages (from torchtoolbox) (4.3.0.36)\r\n",
      "Requirement already satisfied: tqdm in /opt/conda/lib/python3.7/site-packages (from torchtoolbox) (4.45.0)\r\n",
      "Requirement already satisfied: scipy in /opt/conda/lib/python3.7/site-packages (from torchtoolbox) (1.4.1)\r\n",
      "Requirement already satisfied: six in /opt/conda/lib/python3.7/site-packages (from torchtoolbox) (1.14.0)\r\n",
      "Requirement already satisfied: pyarrow in /opt/conda/lib/python3.7/site-packages (from torchtoolbox) (0.16.0)\r\n",
      "Requirement already satisfied: numpy in /opt/conda/lib/python3.7/site-packages (from torchtoolbox) (1.18.5)\r\n",
      "Requirement already satisfied: future in /opt/conda/lib/python3.7/site-packages (from torch->efficientnet_pytorch) (0.18.2)\r\n",
      "Requirement already satisfied: joblib>=0.11 in /opt/conda/lib/python3.7/site-packages (from scikit-learn->torchtoolbox) (0.14.1)\r\n",
      "Requirement already satisfied: threadpoolctl>=2.0.0 in /opt/conda/lib/python3.7/site-packages (from scikit-learn->torchtoolbox) (2.1.0)\r\n",
      "Building wheels for collected packages: efficientnet-pytorch, lmdb\r\n",
      "  Building wheel for efficientnet-pytorch (setup.py) ... \u001b[?25l-\b \b\\\b \bdone\r\n",
      "\u001b[?25h  Created wheel for efficientnet-pytorch: filename=efficientnet_pytorch-0.7.0-py3-none-any.whl size=16035 sha256=83c71bc45f6d37c81374fa584bb6445d35b730e933028e21bc105e9fea6bd32f\r\n",
      "  Stored in directory: /root/.cache/pip/wheels/b7/cc/0d/41d384b0071c6f46e542aded5f8571700ace4f1eb3f1591c29\r\n",
      "  Building wheel for lmdb (setup.py) ... \u001b[?25l-\b \b\\\b \b|\b \b/\b \b-\b \bdone\r\n",
      "\u001b[?25h  Created wheel for lmdb: filename=lmdb-1.0.0-cp37-cp37m-linux_x86_64.whl size=276747 sha256=4d1402811578cc2ce6fb78d424074425c3614abac2ad1a9a9f0011deb3df6266\r\n",
      "  Stored in directory: /root/.cache/pip/wheels/12/e2/8d/261e2b6143cc3e0e690ccc065af68e44c43c26bc903ffa5d69\r\n",
      "Successfully built efficientnet-pytorch lmdb\r\n",
      "Installing collected packages: efficientnet-pytorch, lmdb, torchtoolbox\r\n",
      "Successfully installed efficientnet-pytorch-0.7.0 lmdb-1.0.0 torchtoolbox-0.1.5\r\n",
      "\u001b[33mWARNING: You are using pip version 20.2.1; however, version 20.2.3 is available.\r\n",
      "You should consider upgrading via the '/opt/conda/bin/python3.7 -m pip install --upgrade pip' command.\u001b[0m\r\n",
      "Collecting git+https://github.com/ildoonet/pytorch-gradual-warmup-lr.git\r\n",
      "  Cloning https://github.com/ildoonet/pytorch-gradual-warmup-lr.git to /tmp/pip-req-build-lu3q9luc\r\n",
      "Building wheels for collected packages: warmup-scheduler\r\n",
      "  Building wheel for warmup-scheduler (setup.py) ... \u001b[?25l-\b \b\\\b \bdone\r\n",
      "\u001b[?25h  Created wheel for warmup-scheduler: filename=warmup_scheduler-0.3.2-py3-none-any.whl size=3881 sha256=789601c0405e8397bc4b67c52f5c8c726eaa895ad82a59623b4394d42c2f71f4\r\n",
      "  Stored in directory: /tmp/pip-ephem-wheel-cache-yju1jyin/wheels/bf/81/52/0e3bc0b645a339f94c76b4dcb8c8b7a5f588a614f5add83b9f\r\n",
      "Successfully built warmup-scheduler\r\n",
      "Installing collected packages: warmup-scheduler\r\n",
      "Successfully installed warmup-scheduler-0.3.2\r\n",
      "\u001b[33mWARNING: You are using pip version 20.2.1; however, version 20.2.3 is available.\r\n",
      "You should consider upgrading via the '/opt/conda/bin/python3.7 -m pip install --upgrade pip' command.\u001b[0m\r\n"
     ]
    }
   ],
   "source": [
    "!pip install efficientnet_pytorch torchtoolbox\n",
    "!pip install git+https://github.com/ildoonet/pytorch-gradual-warmup-lr.git"
   ]
  },
  {
   "cell_type": "code",
   "execution_count": 2,
   "metadata": {
    "_cell_guid": "79c7e3d0-c299-4dcb-8224-4455121ee9b0",
    "_uuid": "d629ff2d2480ee46fbb7e2d37f6b5fab8052498a",
    "execution": {
     "iopub.execute_input": "2020-09-20T23:16:34.737394Z",
     "iopub.status.busy": "2020-09-20T23:16:34.736511Z",
     "iopub.status.idle": "2020-09-20T23:16:37.251247Z",
     "shell.execute_reply": "2020-09-20T23:16:37.250351Z"
    },
    "papermill": {
     "duration": 2.547235,
     "end_time": "2020-09-20T23:16:37.251361",
     "exception": false,
     "start_time": "2020-09-20T23:16:34.704126",
     "status": "completed"
    },
    "tags": []
   },
   "outputs": [],
   "source": [
    "# Imports here\n",
    "from efficientnet_pytorch import EfficientNet\n",
    "import matplotlib.pyplot as plt\n",
    "import torch\n",
    "from torch import nn\n",
    "from torch import optim\n",
    "import torch.nn.functional as F\n",
    "from torchvision import datasets, transforms, models\n",
    "from torch.utils.data import Dataset, DataLoader\n",
    "import matplotlib.pyplot as plt\n",
    "import seaborn as sns\n",
    "import csv\n",
    "import pandas as pd\n",
    "import os\n",
    "import random\n",
    "import math\n",
    "import skimage.io\n",
    "from torch.optim import lr_scheduler\n",
    "from torch.utils.data import DataLoader, Dataset\n",
    "from torch.utils.data.sampler import SubsetRandomSampler, RandomSampler, SequentialSampler\n",
    "from warmup_scheduler import GradualWarmupScheduler\n",
    "import time\n",
    "\n",
    "# Tiff visualisation imports and downloads\n",
    "import numpy as np\n",
    "import tifffile as tiff\n",
    "\n",
    "# For re-importing python modules\n",
    "import importlib\n",
    "#importlib.reload(csv_loader.py)\n",
    "\n",
    "#for quadratic score calculator\n",
    "from sklearn.metrics import cohen_kappa_score\n"
   ]
  },
  {
   "cell_type": "code",
   "execution_count": 3,
   "metadata": {
    "execution": {
     "iopub.execute_input": "2020-09-20T23:16:37.650700Z",
     "iopub.status.busy": "2020-09-20T23:16:37.650053Z",
     "iopub.status.idle": "2020-09-20T23:16:37.654721Z",
     "shell.execute_reply": "2020-09-20T23:16:37.654172Z"
    },
    "papermill": {
     "duration": 0.38062,
     "end_time": "2020-09-20T23:16:37.654845",
     "exception": false,
     "start_time": "2020-09-20T23:16:37.274225",
     "status": "completed"
    },
    "tags": []
   },
   "outputs": [],
   "source": [
    "#use GPU if available\n",
    "device = torch.device(\"cuda\" if torch.cuda.is_available() else \"cpu\")\n",
    "torch.set_default_tensor_type(torch.cuda.FloatTensor)"
   ]
  },
  {
   "cell_type": "code",
   "execution_count": 4,
   "metadata": {
    "execution": {
     "iopub.execute_input": "2020-09-20T23:16:37.708583Z",
     "iopub.status.busy": "2020-09-20T23:16:37.707880Z",
     "iopub.status.idle": "2020-09-20T23:16:37.849102Z",
     "shell.execute_reply": "2020-09-20T23:16:37.848265Z"
    },
    "papermill": {
     "duration": 0.171541,
     "end_time": "2020-09-20T23:16:37.849211",
     "exception": false,
     "start_time": "2020-09-20T23:16:37.677670",
     "status": "completed"
    },
    "tags": []
   },
   "outputs": [],
   "source": [
    "# Creating ability to control how many pictures go into the training sample. For debugging / training purposes\n",
    "sample_size = 10616\n",
    "df = pd.read_csv('../input/prostate-cancer-grade-assessment/train.csv').copy().sample(sample_size)\n",
    "df.to_csv(\"sample.csv\", sep=\",\", index=False)"
   ]
  },
  {
   "cell_type": "code",
   "execution_count": 5,
   "metadata": {
    "execution": {
     "iopub.execute_input": "2020-09-20T23:16:37.908806Z",
     "iopub.status.busy": "2020-09-20T23:16:37.907145Z",
     "iopub.status.idle": "2020-09-20T23:16:37.909726Z",
     "shell.execute_reply": "2020-09-20T23:16:37.910229Z"
    },
    "papermill": {
     "duration": 0.038105,
     "end_time": "2020-09-20T23:16:37.910347",
     "exception": false,
     "start_time": "2020-09-20T23:16:37.872242",
     "status": "completed"
    },
    "tags": []
   },
   "outputs": [],
   "source": [
    "class load_csv(Dataset):\n",
    "    def __init__(self, csv_file, root_dir, transform=None):\n",
    "        self.annotations = pd.read_csv(csv_file)# todo remove sample for debug\n",
    "        self.root_dir = root_dir\n",
    "        self.transform = transform\n",
    "    \n",
    "    def __len__(self):\n",
    "        return len(self.annotations)\n",
    "        \n",
    "    \n",
    "    def __getitem__(self, index):\n",
    "        image_id = self.annotations.iloc[index, 0]\n",
    "        img_path = os.path.join(self.root_dir, str(image_id) +\".png\")\n",
    "        image = torch.from_numpy(skimage.io.imread(img_path)).permute(2,0,1).float()\n",
    "        \n",
    "        #y_label = torch.tensor(int(self.annotations.iloc[index,:]['isup_grade']))\n",
    "        isup_grade = int(self.annotations.iloc[index,:]['isup_grade'])\n",
    "        \n",
    "        label = np.zeros(5).astype(np.float32)\n",
    "        label[:isup_grade] = 1.\n",
    "        \n",
    "        \n",
    "        self.transform= transforms.Compose([transforms.ToPILImage(),\n",
    "                                            transforms.ToTensor()])\n",
    "                                            \n",
    "        if self.transform:\n",
    "            image = self.transform(image)\n",
    "        \n",
    "        return (image, torch.tensor(label), image_id)"
   ]
  },
  {
   "cell_type": "code",
   "execution_count": 6,
   "metadata": {
    "execution": {
     "iopub.execute_input": "2020-09-20T23:16:37.970290Z",
     "iopub.status.busy": "2020-09-20T23:16:37.969143Z",
     "iopub.status.idle": "2020-09-20T23:16:42.412309Z",
     "shell.execute_reply": "2020-09-20T23:16:42.411719Z"
    },
    "papermill": {
     "duration": 4.476856,
     "end_time": "2020-09-20T23:16:42.412414",
     "exception": false,
     "start_time": "2020-09-20T23:16:37.935558",
     "status": "completed"
    },
    "tags": []
   },
   "outputs": [],
   "source": [
    "# Loading csv dataset into the dataset loader function load_csv. \n",
    "dataset = load_csv(csv_file='sample.csv', root_dir='../input/36x128x128-images/36x128x128_images')\n",
    "\n",
    "# Creating sample subsets for validation and testing datasets\n",
    "sample_size = dataset.annotations.shape[0]\n",
    "train_ratio = .75\n",
    "valid_ratio = .15\n",
    "test_ratio = 1-(train_ratio + valid_ratio)\n",
    "train_size = int(train_ratio*sample_size)\n",
    "valid_size = int(valid_ratio*sample_size)\n",
    "test_size = sample_size - train_size - valid_size\n",
    "\n",
    "# Defining different datasets and respective dataloaders\n",
    "batch_size=13\n",
    "\n",
    "train_set, valid_set, test_set = torch.utils.data.random_split(dataset, [train_size, valid_size, test_size])\n",
    "\n",
    "train_loader = torch.utils.data.DataLoader(train_set, batch_size=batch_size, shuffle=True)\n",
    "valid_loader = torch.utils.data.DataLoader(valid_set, batch_size=batch_size, shuffle=True)\n",
    "test_loader = torch.utils.data.DataLoader(test_set, batch_size=batch_size, shuffle=False)\n",
    "entire_set_loader = torch.utils.data.DataLoader(dataset, batch_size=batch_size, shuffle=False)"
   ]
  },
  {
   "cell_type": "code",
   "execution_count": 7,
   "metadata": {
    "execution": {
     "iopub.execute_input": "2020-09-20T23:16:42.472519Z",
     "iopub.status.busy": "2020-09-20T23:16:42.471686Z",
     "iopub.status.idle": "2020-09-20T23:16:44.201410Z",
     "shell.execute_reply": "2020-09-20T23:16:44.202130Z"
    },
    "papermill": {
     "duration": 1.766416,
     "end_time": "2020-09-20T23:16:44.202306",
     "exception": false,
     "start_time": "2020-09-20T23:16:42.435890",
     "status": "completed"
    },
    "tags": []
   },
   "outputs": [
    {
     "name": "stderr",
     "output_type": "stream",
     "text": [
      "Downloading: \"https://github.com/lukemelas/EfficientNet-PyTorch/releases/download/1.0/efficientnet-b0-355c32eb.pth\" to /root/.cache/torch/checkpoints/efficientnet-b0-355c32eb.pth\n"
     ]
    },
    {
     "data": {
      "application/vnd.jupyter.widget-view+json": {
       "model_id": "1ab80803417a46698496f4f9985dfeb9",
       "version_major": 2,
       "version_minor": 0
      },
      "text/plain": [
       "HBox(children=(FloatProgress(value=0.0, max=21388428.0), HTML(value='')))"
      ]
     },
     "metadata": {},
     "output_type": "display_data"
    },
    {
     "name": "stdout",
     "output_type": "stream",
     "text": [
      "\n",
      "Loaded pretrained weights for efficientnet-b0\n"
     ]
    }
   ],
   "source": [
    "\n",
    "# Creating model and uploading/creating needed training components\n",
    "model = EfficientNet.from_pretrained('efficientnet-b0', num_classes=5)\n",
    "model._fc = model._fc = nn.Sequential(nn.Linear(model._fc.in_features, 216),\n",
    "                          nn.ReLU(),\n",
    "                          nn.Linear(216, 36, bias=True),\n",
    "                          nn.ReLU(),\n",
    "                          nn.Linear(36, 5, bias=True))\n",
    "\n",
    "\n",
    "if torch.cuda.is_available():\n",
    "    model = model.cuda()"
   ]
  },
  {
   "cell_type": "code",
   "execution_count": 8,
   "metadata": {
    "execution": {
     "iopub.execute_input": "2020-09-20T23:16:44.261621Z",
     "iopub.status.busy": "2020-09-20T23:16:44.260973Z",
     "iopub.status.idle": "2020-09-20T23:16:44.263988Z",
     "shell.execute_reply": "2020-09-20T23:16:44.264427Z"
    },
    "papermill": {
     "duration": 0.036696,
     "end_time": "2020-09-20T23:16:44.264548",
     "exception": false,
     "start_time": "2020-09-20T23:16:44.227852",
     "status": "completed"
    },
    "tags": []
   },
   "outputs": [],
   "source": [
    "init_lr = 3e-4\n",
    "warmup_factor = 10\n",
    "\n",
    "warmup_epo = 1\n",
    "n_epochs = 30\n",
    "\n",
    "optimizer = optim.Adam(model.parameters(), lr=init_lr/warmup_factor)\n",
    "scheduler_cosine = torch.optim.lr_scheduler.CosineAnnealingLR(optimizer, n_epochs-warmup_epo)\n",
    "scheduler = GradualWarmupScheduler(optimizer, multiplier=warmup_factor, total_epoch=warmup_epo, after_scheduler=scheduler_cosine)\n",
    "\n",
    "criterion = nn.BCEWithLogitsLoss()"
   ]
  },
  {
   "cell_type": "code",
   "execution_count": 9,
   "metadata": {
    "execution": {
     "iopub.execute_input": "2020-09-20T23:16:44.326319Z",
     "iopub.status.busy": "2020-09-20T23:16:44.325579Z",
     "iopub.status.idle": "2020-09-20T23:16:44.328875Z",
     "shell.execute_reply": "2020-09-20T23:16:44.329317Z"
    },
    "papermill": {
     "duration": 0.040318,
     "end_time": "2020-09-20T23:16:44.329441",
     "exception": false,
     "start_time": "2020-09-20T23:16:44.289123",
     "status": "completed"
    },
    "tags": []
   },
   "outputs": [],
   "source": [
    "def validate_data_function(model, test_loader, criterion):\n",
    "    test_loss = 0\n",
    "    accuracy = 0\n",
    "    output_list = []\n",
    "    preds_list = []\n",
    "    dec_list = []\n",
    "    target_list = []\n",
    "    loss_list = []\n",
    "    \n",
    "    with torch.no_grad():\n",
    "        \n",
    "        for ii, (inputs, labels, image_id) in enumerate(test_loader):\n",
    "        \n",
    "            inputs, labels = inputs.to(device), labels.to(device)\n",
    "            output = model.forward(inputs)\n",
    "            \n",
    "            loss = criterion(output,labels)\n",
    "               \n",
    "            dec = output.sigmoid().sum(1).detach()\n",
    "        \n",
    "            output_list.append(output)\n",
    "            preds_list.append(dec.round())\n",
    "            target_list.append(labels.sum(1))\n",
    "            dec_list.append(dec)\n",
    "        \n",
    "            loss_np = loss.detach().cpu().numpy()\n",
    "            loss_list.append(loss_np)        \n",
    "        test_loss = np.mean(loss_list)\n",
    "        \n",
    "        preds_list = torch.cat(preds_list).cpu().numpy()\n",
    "        target_list = torch.cat(target_list).cpu().numpy()\n",
    "        accuracy = np.mean(preds_list == target_list) * 100.\n",
    "        \n",
    "        #pred = output.cpu().data.numpy().argmax()\n",
    "        #qwk = cohen_kappa_score(pred, labels, weights='quadratic')\n",
    "    \n",
    "    return test_loss, accuracy, image_id, preds_list, target_list"
   ]
  },
  {
   "cell_type": "code",
   "execution_count": 10,
   "metadata": {
    "execution": {
     "iopub.execute_input": "2020-09-20T23:16:44.409188Z",
     "iopub.status.busy": "2020-09-20T23:16:44.408409Z",
     "iopub.status.idle": "2020-09-21T07:29:15.633653Z",
     "shell.execute_reply": "2020-09-21T07:29:15.632898Z"
    },
    "papermill": {
     "duration": 29551.271875,
     "end_time": "2020-09-21T07:29:15.634443",
     "exception": false,
     "start_time": "2020-09-20T23:16:44.362568",
     "status": "completed"
    },
    "tags": []
   },
   "outputs": [
    {
     "name": "stderr",
     "output_type": "stream",
     "text": [
      "/opt/conda/lib/python3.7/site-packages/torch/optim/lr_scheduler.py:123: UserWarning: Detected call of `lr_scheduler.step()` before `optimizer.step()`. In PyTorch 1.1.0 and later, you should call them in the opposite order: `optimizer.step()` before `lr_scheduler.step()`.  Failure to do this will result in PyTorch skipping the first value of the learning rate schedule. See more details at https://pytorch.org/docs/stable/optim.html#how-to-adjust-learning-rate\n",
      "  \"https://pytorch.org/docs/stable/optim.html#how-to-adjust-learning-rate\", UserWarning)\n",
      "/opt/conda/lib/python3.7/site-packages/torch/optim/lr_scheduler.py:143: UserWarning: The epoch parameter in `scheduler.step()` was not necessary and is being deprecated where possible. Please use `scheduler.step()` to step the scheduler. During the deprecation, if epoch is different from None, the closed form is used instead of the new chainable form, where available. Please open an issue if you are unable to replicate your use case: https://github.com/pytorch/pytorch/issues/new/choose.\n",
      "  warnings.warn(EPOCH_DEPRECATION_WARNING, UserWarning)\n"
     ]
    },
    {
     "name": "stdout",
     "output_type": "stream",
     "text": [
      "Epoch: 1/30..| lr: 0.000030..|Train loss: 0.528..| Validation loss: 0.001..| Validation accuracy: 30.402|Epoch train time (m):  10.764..|\n",
      "Epoch: 2/30..| lr: 0.000300..|Train loss: 0.172..| Validation loss: 0.001..| Validation accuracy: 45.729|Epoch train time (m):  21.451..|\n",
      "Epoch: 2/30..| lr: 0.000300..|Train loss: 0.337..| Validation loss: 0.001..| Validation accuracy: 47.173|Epoch train time (m):  31.995..|\n",
      "Epoch: 3/30..| lr: 0.000030..|Train loss: 0.258..| Validation loss: 0.001..| Validation accuracy: 54.523|Epoch train time (m):  42.445..|\n",
      "Epoch: 4/30..| lr: 0.000296..|Train loss: 0.115..| Validation loss: 0.001..| Validation accuracy: 49.058|Epoch train time (m):  53.022..|\n",
      "Epoch: 4/30..| lr: 0.000296..|Train loss: 0.279..| Validation loss: 0.001..| Validation accuracy: 50.565|Epoch train time (m):  63.634..|\n",
      "Epoch: 5/30..| lr: 0.000292..|Train loss: 0.214..| Validation loss: 0.001..| Validation accuracy: 51.193|Epoch train time (m):  74.218..|\n",
      "Epoch: 6/30..| lr: 0.000286..|Train loss: 0.072..| Validation loss: 0.001..| Validation accuracy: 57.663|Epoch train time (m):  85.067..|\n",
      "Epoch: 6/30..| lr: 0.000286..|Train loss: 0.208..| Validation loss: 0.001..| Validation accuracy: 56.156|Epoch train time (m):  95.834..|\n",
      "Epoch: 7/30..| lr: 0.000279..|Train loss: 0.138..| Validation loss: 0.001..| Validation accuracy: 58.731|Epoch train time (m):  106.508..|\n",
      "Epoch: 8/30..| lr: 0.000269..|Train loss: 0.039..| Validation loss: 0.001..| Validation accuracy: 55.214|Epoch train time (m):  117.281..|\n",
      "Epoch: 8/30..| lr: 0.000269..|Train loss: 0.154..| Validation loss: 0.001..| Validation accuracy: 60.616|Epoch train time (m):  128.095..|\n",
      "Epoch: 9/30..| lr: 0.000259..|Train loss: 0.087..| Validation loss: 0.001..| Validation accuracy: 56.972|Epoch train time (m):  138.793..|\n",
      "Epoch: 10/30..| lr: 0.000247..|Train loss: 0.018..| Validation loss: 0.001..| Validation accuracy: 59.171|Epoch train time (m):  149.539..|\n",
      "Epoch: 10/30..| lr: 0.000247..|Train loss: 0.103..| Validation loss: 0.001..| Validation accuracy: 54.774|Epoch train time (m):  160.049..|\n",
      "Epoch: 11/30..| lr: 0.000234..|Train loss: 0.054..| Validation loss: 0.001..| Validation accuracy: 58.229|Epoch train time (m):  170.596..|\n",
      "Epoch: 12/30..| lr: 0.000220..|Train loss: 0.010..| Validation loss: 0.001..| Validation accuracy: 58.731|Epoch train time (m):  181.237..|\n",
      "Epoch: 12/30..| lr: 0.000220..|Train loss: 0.073..| Validation loss: 0.001..| Validation accuracy: 58.982|Epoch train time (m):  191.598..|\n",
      "Epoch: 13/30..| lr: 0.000206..|Train loss: 0.037..| Validation loss: 0.001..| Validation accuracy: 54.271|Epoch train time (m):  201.956..|\n",
      "Epoch: 14/30..| lr: 0.000190..|Train loss: 0.003..| Validation loss: 0.001..| Validation accuracy: 59.799|Epoch train time (m):  212.334..|\n",
      "Epoch: 14/30..| lr: 0.000190..|Train loss: 0.045..| Validation loss: 0.001..| Validation accuracy: 60.302|Epoch train time (m):  222.635..|\n",
      "Epoch: 15/30..| lr: 0.000174..|Train loss: 0.022..| Validation loss: 0.001..| Validation accuracy: 57.663|Epoch train time (m):  232.963..|\n",
      "Epoch: 16/30..| lr: 0.000158..|Train loss: 0.001..| Validation loss: 0.001..| Validation accuracy: 59.045|Epoch train time (m):  243.551..|\n",
      "Epoch: 16/30..| lr: 0.000158..|Train loss: 0.036..| Validation loss: 0.001..| Validation accuracy: 58.229|Epoch train time (m):  254.345..|\n",
      "Epoch: 17/30..| lr: 0.000142..|Train loss: 0.015..| Validation loss: 0.001..| Validation accuracy: 59.925|Epoch train time (m):  265.226..|\n",
      "Epoch: 17/30..| lr: 0.000142..|Train loss: 0.028..| Validation loss: 0.001..| Validation accuracy: 60.867|Epoch train time (m):  276.159..|\n",
      "Epoch: 18/30..| lr: 0.000126..|Train loss: 0.024..| Validation loss: 0.001..| Validation accuracy: 60.364|Epoch train time (m):  286.608..|\n",
      "Epoch: 19/30..| lr: 0.000110..|Train loss: 0.011..| Validation loss: 0.001..| Validation accuracy: 59.359|Epoch train time (m):  297.077..|\n",
      "Epoch: 19/30..| lr: 0.000110..|Train loss: 0.018..| Validation loss: 0.001..| Validation accuracy: 59.485|Epoch train time (m):  307.707..|\n",
      "Epoch: 20/30..| lr: 0.000094..|Train loss: 0.015..| Validation loss: 0.002..| Validation accuracy: 57.915|Epoch train time (m):  318.356..|\n",
      "Epoch: 21/30..| lr: 0.000080..|Train loss: 0.006..| Validation loss: 0.002..| Validation accuracy: 59.422|Epoch train time (m):  329.237..|\n",
      "Epoch: 21/30..| lr: 0.000080..|Train loss: 0.014..| Validation loss: 0.002..| Validation accuracy: 59.673|Epoch train time (m):  340.158..|\n",
      "Epoch: 22/30..| lr: 0.000066..|Train loss: 0.009..| Validation loss: 0.002..| Validation accuracy: 59.108|Epoch train time (m):  350.870..|\n",
      "Epoch: 23/30..| lr: 0.000053..|Train loss: 0.003..| Validation loss: 0.002..| Validation accuracy: 61.244|Epoch train time (m):  361.628..|\n",
      "Epoch: 23/30..| lr: 0.000053..|Train loss: 0.009..| Validation loss: 0.002..| Validation accuracy: 60.992|Epoch train time (m):  372.564..|\n",
      "Epoch: 24/30..| lr: 0.000041..|Train loss: 0.006..| Validation loss: 0.002..| Validation accuracy: 60.616|Epoch train time (m):  383.406..|\n",
      "Epoch: 25/30..| lr: 0.000031..|Train loss: 0.002..| Validation loss: 0.002..| Validation accuracy: 60.176|Epoch train time (m):  394.412..|\n",
      "Epoch: 25/30..| lr: 0.000031..|Train loss: 0.005..| Validation loss: 0.002..| Validation accuracy: 60.113|Epoch train time (m):  405.469..|\n",
      "Epoch: 26/30..| lr: 0.000021..|Train loss: 0.006..| Validation loss: 0.002..| Validation accuracy: 61.683|Epoch train time (m):  416.463..|\n",
      "Epoch: 27/30..| lr: 0.000014..|Train loss: 0.001..| Validation loss: 0.002..| Validation accuracy: 61.118|Epoch train time (m):  428.838..|\n",
      "Epoch: 27/30..| lr: 0.000014..|Train loss: 0.005..| Validation loss: 0.002..| Validation accuracy: 61.244|Epoch train time (m):  439.691..|\n",
      "Epoch: 28/30..| lr: 0.000008..|Train loss: 0.003..| Validation loss: 0.002..| Validation accuracy: 61.055|Epoch train time (m):  450.516..|\n",
      "Epoch: 29/30..| lr: 0.000004..|Train loss: 0.000..| Validation loss: 0.002..| Validation accuracy: 60.930|Epoch train time (m):  461.443..|\n",
      "Epoch: 29/30..| lr: 0.000004..|Train loss: 0.005..| Validation loss: 0.002..| Validation accuracy: 60.804|Epoch train time (m):  472.399..|\n",
      "Epoch: 30/30..| lr: 0.000001..|Train loss: 0.003..| Validation loss: 0.002..| Validation accuracy: 60.678|Epoch train time (m):  483.522..|\n"
     ]
    }
   ],
   "source": [
    "# Training parameters and t=0 inputs\n",
    "print_every = 400\n",
    "steps = 0\n",
    "test_loss = 0\n",
    "output_list = []\n",
    "label_list = []\n",
    "\n",
    "start = time.time()\n",
    "\n",
    "\n",
    "# May the training begin!\n",
    "for epoch in range(1, n_epochs+1):\n",
    "    model.train()\n",
    "    running_loss = 0\n",
    "    \n",
    "    scheduler.step(epoch-1)\n",
    "    \n",
    "    \n",
    "    for ii, (inputs, labels, image_id) in enumerate(train_loader):\n",
    "        steps += 1\n",
    "        \n",
    "        \n",
    "        inputs, labels = inputs.to(device), labels.to(device)\n",
    "        \n",
    "        optimizer.zero_grad()\n",
    "        \n",
    "       \n",
    "        outputs = model.forward(inputs)#.forward(inputs)\n",
    "        loss = criterion(outputs, labels)#.long())\n",
    "        loss.backward()\n",
    "        optimizer.step()\n",
    "    \n",
    "        \n",
    "        running_loss += loss.item()\n",
    "        output_list.append(outputs.sum(1).round())\n",
    "        label_list.append(labels.sum(1))\n",
    "        \n",
    "        if steps % print_every == 0:\n",
    "            model.eval()\n",
    "            \n",
    "            train_accuracy=0.0\n",
    "            \n",
    "            with torch.no_grad():\n",
    "                valid_loss, accuracy, image_id,_,_ = validate_data_function(model, valid_loader, criterion)\n",
    "                #train_accuracy = np.mean(output_list == label_list)\n",
    "                #train_accuracy = equality.type(torch.FloatTensor)/steps * 100.\n",
    "                end = time.time()\n",
    "                train_time = end - start\n",
    "                \n",
    "            epoch_lr = optimizer.param_groups[0][\"lr\"]\n",
    "            print(f\"Epoch: {epoch}/{n_epochs}..| \"\n",
    "                  f\"lr: {epoch_lr:.6f}..|\"\n",
    "                  f\"Train loss: {running_loss/print_every:.3f}..| \"\n",
    "                  #f\"Train accuracy: {train_accuracy:.3f}..| \"\n",
    "                  f\"Validation loss: {valid_loss/print_every:.3f}..| \"                  \n",
    "                  f\"Validation accuracy: {accuracy:.3f}|\"\n",
    "                  f\"Epoch train time (m): {train_time/60: .3f}..|\"\n",
    "                 )\n",
    "            \n",
    "            \n",
    "            \n",
    "            running_loss = 0\n",
    "            model.train()\n",
    "    \n",
    "    path = 'base_model_w_logits_36x128x128.pth'\n",
    "    torch.save({\n",
    "            'epoch': epoch,\n",
    "            'model_state_dict': model.state_dict(),\n",
    "            'classifier_state_dict': model._fc.state_dict(),\n",
    "            'optimizer_state_dict': optimizer.state_dict(),\n",
    "            'loss': loss\n",
    "            }, path)\n",
    "    \n",
    "    \n",
    "    model.cuda() # moving model to GPU for further training"
   ]
  },
  {
   "cell_type": "code",
   "execution_count": 11,
   "metadata": {
    "execution": {
     "iopub.execute_input": "2020-09-21T07:29:15.735841Z",
     "iopub.status.busy": "2020-09-21T07:29:15.734929Z",
     "iopub.status.idle": "2020-09-21T07:30:32.925272Z",
     "shell.execute_reply": "2020-09-21T07:30:32.926189Z"
    },
    "papermill": {
     "duration": 77.247881,
     "end_time": "2020-09-21T07:30:32.926394",
     "exception": false,
     "start_time": "2020-09-21T07:29:15.678513",
     "status": "completed"
    },
    "tags": []
   },
   "outputs": [
    {
     "name": "stdout",
     "output_type": "stream",
     "text": [
      "Test Accuracy: 63.2768361581921%\n"
     ]
    }
   ],
   "source": [
    "model.eval()\n",
    "    \n",
    "with torch.no_grad():\n",
    "    test_loss, accuracy, image_id, _, _ = validate_data_function(model, test_loader, criterion)\n",
    "                \n",
    "print(\"Test Accuracy: {}%\".format(accuracy))"
   ]
  }
 ],
 "metadata": {
  "kernelspec": {
   "display_name": "Python 3",
   "language": "python",
   "name": "python3"
  },
  "language_info": {
   "codemirror_mode": {
    "name": "ipython",
    "version": 3
   },
   "file_extension": ".py",
   "mimetype": "text/x-python",
   "name": "python",
   "nbconvert_exporter": "python",
   "pygments_lexer": "ipython3",
   "version": "3.7.6"
  },
  "papermill": {
   "duration": 29673.344524,
   "end_time": "2020-09-21T07:30:34.635378",
   "environment_variables": {},
   "exception": null,
   "input_path": "__notebook__.ipynb",
   "output_path": "__notebook__.ipynb",
   "parameters": {},
   "start_time": "2020-09-20T23:16:01.290854",
   "version": "2.1.0"
  },
  "widgets": {
   "application/vnd.jupyter.widget-state+json": {
    "state": {
     "1ab80803417a46698496f4f9985dfeb9": {
      "model_module": "@jupyter-widgets/controls",
      "model_module_version": "1.5.0",
      "model_name": "HBoxModel",
      "state": {
       "_dom_classes": [],
       "_model_module": "@jupyter-widgets/controls",
       "_model_module_version": "1.5.0",
       "_model_name": "HBoxModel",
       "_view_count": null,
       "_view_module": "@jupyter-widgets/controls",
       "_view_module_version": "1.5.0",
       "_view_name": "HBoxView",
       "box_style": "",
       "children": [
        "IPY_MODEL_1c632acc72aa424f8f0f4b3ec73ee681",
        "IPY_MODEL_2f9c52ba148d4b2fa61eea5966c87ad6"
       ],
       "layout": "IPY_MODEL_73299132508a429b8101bfad3ee74c40"
      }
     },
     "1c632acc72aa424f8f0f4b3ec73ee681": {
      "model_module": "@jupyter-widgets/controls",
      "model_module_version": "1.5.0",
      "model_name": "FloatProgressModel",
      "state": {
       "_dom_classes": [],
       "_model_module": "@jupyter-widgets/controls",
       "_model_module_version": "1.5.0",
       "_model_name": "FloatProgressModel",
       "_view_count": null,
       "_view_module": "@jupyter-widgets/controls",
       "_view_module_version": "1.5.0",
       "_view_name": "ProgressView",
       "bar_style": "success",
       "description": "100%",
       "description_tooltip": null,
       "layout": "IPY_MODEL_af8ce43d17d140f89539a4a6901a3a1f",
       "max": 21388428.0,
       "min": 0.0,
       "orientation": "horizontal",
       "style": "IPY_MODEL_f4535177734a42138141983d2125d384",
       "value": 21388428.0
      }
     },
     "2f9c52ba148d4b2fa61eea5966c87ad6": {
      "model_module": "@jupyter-widgets/controls",
      "model_module_version": "1.5.0",
      "model_name": "HTMLModel",
      "state": {
       "_dom_classes": [],
       "_model_module": "@jupyter-widgets/controls",
       "_model_module_version": "1.5.0",
       "_model_name": "HTMLModel",
       "_view_count": null,
       "_view_module": "@jupyter-widgets/controls",
       "_view_module_version": "1.5.0",
       "_view_name": "HTMLView",
       "description": "",
       "description_tooltip": null,
       "layout": "IPY_MODEL_8ae22c0b86f94ff8ab8e7f047192b5a9",
       "placeholder": "​",
       "style": "IPY_MODEL_aeeebe056d2740a7b031f3af1eddc186",
       "value": " 20.4M/20.4M [00:12&lt;00:00, 1.73MB/s]"
      }
     },
     "73299132508a429b8101bfad3ee74c40": {
      "model_module": "@jupyter-widgets/base",
      "model_module_version": "1.2.0",
      "model_name": "LayoutModel",
      "state": {
       "_model_module": "@jupyter-widgets/base",
       "_model_module_version": "1.2.0",
       "_model_name": "LayoutModel",
       "_view_count": null,
       "_view_module": "@jupyter-widgets/base",
       "_view_module_version": "1.2.0",
       "_view_name": "LayoutView",
       "align_content": null,
       "align_items": null,
       "align_self": null,
       "border": null,
       "bottom": null,
       "display": null,
       "flex": null,
       "flex_flow": null,
       "grid_area": null,
       "grid_auto_columns": null,
       "grid_auto_flow": null,
       "grid_auto_rows": null,
       "grid_column": null,
       "grid_gap": null,
       "grid_row": null,
       "grid_template_areas": null,
       "grid_template_columns": null,
       "grid_template_rows": null,
       "height": null,
       "justify_content": null,
       "justify_items": null,
       "left": null,
       "margin": null,
       "max_height": null,
       "max_width": null,
       "min_height": null,
       "min_width": null,
       "object_fit": null,
       "object_position": null,
       "order": null,
       "overflow": null,
       "overflow_x": null,
       "overflow_y": null,
       "padding": null,
       "right": null,
       "top": null,
       "visibility": null,
       "width": null
      }
     },
     "8ae22c0b86f94ff8ab8e7f047192b5a9": {
      "model_module": "@jupyter-widgets/base",
      "model_module_version": "1.2.0",
      "model_name": "LayoutModel",
      "state": {
       "_model_module": "@jupyter-widgets/base",
       "_model_module_version": "1.2.0",
       "_model_name": "LayoutModel",
       "_view_count": null,
       "_view_module": "@jupyter-widgets/base",
       "_view_module_version": "1.2.0",
       "_view_name": "LayoutView",
       "align_content": null,
       "align_items": null,
       "align_self": null,
       "border": null,
       "bottom": null,
       "display": null,
       "flex": null,
       "flex_flow": null,
       "grid_area": null,
       "grid_auto_columns": null,
       "grid_auto_flow": null,
       "grid_auto_rows": null,
       "grid_column": null,
       "grid_gap": null,
       "grid_row": null,
       "grid_template_areas": null,
       "grid_template_columns": null,
       "grid_template_rows": null,
       "height": null,
       "justify_content": null,
       "justify_items": null,
       "left": null,
       "margin": null,
       "max_height": null,
       "max_width": null,
       "min_height": null,
       "min_width": null,
       "object_fit": null,
       "object_position": null,
       "order": null,
       "overflow": null,
       "overflow_x": null,
       "overflow_y": null,
       "padding": null,
       "right": null,
       "top": null,
       "visibility": null,
       "width": null
      }
     },
     "aeeebe056d2740a7b031f3af1eddc186": {
      "model_module": "@jupyter-widgets/controls",
      "model_module_version": "1.5.0",
      "model_name": "DescriptionStyleModel",
      "state": {
       "_model_module": "@jupyter-widgets/controls",
       "_model_module_version": "1.5.0",
       "_model_name": "DescriptionStyleModel",
       "_view_count": null,
       "_view_module": "@jupyter-widgets/base",
       "_view_module_version": "1.2.0",
       "_view_name": "StyleView",
       "description_width": ""
      }
     },
     "af8ce43d17d140f89539a4a6901a3a1f": {
      "model_module": "@jupyter-widgets/base",
      "model_module_version": "1.2.0",
      "model_name": "LayoutModel",
      "state": {
       "_model_module": "@jupyter-widgets/base",
       "_model_module_version": "1.2.0",
       "_model_name": "LayoutModel",
       "_view_count": null,
       "_view_module": "@jupyter-widgets/base",
       "_view_module_version": "1.2.0",
       "_view_name": "LayoutView",
       "align_content": null,
       "align_items": null,
       "align_self": null,
       "border": null,
       "bottom": null,
       "display": null,
       "flex": null,
       "flex_flow": null,
       "grid_area": null,
       "grid_auto_columns": null,
       "grid_auto_flow": null,
       "grid_auto_rows": null,
       "grid_column": null,
       "grid_gap": null,
       "grid_row": null,
       "grid_template_areas": null,
       "grid_template_columns": null,
       "grid_template_rows": null,
       "height": null,
       "justify_content": null,
       "justify_items": null,
       "left": null,
       "margin": null,
       "max_height": null,
       "max_width": null,
       "min_height": null,
       "min_width": null,
       "object_fit": null,
       "object_position": null,
       "order": null,
       "overflow": null,
       "overflow_x": null,
       "overflow_y": null,
       "padding": null,
       "right": null,
       "top": null,
       "visibility": null,
       "width": null
      }
     },
     "f4535177734a42138141983d2125d384": {
      "model_module": "@jupyter-widgets/controls",
      "model_module_version": "1.5.0",
      "model_name": "ProgressStyleModel",
      "state": {
       "_model_module": "@jupyter-widgets/controls",
       "_model_module_version": "1.5.0",
       "_model_name": "ProgressStyleModel",
       "_view_count": null,
       "_view_module": "@jupyter-widgets/base",
       "_view_module_version": "1.2.0",
       "_view_name": "StyleView",
       "bar_color": null,
       "description_width": "initial"
      }
     }
    },
    "version_major": 2,
    "version_minor": 0
   }
  }
 },
 "nbformat": 4,
 "nbformat_minor": 4
}
