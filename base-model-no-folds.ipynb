{
 "cells": [
  {
   "cell_type": "code",
   "execution_count": 1,
   "metadata": {
    "_cell_guid": "b1076dfc-b9ad-4769-8c92-a6c4dae69d19",
    "_uuid": "8f2839f25d086af736a60e9eeb907d3b93b6e0e5",
    "execution": {
     "iopub.execute_input": "2020-08-29T02:20:56.090622Z",
     "iopub.status.busy": "2020-08-29T02:20:56.076457Z",
     "iopub.status.idle": "2020-08-29T02:21:16.579705Z",
     "shell.execute_reply": "2020-08-29T02:21:16.578648Z"
    },
    "papermill": {
     "duration": 20.517454,
     "end_time": "2020-08-29T02:21:16.579858",
     "exception": false,
     "start_time": "2020-08-29T02:20:56.062404",
     "status": "completed"
    },
    "tags": []
   },
   "outputs": [
    {
     "name": "stdout",
     "output_type": "stream",
     "text": [
      "Collecting efficientnet_pytorch\r\n",
      "  Downloading efficientnet_pytorch-0.7.0.tar.gz (20 kB)\r\n",
      "Collecting torchtoolbox\r\n",
      "  Downloading torchtoolbox-0.1.5-py3-none-any.whl (58 kB)\r\n",
      "\u001b[K     |████████████████████████████████| 58 kB 904 kB/s \r\n",
      "\u001b[?25hRequirement already satisfied: torch in /opt/conda/lib/python3.7/site-packages (from efficientnet_pytorch) (1.5.1)\r\n",
      "Requirement already satisfied: scikit-learn in /opt/conda/lib/python3.7/site-packages (from torchtoolbox) (0.23.2)\r\n",
      "Requirement already satisfied: scipy in /opt/conda/lib/python3.7/site-packages (from torchtoolbox) (1.4.1)\r\n",
      "Requirement already satisfied: opencv-python in /opt/conda/lib/python3.7/site-packages (from torchtoolbox) (4.3.0.36)\r\n",
      "Requirement already satisfied: numpy in /opt/conda/lib/python3.7/site-packages (from torchtoolbox) (1.18.5)\r\n",
      "Requirement already satisfied: pyarrow in /opt/conda/lib/python3.7/site-packages (from torchtoolbox) (0.16.0)\r\n",
      "Requirement already satisfied: six in /opt/conda/lib/python3.7/site-packages (from torchtoolbox) (1.14.0)\r\n",
      "Requirement already satisfied: tqdm in /opt/conda/lib/python3.7/site-packages (from torchtoolbox) (4.45.0)\r\n",
      "Collecting lmdb\r\n",
      "  Downloading lmdb-1.0.0.tar.gz (876 kB)\r\n",
      "\u001b[K     |████████████████████████████████| 876 kB 1.7 MB/s \r\n",
      "\u001b[?25hRequirement already satisfied: future in /opt/conda/lib/python3.7/site-packages (from torch->efficientnet_pytorch) (0.18.2)\r\n",
      "Requirement already satisfied: threadpoolctl>=2.0.0 in /opt/conda/lib/python3.7/site-packages (from scikit-learn->torchtoolbox) (2.1.0)\r\n",
      "Requirement already satisfied: joblib>=0.11 in /opt/conda/lib/python3.7/site-packages (from scikit-learn->torchtoolbox) (0.14.1)\r\n",
      "Building wheels for collected packages: efficientnet-pytorch, lmdb\r\n",
      "  Building wheel for efficientnet-pytorch (setup.py) ... \u001b[?25l-\b \b\\\b \bdone\r\n",
      "\u001b[?25h  Created wheel for efficientnet-pytorch: filename=efficientnet_pytorch-0.7.0-py3-none-any.whl size=16035 sha256=61cf0283b698420f470f111717ae5ee0f11aba3819a0ebcc3d6aabfd3fbb05a2\r\n",
      "  Stored in directory: /root/.cache/pip/wheels/b7/cc/0d/41d384b0071c6f46e542aded5f8571700ace4f1eb3f1591c29\r\n",
      "  Building wheel for lmdb (setup.py) ... \u001b[?25l-\b \b\\\b \b|\b \b/\b \b-\b \bdone\r\n",
      "\u001b[?25h  Created wheel for lmdb: filename=lmdb-1.0.0-cp37-cp37m-linux_x86_64.whl size=276756 sha256=20d8f58a421d4ecf057e1f82f8096615f840d6955cdf2b047fcfa8ad1037c9da\r\n",
      "  Stored in directory: /root/.cache/pip/wheels/12/e2/8d/261e2b6143cc3e0e690ccc065af68e44c43c26bc903ffa5d69\r\n",
      "Successfully built efficientnet-pytorch lmdb\r\n",
      "Installing collected packages: efficientnet-pytorch, lmdb, torchtoolbox\r\n",
      "Successfully installed efficientnet-pytorch-0.7.0 lmdb-1.0.0 torchtoolbox-0.1.5\r\n",
      "\u001b[33mWARNING: You are using pip version 20.2.1; however, version 20.2.2 is available.\r\n",
      "You should consider upgrading via the '/opt/conda/bin/python3.7 -m pip install --upgrade pip' command.\u001b[0m\r\n"
     ]
    }
   ],
   "source": [
    "!pip install efficientnet_pytorch torchtoolbox"
   ]
  },
  {
   "cell_type": "code",
   "execution_count": 2,
   "metadata": {
    "_cell_guid": "79c7e3d0-c299-4dcb-8224-4455121ee9b0",
    "_uuid": "d629ff2d2480ee46fbb7e2d37f6b5fab8052498a",
    "execution": {
     "iopub.execute_input": "2020-08-29T02:21:16.634001Z",
     "iopub.status.busy": "2020-08-29T02:21:16.632744Z",
     "iopub.status.idle": "2020-08-29T02:21:19.863132Z",
     "shell.execute_reply": "2020-08-29T02:21:19.862400Z"
    },
    "papermill": {
     "duration": 3.260672,
     "end_time": "2020-08-29T02:21:19.863266",
     "exception": false,
     "start_time": "2020-08-29T02:21:16.602594",
     "status": "completed"
    },
    "tags": []
   },
   "outputs": [],
   "source": [
    "# Imports here\n",
    "from efficientnet_pytorch import EfficientNet\n",
    "import matplotlib.pyplot as plt\n",
    "import torch\n",
    "from torch import nn\n",
    "from torch import optim\n",
    "import torch.nn.functional as F\n",
    "from torchvision import datasets, transforms, models\n",
    "from torch.utils.data import Dataset, DataLoader\n",
    "import matplotlib.pyplot as plt\n",
    "import seaborn as sns\n",
    "import csv\n",
    "import pandas as pd\n",
    "import os\n",
    "import random\n",
    "import math\n",
    "import skimage.io\n",
    "#from csv_loader import load_csv\n",
    "\n",
    "# Tiff visualisation imports and downloads\n",
    "import numpy as np\n",
    "import tifffile as tiff\n",
    "\n",
    "# For re-importing python modules\n",
    "import importlib\n",
    "#importlib.reload(csv_loader.py)\n",
    "\n",
    "#for quadratic score calculator\n",
    "from sklearn.metrics import cohen_kappa_score\n"
   ]
  },
  {
   "cell_type": "code",
   "execution_count": 3,
   "metadata": {
    "execution": {
     "iopub.execute_input": "2020-08-29T02:21:20.262299Z",
     "iopub.status.busy": "2020-08-29T02:21:20.261369Z",
     "iopub.status.idle": "2020-08-29T02:21:20.264296Z",
     "shell.execute_reply": "2020-08-29T02:21:20.264804Z"
    },
    "papermill": {
     "duration": 0.37962,
     "end_time": "2020-08-29T02:21:20.264965",
     "exception": false,
     "start_time": "2020-08-29T02:21:19.885345",
     "status": "completed"
    },
    "tags": []
   },
   "outputs": [],
   "source": [
    "#use GPU if available\n",
    "device = torch.device(\"cuda\" if torch.cuda.is_available() else \"cpu\")\n",
    "torch.set_default_tensor_type(torch.cuda.FloatTensor)"
   ]
  },
  {
   "cell_type": "code",
   "execution_count": 4,
   "metadata": {
    "execution": {
     "iopub.execute_input": "2020-08-29T02:21:20.319693Z",
     "iopub.status.busy": "2020-08-29T02:21:20.319063Z",
     "iopub.status.idle": "2020-08-29T02:21:20.475989Z",
     "shell.execute_reply": "2020-08-29T02:21:20.475059Z"
    },
    "papermill": {
     "duration": 0.18817,
     "end_time": "2020-08-29T02:21:20.476119",
     "exception": false,
     "start_time": "2020-08-29T02:21:20.287949",
     "status": "completed"
    },
    "tags": []
   },
   "outputs": [],
   "source": [
    "# Creating ability to control how many pictures go into the training sample. For debugging / training purposes\n",
    "sample_size = 10616\n",
    "df = pd.read_csv('../input/prostate-cancer-grade-assessment/train.csv').copy().sample(sample_size)\n",
    "df.to_csv(\"sample.csv\", sep=\",\", index=False)"
   ]
  },
  {
   "cell_type": "code",
   "execution_count": 5,
   "metadata": {
    "execution": {
     "iopub.execute_input": "2020-08-29T02:21:20.534455Z",
     "iopub.status.busy": "2020-08-29T02:21:20.532644Z",
     "iopub.status.idle": "2020-08-29T02:21:20.535241Z",
     "shell.execute_reply": "2020-08-29T02:21:20.535758Z"
    },
    "papermill": {
     "duration": 0.037955,
     "end_time": "2020-08-29T02:21:20.535901",
     "exception": false,
     "start_time": "2020-08-29T02:21:20.497946",
     "status": "completed"
    },
    "tags": []
   },
   "outputs": [],
   "source": [
    "class load_csv(Dataset):\n",
    "    def __init__(self, csv_file, root_dir, transform=None):\n",
    "        self.annotations = pd.read_csv(csv_file)# todo remove sample for debug\n",
    "        self.root_dir = root_dir\n",
    "        self.transform = transform\n",
    "    \n",
    "    def __len__(self):\n",
    "        return len(self.annotations)\n",
    "        \n",
    "    \n",
    "    def __getitem__(self, index):\n",
    "        image_id = self.annotations.iloc[index, 0]\n",
    "        img_path = os.path.join(self.root_dir, str(image_id) +\".png\")\n",
    "        image = torch.from_numpy(skimage.io.imread(img_path)).permute(2,0,1).float()\n",
    "        \n",
    "        y_label = torch.tensor(int(self.annotations.iloc[index,:]['isup_grade']))\n",
    "        #isup_grade = int(self.annotations.iloc[index,:]['isup_grade'])\n",
    "        \n",
    "        #label = np.zeros(6).astype(np.float32)\n",
    "        #y_label = label[isup_grade] = 1.\n",
    "        #y_label = torch.tensor(y_label)\n",
    "        \n",
    "        self.transform= transforms.Compose([transforms.ToPILImage(),\n",
    "                                            transforms.ToTensor()])\n",
    "                                            \n",
    "        if self.transform:\n",
    "            image = self.transform(image)\n",
    "        \n",
    "        return (image, y_label, image_id)"
   ]
  },
  {
   "cell_type": "code",
   "execution_count": 6,
   "metadata": {
    "execution": {
     "iopub.execute_input": "2020-08-29T02:21:20.593138Z",
     "iopub.status.busy": "2020-08-29T02:21:20.592247Z",
     "iopub.status.idle": "2020-08-29T02:21:26.110029Z",
     "shell.execute_reply": "2020-08-29T02:21:26.108325Z"
    },
    "papermill": {
     "duration": 5.550548,
     "end_time": "2020-08-29T02:21:26.110165",
     "exception": false,
     "start_time": "2020-08-29T02:21:20.559617",
     "status": "completed"
    },
    "tags": []
   },
   "outputs": [],
   "source": [
    "# Loading csv dataset into the dataset loader function load_csv. \n",
    "dataset = load_csv(csv_file='sample.csv', root_dir='../input/prostate-cancer-tiles-4x4x128px-downsampling-4x/train_128x4x4_res1/train_128x4x4_res1')\n",
    "\n",
    "# Creating sample subsets for validation and testing datasets\n",
    "sample_size = dataset.annotations.shape[0]\n",
    "train_ratio = .85\n",
    "valid_ratio = .05\n",
    "test_ratio = 1-(train_ratio + valid_ratio)\n",
    "train_size = int(train_ratio*sample_size)\n",
    "valid_size = int(valid_ratio*sample_size)\n",
    "test_size = sample_size - train_size - valid_size\n",
    "\n",
    "# Defining different datasets and respective dataloaders\n",
    "train_set, valid_set, test_set = torch.utils.data.random_split(dataset, [train_size, valid_size, test_size])\n",
    "\n",
    "train_loader = torch.utils.data.DataLoader(train_set, batch_size=5, shuffle=True)\n",
    "valid_loader = torch.utils.data.DataLoader(valid_set, batch_size=5, shuffle=True)\n",
    "test_loader = torch.utils.data.DataLoader(test_set, batch_size=5, shuffle=False)\n",
    "entire_set_loader = torch.utils.data.DataLoader(dataset, batch_size=1, shuffle=False)"
   ]
  },
  {
   "cell_type": "code",
   "execution_count": 7,
   "metadata": {
    "execution": {
     "iopub.execute_input": "2020-08-29T02:21:26.172418Z",
     "iopub.status.busy": "2020-08-29T02:21:26.166357Z",
     "iopub.status.idle": "2020-08-29T02:21:28.046134Z",
     "shell.execute_reply": "2020-08-29T02:21:28.045539Z"
    },
    "papermill": {
     "duration": 1.911457,
     "end_time": "2020-08-29T02:21:28.046267",
     "exception": false,
     "start_time": "2020-08-29T02:21:26.134810",
     "status": "completed"
    },
    "tags": []
   },
   "outputs": [
    {
     "name": "stderr",
     "output_type": "stream",
     "text": [
      "Downloading: \"https://github.com/lukemelas/EfficientNet-PyTorch/releases/download/1.0/efficientnet-b4-6ed6700e.pth\" to /root/.cache/torch/checkpoints/efficientnet-b4-6ed6700e.pth\n"
     ]
    },
    {
     "data": {
      "application/vnd.jupyter.widget-view+json": {
       "model_id": "f2e9a8b8de9a42ffbfbf051c42ac4a91",
       "version_major": 2,
       "version_minor": 0
      },
      "text/plain": [
       "HBox(children=(FloatProgress(value=0.0, max=77999237.0), HTML(value='')))"
      ]
     },
     "metadata": {},
     "output_type": "display_data"
    },
    {
     "name": "stdout",
     "output_type": "stream",
     "text": [
      "\n",
      "Loaded pretrained weights for efficientnet-b4\n"
     ]
    }
   ],
   "source": [
    "# Creating model and uploading/creating needed training components\n",
    "model = EfficientNet.from_pretrained('efficientnet-b4', num_classes=6)\n",
    "model._fc = model._fc = nn.Sequential(nn.Linear(model._fc.in_features, 216),\n",
    "                          nn.ReLU(),\n",
    "                          nn.Linear(216, 36, bias=True),\n",
    "                          nn.ReLU(),\n",
    "                          nn.Linear(36, 6, bias=True),\n",
    "                          nn.LogSoftmax(dim=1))\n",
    "\n",
    "\n",
    "if torch.cuda.is_available():\n",
    "    model = model.cuda()\n",
    "\n",
    "criterion = nn.NLLLoss()\n",
    "optimizer = optim.Adam(model.parameters(), lr=0.001)"
   ]
  },
  {
   "cell_type": "code",
   "execution_count": 8,
   "metadata": {
    "execution": {
     "iopub.execute_input": "2020-08-29T02:21:28.111564Z",
     "iopub.status.busy": "2020-08-29T02:21:28.110620Z",
     "iopub.status.idle": "2020-08-29T02:21:28.114715Z",
     "shell.execute_reply": "2020-08-29T02:21:28.114116Z"
    },
    "papermill": {
     "duration": 0.040714,
     "end_time": "2020-08-29T02:21:28.114834",
     "exception": false,
     "start_time": "2020-08-29T02:21:28.074120",
     "status": "completed"
    },
    "tags": []
   },
   "outputs": [],
   "source": [
    "def validate_data_function(model, test_loader, criterion):\n",
    "    test_loss = 0\n",
    "    accuracy = 0\n",
    "    \n",
    "    for ii, (inputs, labels, image_id) in enumerate(test_loader):\n",
    "        \n",
    "        inputs, labels = inputs.to(device), labels.to(device)\n",
    "        \n",
    "        output = model.forward(inputs)\n",
    "        test_loss += criterion(output,labels.long())#.item()\n",
    "        \n",
    "        #ps = torch.exp(output)\n",
    "        #equality = (labels.argmax(dim=1) == output.argmax(dim=1))\n",
    "        equality = (labels == output.argmax(dim=1))\n",
    "        accuracy += equality.type(torch.FloatTensor)\n",
    "        #pred = output.cpu().data.numpy().argmax()\n",
    "        #qwk = cohen_kappa_score(pred, labels, weights='quadratic')\n",
    "    accuracy = accuracy.mean()\n",
    "    return test_loss, accuracy, image_id"
   ]
  },
  {
   "cell_type": "code",
   "execution_count": 9,
   "metadata": {
    "execution": {
     "iopub.execute_input": "2020-08-29T02:21:28.192136Z",
     "iopub.status.busy": "2020-08-29T02:21:28.191169Z",
     "iopub.status.idle": "2020-08-29T04:48:44.238145Z",
     "shell.execute_reply": "2020-08-29T04:48:44.237476Z"
    },
    "papermill": {
     "duration": 8836.095426,
     "end_time": "2020-08-29T04:48:44.238274",
     "exception": false,
     "start_time": "2020-08-29T02:21:28.142848",
     "status": "completed"
    },
    "tags": []
   },
   "outputs": [
    {
     "name": "stdout",
     "output_type": "stream",
     "text": [
      "Epoch: 1/10..| Train loss: 1.665..| Validation loss: 0.502..| Validation accuracy: 35.000|\n",
      "Epoch: 1/10..| Train loss: 1.613..| Validation loss: 0.308..| Validation accuracy: 39.800|\n",
      "Epoch: 1/10..| Train loss: 1.581..| Validation loss: 0.351..| Validation accuracy: 44.800|\n",
      "Epoch: 2/10..| Train loss: 0.601..| Validation loss: 0.427..| Validation accuracy: 32.400|\n",
      "Epoch: 2/10..| Train loss: 1.510..| Validation loss: 0.301..| Validation accuracy: 46.000|\n",
      "Epoch: 2/10..| Train loss: 1.460..| Validation loss: 0.319..| Validation accuracy: 41.800|\n",
      "Epoch: 2/10..| Train loss: 1.430..| Validation loss: 0.284..| Validation accuracy: 50.000|\n",
      "Epoch: 3/10..| Train loss: 1.064..| Validation loss: 0.270..| Validation accuracy: 52.600|\n",
      "Epoch: 3/10..| Train loss: 1.365..| Validation loss: 0.373..| Validation accuracy: 47.000|\n",
      "Epoch: 3/10..| Train loss: 1.301..| Validation loss: 0.251..| Validation accuracy: 59.200|\n",
      "Epoch: 4/10..| Train loss: 0.217..| Validation loss: 0.286..| Validation accuracy: 47.200|\n",
      "Epoch: 4/10..| Train loss: 1.278..| Validation loss: 0.253..| Validation accuracy: 54.200|\n",
      "Epoch: 4/10..| Train loss: 1.274..| Validation loss: 0.282..| Validation accuracy: 53.200|\n",
      "Epoch: 4/10..| Train loss: 1.246..| Validation loss: 0.236..| Validation accuracy: 61.000|\n",
      "Epoch: 5/10..| Train loss: 0.688..| Validation loss: 0.239..| Validation accuracy: 57.800|\n",
      "Epoch: 5/10..| Train loss: 1.197..| Validation loss: 0.259..| Validation accuracy: 55.800|\n",
      "Epoch: 5/10..| Train loss: 1.198..| Validation loss: 0.297..| Validation accuracy: 50.000|\n",
      "Epoch: 5/10..| Train loss: 1.216..| Validation loss: 0.255..| Validation accuracy: 55.800|\n",
      "Epoch: 6/10..| Train loss: 1.127..| Validation loss: 0.246..| Validation accuracy: 58.000|\n",
      "Epoch: 6/10..| Train loss: 1.145..| Validation loss: 0.269..| Validation accuracy: 54.000|\n",
      "Epoch: 6/10..| Train loss: 1.175..| Validation loss: 0.260..| Validation accuracy: 59.200|\n",
      "Epoch: 7/10..| Train loss: 0.376..| Validation loss: 0.266..| Validation accuracy: 53.800|\n",
      "Epoch: 7/10..| Train loss: 1.107..| Validation loss: 0.256..| Validation accuracy: 52.800|\n",
      "Epoch: 7/10..| Train loss: 1.115..| Validation loss: 0.236..| Validation accuracy: 58.800|\n",
      "Epoch: 7/10..| Train loss: 1.142..| Validation loss: 0.249..| Validation accuracy: 57.400|\n",
      "Epoch: 8/10..| Train loss: 0.764..| Validation loss: 0.321..| Validation accuracy: 45.200|\n",
      "Epoch: 8/10..| Train loss: 1.043..| Validation loss: 0.287..| Validation accuracy: 54.400|\n",
      "Epoch: 8/10..| Train loss: 1.111..| Validation loss: 0.263..| Validation accuracy: 57.800|\n",
      "Epoch: 9/10..| Train loss: 0.100..| Validation loss: 0.249..| Validation accuracy: 57.800|\n",
      "Epoch: 9/10..| Train loss: 1.001..| Validation loss: 0.249..| Validation accuracy: 58.000|\n",
      "Epoch: 9/10..| Train loss: 1.049..| Validation loss: 0.279..| Validation accuracy: 52.400|\n",
      "Epoch: 9/10..| Train loss: 1.026..| Validation loss: 0.248..| Validation accuracy: 58.200|\n",
      "Epoch: 10/10..| Train loss: 0.486..| Validation loss: 0.257..| Validation accuracy: 59.000|\n",
      "Epoch: 10/10..| Train loss: 0.980..| Validation loss: 0.256..| Validation accuracy: 58.600|\n",
      "Epoch: 10/10..| Train loss: 0.986..| Validation loss: 0.256..| Validation accuracy: 56.000|\n",
      "Epoch: 10/10..| Train loss: 0.968..| Validation loss: 0.250..| Validation accuracy: 56.600|\n"
     ]
    }
   ],
   "source": [
    "# Training parameters and t=0 inputs\n",
    "epochs = 10\n",
    "print_every = 500\n",
    "steps = 0\n",
    "test_loss = 0\n",
    "\n",
    "# May the training begin!\n",
    "for epoch in range(epochs):\n",
    "    model.train()\n",
    "    running_loss = 0\n",
    "        \n",
    "    for ii, (inputs, labels, image_id) in enumerate(train_loader):\n",
    "        steps += 1\n",
    "        \n",
    "        inputs, labels = inputs.to(device), labels.to(device)\n",
    "        \n",
    "        optimizer.zero_grad()\n",
    "        \n",
    "       \n",
    "        outputs = model.forward(inputs)\n",
    "        loss = criterion(outputs, labels.long())\n",
    "        loss.backward()\n",
    "        optimizer.step()\n",
    "        \n",
    "        running_loss += loss.item()\n",
    "        \n",
    "        if steps % print_every == 0:\n",
    "            model.eval()\n",
    "\n",
    "            with torch.no_grad():\n",
    "                valid_loss, accuracy, image_id = validate_data_function(model, valid_loader, criterion)\n",
    "            \n",
    "            print(f\"Epoch: {epoch+1}/{epochs}..| \"\n",
    "                  f\"Train loss: {running_loss/print_every:.3f}..| \"\n",
    "                  f\"Validation loss: {valid_loss/print_every:.3f}..| \"                  \n",
    "                  f\"Validation accuracy: {accuracy:.3f}|\"\n",
    "                 )\n",
    "            \n",
    "            running_loss = 0\n",
    "            model.train()\n",
    "    \n",
    "    path = 'base_model.pth'\n",
    "    torch.save({\n",
    "            'epoch': epoch,\n",
    "            'model_state_dict': model.state_dict(),\n",
    "            'classifier_state_dict': model._fc.state_dict(),\n",
    "            'optimizer_state_dict': optimizer.state_dict(),\n",
    "            'loss': loss\n",
    "            }, path)\n",
    "    \n",
    "    \n",
    "    model.cuda() # moving model to GPU for further training"
   ]
  },
  {
   "cell_type": "code",
   "execution_count": 10,
   "metadata": {
    "execution": {
     "iopub.execute_input": "2020-08-29T04:48:44.320990Z",
     "iopub.status.busy": "2020-08-29T04:48:44.320131Z",
     "iopub.status.idle": "2020-08-29T04:48:44.323577Z",
     "shell.execute_reply": "2020-08-29T04:48:44.324066Z"
    },
    "papermill": {
     "duration": 0.04695,
     "end_time": "2020-08-29T04:48:44.324179",
     "exception": false,
     "start_time": "2020-08-29T04:48:44.277229",
     "status": "completed"
    },
    "tags": []
   },
   "outputs": [
    {
     "ename": "SyntaxError",
     "evalue": "unexpected EOF while parsing (<ipython-input-10-69e197332e0d>, line 6)",
     "output_type": "error",
     "traceback": [
      "\u001b[0;36m  File \u001b[0;32m\"<ipython-input-10-69e197332e0d>\"\u001b[0;36m, line \u001b[0;32m6\u001b[0m\n\u001b[0;31m    print(\"Test Accuracy: {}%\".format(accuracy)\u001b[0m\n\u001b[0m                                               ^\u001b[0m\n\u001b[0;31mSyntaxError\u001b[0m\u001b[0;31m:\u001b[0m unexpected EOF while parsing\n"
     ]
    }
   ],
   "source": [
    "model.eval()\n",
    "    \n",
    "with torch.no_grad():\n",
    "    test_loss, accuracy, image_id = validate_data_function(model, test_loader, criterion)\n",
    "                \n",
    "print(\"Test Accuracy: {}%\".format(accuracy)"
   ]
  }
 ],
 "metadata": {
  "kernelspec": {
   "display_name": "Python 3",
   "language": "python",
   "name": "python3"
  },
  "language_info": {
   "codemirror_mode": {
    "name": "ipython",
    "version": 3
   },
   "file_extension": ".py",
   "mimetype": "text/x-python",
   "name": "python",
   "nbconvert_exporter": "python",
   "pygments_lexer": "ipython3",
   "version": "3.7.6"
  },
  "papermill": {
   "duration": 8873.532229,
   "end_time": "2020-08-29T04:48:45.070069",
   "environment_variables": {},
   "exception": null,
   "input_path": "__notebook__.ipynb",
   "output_path": "__notebook__.ipynb",
   "parameters": {},
   "start_time": "2020-08-29T02:20:51.537840",
   "version": "2.1.0"
  },
  "widgets": {
   "application/vnd.jupyter.widget-state+json": {
    "state": {
     "0c20ca0e16604674b9c1670813c5abe6": {
      "model_module": "@jupyter-widgets/controls",
      "model_module_version": "1.5.0",
      "model_name": "FloatProgressModel",
      "state": {
       "_dom_classes": [],
       "_model_module": "@jupyter-widgets/controls",
       "_model_module_version": "1.5.0",
       "_model_name": "FloatProgressModel",
       "_view_count": null,
       "_view_module": "@jupyter-widgets/controls",
       "_view_module_version": "1.5.0",
       "_view_name": "ProgressView",
       "bar_style": "success",
       "description": "100%",
       "description_tooltip": null,
       "layout": "IPY_MODEL_872b2c46776e4b6195dc6d36df2c97b7",
       "max": 77999237.0,
       "min": 0.0,
       "orientation": "horizontal",
       "style": "IPY_MODEL_0fa53c0c354d44f99d9d06cfb7559931",
       "value": 77999237.0
      }
     },
     "0fa53c0c354d44f99d9d06cfb7559931": {
      "model_module": "@jupyter-widgets/controls",
      "model_module_version": "1.5.0",
      "model_name": "ProgressStyleModel",
      "state": {
       "_model_module": "@jupyter-widgets/controls",
       "_model_module_version": "1.5.0",
       "_model_name": "ProgressStyleModel",
       "_view_count": null,
       "_view_module": "@jupyter-widgets/base",
       "_view_module_version": "1.2.0",
       "_view_name": "StyleView",
       "bar_color": null,
       "description_width": "initial"
      }
     },
     "1e56458a709c4b3185cf7d0685693c4c": {
      "model_module": "@jupyter-widgets/controls",
      "model_module_version": "1.5.0",
      "model_name": "DescriptionStyleModel",
      "state": {
       "_model_module": "@jupyter-widgets/controls",
       "_model_module_version": "1.5.0",
       "_model_name": "DescriptionStyleModel",
       "_view_count": null,
       "_view_module": "@jupyter-widgets/base",
       "_view_module_version": "1.2.0",
       "_view_name": "StyleView",
       "description_width": ""
      }
     },
     "796ac9bb55ff4172aecb74f12c15e12e": {
      "model_module": "@jupyter-widgets/base",
      "model_module_version": "1.2.0",
      "model_name": "LayoutModel",
      "state": {
       "_model_module": "@jupyter-widgets/base",
       "_model_module_version": "1.2.0",
       "_model_name": "LayoutModel",
       "_view_count": null,
       "_view_module": "@jupyter-widgets/base",
       "_view_module_version": "1.2.0",
       "_view_name": "LayoutView",
       "align_content": null,
       "align_items": null,
       "align_self": null,
       "border": null,
       "bottom": null,
       "display": null,
       "flex": null,
       "flex_flow": null,
       "grid_area": null,
       "grid_auto_columns": null,
       "grid_auto_flow": null,
       "grid_auto_rows": null,
       "grid_column": null,
       "grid_gap": null,
       "grid_row": null,
       "grid_template_areas": null,
       "grid_template_columns": null,
       "grid_template_rows": null,
       "height": null,
       "justify_content": null,
       "justify_items": null,
       "left": null,
       "margin": null,
       "max_height": null,
       "max_width": null,
       "min_height": null,
       "min_width": null,
       "object_fit": null,
       "object_position": null,
       "order": null,
       "overflow": null,
       "overflow_x": null,
       "overflow_y": null,
       "padding": null,
       "right": null,
       "top": null,
       "visibility": null,
       "width": null
      }
     },
     "872b2c46776e4b6195dc6d36df2c97b7": {
      "model_module": "@jupyter-widgets/base",
      "model_module_version": "1.2.0",
      "model_name": "LayoutModel",
      "state": {
       "_model_module": "@jupyter-widgets/base",
       "_model_module_version": "1.2.0",
       "_model_name": "LayoutModel",
       "_view_count": null,
       "_view_module": "@jupyter-widgets/base",
       "_view_module_version": "1.2.0",
       "_view_name": "LayoutView",
       "align_content": null,
       "align_items": null,
       "align_self": null,
       "border": null,
       "bottom": null,
       "display": null,
       "flex": null,
       "flex_flow": null,
       "grid_area": null,
       "grid_auto_columns": null,
       "grid_auto_flow": null,
       "grid_auto_rows": null,
       "grid_column": null,
       "grid_gap": null,
       "grid_row": null,
       "grid_template_areas": null,
       "grid_template_columns": null,
       "grid_template_rows": null,
       "height": null,
       "justify_content": null,
       "justify_items": null,
       "left": null,
       "margin": null,
       "max_height": null,
       "max_width": null,
       "min_height": null,
       "min_width": null,
       "object_fit": null,
       "object_position": null,
       "order": null,
       "overflow": null,
       "overflow_x": null,
       "overflow_y": null,
       "padding": null,
       "right": null,
       "top": null,
       "visibility": null,
       "width": null
      }
     },
     "bf2174c476b4468195b49ac7a2ca705c": {
      "model_module": "@jupyter-widgets/controls",
      "model_module_version": "1.5.0",
      "model_name": "HTMLModel",
      "state": {
       "_dom_classes": [],
       "_model_module": "@jupyter-widgets/controls",
       "_model_module_version": "1.5.0",
       "_model_name": "HTMLModel",
       "_view_count": null,
       "_view_module": "@jupyter-widgets/controls",
       "_view_module_version": "1.5.0",
       "_view_name": "HTMLView",
       "description": "",
       "description_tooltip": null,
       "layout": "IPY_MODEL_d0a23613330f472d9d52ccca356fb202",
       "placeholder": "​",
       "style": "IPY_MODEL_1e56458a709c4b3185cf7d0685693c4c",
       "value": " 74.4M/74.4M [00:01&lt;00:00, 71.5MB/s]"
      }
     },
     "d0a23613330f472d9d52ccca356fb202": {
      "model_module": "@jupyter-widgets/base",
      "model_module_version": "1.2.0",
      "model_name": "LayoutModel",
      "state": {
       "_model_module": "@jupyter-widgets/base",
       "_model_module_version": "1.2.0",
       "_model_name": "LayoutModel",
       "_view_count": null,
       "_view_module": "@jupyter-widgets/base",
       "_view_module_version": "1.2.0",
       "_view_name": "LayoutView",
       "align_content": null,
       "align_items": null,
       "align_self": null,
       "border": null,
       "bottom": null,
       "display": null,
       "flex": null,
       "flex_flow": null,
       "grid_area": null,
       "grid_auto_columns": null,
       "grid_auto_flow": null,
       "grid_auto_rows": null,
       "grid_column": null,
       "grid_gap": null,
       "grid_row": null,
       "grid_template_areas": null,
       "grid_template_columns": null,
       "grid_template_rows": null,
       "height": null,
       "justify_content": null,
       "justify_items": null,
       "left": null,
       "margin": null,
       "max_height": null,
       "max_width": null,
       "min_height": null,
       "min_width": null,
       "object_fit": null,
       "object_position": null,
       "order": null,
       "overflow": null,
       "overflow_x": null,
       "overflow_y": null,
       "padding": null,
       "right": null,
       "top": null,
       "visibility": null,
       "width": null
      }
     },
     "f2e9a8b8de9a42ffbfbf051c42ac4a91": {
      "model_module": "@jupyter-widgets/controls",
      "model_module_version": "1.5.0",
      "model_name": "HBoxModel",
      "state": {
       "_dom_classes": [],
       "_model_module": "@jupyter-widgets/controls",
       "_model_module_version": "1.5.0",
       "_model_name": "HBoxModel",
       "_view_count": null,
       "_view_module": "@jupyter-widgets/controls",
       "_view_module_version": "1.5.0",
       "_view_name": "HBoxView",
       "box_style": "",
       "children": [
        "IPY_MODEL_0c20ca0e16604674b9c1670813c5abe6",
        "IPY_MODEL_bf2174c476b4468195b49ac7a2ca705c"
       ],
       "layout": "IPY_MODEL_796ac9bb55ff4172aecb74f12c15e12e"
      }
     }
    },
    "version_major": 2,
    "version_minor": 0
   }
  }
 },
 "nbformat": 4,
 "nbformat_minor": 4
}
