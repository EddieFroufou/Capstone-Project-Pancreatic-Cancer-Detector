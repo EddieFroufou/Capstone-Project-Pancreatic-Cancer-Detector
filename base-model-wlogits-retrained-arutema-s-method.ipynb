{
 "cells": [
  {
   "cell_type": "markdown",
   "metadata": {
    "papermill": {
     "duration": 0.016426,
     "end_time": "2020-09-14T16:59:50.674439",
     "exception": false,
     "start_time": "2020-09-14T16:59:50.658013",
     "status": "completed"
    },
    "tags": []
   },
   "source": [
    "### Using base model to apply Arutema's method and train a new model on a new dataset of predicted images that the base model was originally able to predict correctly within a certain threshold.\n",
    "\n",
    "### Idea came from here: https://www.kaggle.com/c/prostate-cancer-grade-assessment/discussion/169143\n",
    "\n",
    "### Step 1: Upload base model and run predictions on dataset"
   ]
  },
  {
   "cell_type": "code",
   "execution_count": 1,
   "metadata": {
    "_cell_guid": "b1076dfc-b9ad-4769-8c92-a6c4dae69d19",
    "_uuid": "8f2839f25d086af736a60e9eeb907d3b93b6e0e5",
    "execution": {
     "iopub.execute_input": "2020-09-14T16:59:50.713854Z",
     "iopub.status.busy": "2020-09-14T16:59:50.713032Z",
     "iopub.status.idle": "2020-09-14T17:00:18.987393Z",
     "shell.execute_reply": "2020-09-14T17:00:18.985821Z"
    },
    "papermill": {
     "duration": 28.297579,
     "end_time": "2020-09-14T17:00:18.987521",
     "exception": false,
     "start_time": "2020-09-14T16:59:50.689942",
     "status": "completed"
    },
    "tags": []
   },
   "outputs": [
    {
     "name": "stdout",
     "output_type": "stream",
     "text": [
      "Collecting efficientnet_pytorch\r\n",
      "  Downloading efficientnet_pytorch-0.7.0.tar.gz (20 kB)\r\n",
      "Collecting torchtoolbox\r\n",
      "  Downloading torchtoolbox-0.1.5-py3-none-any.whl (58 kB)\r\n",
      "\u001b[K     |████████████████████████████████| 58 kB 2.4 MB/s \r\n",
      "\u001b[?25hRequirement already satisfied: torch in /opt/conda/lib/python3.7/site-packages (from efficientnet_pytorch) (1.5.1)\r\n",
      "Requirement already satisfied: numpy in /opt/conda/lib/python3.7/site-packages (from torchtoolbox) (1.18.5)\r\n",
      "Requirement already satisfied: six in /opt/conda/lib/python3.7/site-packages (from torchtoolbox) (1.14.0)\r\n",
      "Collecting lmdb\r\n",
      "  Downloading lmdb-1.0.0.tar.gz (876 kB)\r\n",
      "\u001b[K     |████████████████████████████████| 876 kB 8.9 MB/s \r\n",
      "\u001b[?25hRequirement already satisfied: tqdm in /opt/conda/lib/python3.7/site-packages (from torchtoolbox) (4.45.0)\r\n",
      "Requirement already satisfied: pyarrow in /opt/conda/lib/python3.7/site-packages (from torchtoolbox) (0.16.0)\r\n",
      "Requirement already satisfied: opencv-python in /opt/conda/lib/python3.7/site-packages (from torchtoolbox) (4.3.0.36)\r\n",
      "Requirement already satisfied: scipy in /opt/conda/lib/python3.7/site-packages (from torchtoolbox) (1.4.1)\r\n",
      "Requirement already satisfied: scikit-learn in /opt/conda/lib/python3.7/site-packages (from torchtoolbox) (0.23.2)\r\n",
      "Requirement already satisfied: future in /opt/conda/lib/python3.7/site-packages (from torch->efficientnet_pytorch) (0.18.2)\r\n",
      "Requirement already satisfied: joblib>=0.11 in /opt/conda/lib/python3.7/site-packages (from scikit-learn->torchtoolbox) (0.14.1)\r\n",
      "Requirement already satisfied: threadpoolctl>=2.0.0 in /opt/conda/lib/python3.7/site-packages (from scikit-learn->torchtoolbox) (2.1.0)\r\n",
      "Building wheels for collected packages: efficientnet-pytorch, lmdb\r\n",
      "  Building wheel for efficientnet-pytorch (setup.py) ... \u001b[?25l-\b \b\\\b \bdone\r\n",
      "\u001b[?25h  Created wheel for efficientnet-pytorch: filename=efficientnet_pytorch-0.7.0-py3-none-any.whl size=16035 sha256=638af241e4026de4f2546c5000ad7147555f2e14d2e9f27a2995ece4b56acd1e\r\n",
      "  Stored in directory: /root/.cache/pip/wheels/b7/cc/0d/41d384b0071c6f46e542aded5f8571700ace4f1eb3f1591c29\r\n",
      "  Building wheel for lmdb (setup.py) ... \u001b[?25l-\b \b\\\b \b|\b \b/\b \b-\b \bdone\r\n",
      "\u001b[?25h  Created wheel for lmdb: filename=lmdb-1.0.0-cp37-cp37m-linux_x86_64.whl size=276741 sha256=f98118fa98af5d1284f21a362bfcfcad3bf45cfa9a71031189dc0adf653f5993\r\n",
      "  Stored in directory: /root/.cache/pip/wheels/12/e2/8d/261e2b6143cc3e0e690ccc065af68e44c43c26bc903ffa5d69\r\n",
      "Successfully built efficientnet-pytorch lmdb\r\n",
      "Installing collected packages: efficientnet-pytorch, lmdb, torchtoolbox\r\n",
      "Successfully installed efficientnet-pytorch-0.7.0 lmdb-1.0.0 torchtoolbox-0.1.5\r\n",
      "\u001b[33mWARNING: You are using pip version 20.2.1; however, version 20.2.3 is available.\r\n",
      "You should consider upgrading via the '/opt/conda/bin/python3.7 -m pip install --upgrade pip' command.\u001b[0m\r\n",
      "Collecting git+https://github.com/ildoonet/pytorch-gradual-warmup-lr.git\r\n",
      "  Cloning https://github.com/ildoonet/pytorch-gradual-warmup-lr.git to /tmp/pip-req-build-8k3z167h\r\n",
      "Building wheels for collected packages: warmup-scheduler\r\n",
      "  Building wheel for warmup-scheduler (setup.py) ... \u001b[?25l-\b \b\\\b \bdone\r\n",
      "\u001b[?25h  Created wheel for warmup-scheduler: filename=warmup_scheduler-0.3.2-py3-none-any.whl size=3881 sha256=53ffbb190db2e5055fefa63701f5b6bf708fcb546f1f48485328778ce8a6350f\r\n",
      "  Stored in directory: /tmp/pip-ephem-wheel-cache-86ovsozg/wheels/bf/81/52/0e3bc0b645a339f94c76b4dcb8c8b7a5f588a614f5add83b9f\r\n",
      "Successfully built warmup-scheduler\r\n",
      "Installing collected packages: warmup-scheduler\r\n",
      "Successfully installed warmup-scheduler-0.3.2\r\n",
      "\u001b[33mWARNING: You are using pip version 20.2.1; however, version 20.2.3 is available.\r\n",
      "You should consider upgrading via the '/opt/conda/bin/python3.7 -m pip install --upgrade pip' command.\u001b[0m\r\n"
     ]
    }
   ],
   "source": [
    "!pip install efficientnet_pytorch torchtoolbox\n",
    "!pip install git+https://github.com/ildoonet/pytorch-gradual-warmup-lr.git"
   ]
  },
  {
   "cell_type": "code",
   "execution_count": 2,
   "metadata": {
    "_cell_guid": "79c7e3d0-c299-4dcb-8224-4455121ee9b0",
    "_uuid": "d629ff2d2480ee46fbb7e2d37f6b5fab8052498a",
    "execution": {
     "iopub.execute_input": "2020-09-14T17:00:19.054747Z",
     "iopub.status.busy": "2020-09-14T17:00:19.053489Z",
     "iopub.status.idle": "2020-09-14T17:00:21.686878Z",
     "shell.execute_reply": "2020-09-14T17:00:21.685814Z"
    },
    "papermill": {
     "duration": 2.670054,
     "end_time": "2020-09-14T17:00:21.687002",
     "exception": false,
     "start_time": "2020-09-14T17:00:19.016948",
     "status": "completed"
    },
    "tags": []
   },
   "outputs": [],
   "source": [
    "# Imports here\n",
    "from efficientnet_pytorch import EfficientNet\n",
    "import matplotlib.pyplot as plt\n",
    "import torch\n",
    "from torch import nn\n",
    "from torch import optim\n",
    "import torch.nn.functional as F\n",
    "from torchvision import datasets, transforms, models\n",
    "from torch.utils.data import Dataset, DataLoader\n",
    "import matplotlib.pyplot as plt\n",
    "import seaborn as sns\n",
    "import csv\n",
    "import pandas as pd\n",
    "import os\n",
    "import random\n",
    "import math\n",
    "import skimage.io\n",
    "from torch.optim import lr_scheduler\n",
    "from torch.utils.data.sampler import SubsetRandomSampler, RandomSampler, SequentialSampler\n",
    "from warmup_scheduler import GradualWarmupScheduler\n",
    "import time\n",
    "\n",
    "# Tiff visualisation imports and downloads\n",
    "import numpy as np\n",
    "import tifffile as tiff\n",
    "\n",
    "# For re-importing python modules\n",
    "import importlib\n",
    "#importlib.reload(csv_loader.py)\n",
    "\n",
    "#for quadratic score calculator\n",
    "from sklearn.metrics import cohen_kappa_score\n"
   ]
  },
  {
   "cell_type": "code",
   "execution_count": 3,
   "metadata": {
    "execution": {
     "iopub.execute_input": "2020-09-14T17:00:22.089216Z",
     "iopub.status.busy": "2020-09-14T17:00:22.088464Z",
     "iopub.status.idle": "2020-09-14T17:00:22.091596Z",
     "shell.execute_reply": "2020-09-14T17:00:22.092209Z"
    },
    "papermill": {
     "duration": 0.376689,
     "end_time": "2020-09-14T17:00:22.092367",
     "exception": false,
     "start_time": "2020-09-14T17:00:21.715678",
     "status": "completed"
    },
    "tags": []
   },
   "outputs": [],
   "source": [
    "#use GPU if available\n",
    "device = torch.device(\"cuda\" if torch.cuda.is_available() else \"cpu\")\n",
    "torch.set_default_tensor_type(torch.cuda.FloatTensor)"
   ]
  },
  {
   "cell_type": "code",
   "execution_count": 4,
   "metadata": {
    "execution": {
     "iopub.execute_input": "2020-09-14T17:00:22.156734Z",
     "iopub.status.busy": "2020-09-14T17:00:22.156115Z",
     "iopub.status.idle": "2020-09-14T17:00:22.344095Z",
     "shell.execute_reply": "2020-09-14T17:00:22.343035Z"
    },
    "papermill": {
     "duration": 0.223043,
     "end_time": "2020-09-14T17:00:22.344230",
     "exception": false,
     "start_time": "2020-09-14T17:00:22.121187",
     "status": "completed"
    },
    "tags": []
   },
   "outputs": [],
   "source": [
    "# Creating ability to control how many pictures go into the training sample. For debugging / training purposes\n",
    "sample_size = 10616\n",
    "df = pd.read_csv('../input/prostate-cancer-grade-assessment/train.csv').copy().sample(sample_size)\n",
    "df.to_csv(\"sample.csv\", sep=\",\", index=False)"
   ]
  },
  {
   "cell_type": "code",
   "execution_count": 5,
   "metadata": {
    "execution": {
     "iopub.execute_input": "2020-09-14T17:00:22.414041Z",
     "iopub.status.busy": "2020-09-14T17:00:22.413160Z",
     "iopub.status.idle": "2020-09-14T17:00:22.419114Z",
     "shell.execute_reply": "2020-09-14T17:00:22.418603Z"
    },
    "papermill": {
     "duration": 0.044586,
     "end_time": "2020-09-14T17:00:22.419211",
     "exception": false,
     "start_time": "2020-09-14T17:00:22.374625",
     "status": "completed"
    },
    "tags": []
   },
   "outputs": [],
   "source": [
    "class load_csv(Dataset):\n",
    "    def __init__(self, csv_file, root_dir, transform=None):\n",
    "        self.annotations = pd.read_csv(csv_file)# todo remove sample for debug\n",
    "        self.root_dir = root_dir\n",
    "        self.transform = transform\n",
    "    \n",
    "    def __len__(self):\n",
    "        return len(self.annotations)\n",
    "        \n",
    "    \n",
    "    def __getitem__(self, index):\n",
    "        image_id = self.annotations.iloc[index, 0]\n",
    "        img_path = os.path.join(self.root_dir, str(image_id) +\".png\")\n",
    "        image = torch.from_numpy(skimage.io.imread(img_path)).permute(2,0,1).float()\n",
    "        isup_grade = int(self.annotations.iloc[index,:]['isup_grade'])\n",
    "        \n",
    "        label = np.zeros(5).astype(np.float32)\n",
    "        label[:isup_grade] = 1.\n",
    "        \n",
    "        #label = np.zeros(6).astype(np.float32)\n",
    "        #y_label = label[isup_grade] = 1.\n",
    "        #y_label = torch.tensor(y_label)\n",
    "        \n",
    "        self.transform= transforms.Compose([transforms.ToPILImage(),\n",
    "                                            transforms.ToTensor()])\n",
    "                                            \n",
    "        if self.transform:\n",
    "            image = self.transform(image)\n",
    "        \n",
    "        return (image, torch.tensor(label), image_id)"
   ]
  },
  {
   "cell_type": "code",
   "execution_count": 6,
   "metadata": {
    "execution": {
     "iopub.execute_input": "2020-09-14T17:00:22.492127Z",
     "iopub.status.busy": "2020-09-14T17:00:22.491279Z",
     "iopub.status.idle": "2020-09-14T17:00:26.964162Z",
     "shell.execute_reply": "2020-09-14T17:00:26.963142Z"
    },
    "papermill": {
     "duration": 4.515106,
     "end_time": "2020-09-14T17:00:26.964312",
     "exception": false,
     "start_time": "2020-09-14T17:00:22.449206",
     "status": "completed"
    },
    "tags": []
   },
   "outputs": [],
   "source": [
    "# Loading csv dataset into the dataset loader function load_csv. \n",
    "dataset = load_csv(csv_file='sample.csv', root_dir='../input/prostate-cancer-tiles-4x4x128px-downsampling-4x/train_128x4x4_res1/train_128x4x4_res1')\n",
    "\n",
    "# Creating sample subsets for validation and testing datasets\n",
    "sample_size = dataset.annotations.shape[0]\n",
    "train_ratio = .80\n",
    "valid_ratio = .10\n",
    "test_ratio = 1-(train_ratio + valid_ratio)\n",
    "train_size = int(train_ratio*sample_size)\n",
    "valid_size = int(valid_ratio*sample_size)\n",
    "test_size = sample_size - train_size - valid_size\n",
    "\n",
    "# Defining different datasets and respective dataloaders\n",
    "train_set, valid_set, test_set = torch.utils.data.random_split(dataset, [train_size, valid_size, test_size])\n",
    "\n",
    "# Defining different loaders according to database that they're loading\n",
    "entire_set_loader = torch.utils.data.DataLoader(dataset, batch_size=35, shuffle=False)\n",
    "train_loader = torch.utils.data.DataLoader(train_set, batch_size=35, shuffle=True)\n",
    "valid_loader = torch.utils.data.DataLoader(valid_set, batch_size=35, shuffle=True)\n",
    "test_loader = torch.utils.data.DataLoader(test_set, batch_size=35, shuffle=False)\n"
   ]
  },
  {
   "cell_type": "code",
   "execution_count": 7,
   "metadata": {
    "execution": {
     "iopub.execute_input": "2020-09-14T17:00:27.038852Z",
     "iopub.status.busy": "2020-09-14T17:00:27.037479Z",
     "iopub.status.idle": "2020-09-14T17:00:27.667686Z",
     "shell.execute_reply": "2020-09-14T17:00:27.667144Z"
    },
    "papermill": {
     "duration": 0.674988,
     "end_time": "2020-09-14T17:00:27.667814",
     "exception": false,
     "start_time": "2020-09-14T17:00:26.992826",
     "status": "completed"
    },
    "tags": []
   },
   "outputs": [],
   "source": [
    "# Loading model\n",
    "model = EfficientNet.from_name('efficientnet-b0')\n",
    "model.load_state_dict(torch.load(\"../input/efficientnet-pytorch/efficientnet-b0-08094119.pth\"))\n",
    "model._fc = nn.Sequential(nn.Linear(model._fc.in_features, 216),\n",
    "                          nn.ReLU(),\n",
    "                          nn.Linear(216, 36, bias=True),\n",
    "                          nn.ReLU(),\n",
    "                          nn.Linear(36, 5, bias=True))\n",
    "\n",
    "# Model path\n",
    "model_path = '../input/200912-base-model-w-logits/base_model_w_logits.pth'\n",
    "\n",
    "# Load checkpoint\n",
    "checkpoint = torch.load(model_path)\n",
    "\n",
    "# Load model parameters\n",
    "model.load_state_dict(checkpoint['model_state_dict'])\n",
    "model._fc.load_state_dict(checkpoint['classifier_state_dict'])\n",
    "\n",
    "# Load other model related components\n",
    "criterion = nn.BCEWithLogitsLoss()\n",
    "optimizer = optim.Adam(model.parameters(), lr=0.001)\n",
    "optimizer.load_state_dict(checkpoint['optimizer_state_dict'])\n",
    "epoch = checkpoint['epoch']\n",
    "loss = checkpoint['loss']\n",
    "\n",
    "model.eval()\n",
    "\n",
    "\n",
    "if torch.cuda.is_available():\n",
    "    model = model.cuda()\n",
    "\n",
    "\n"
   ]
  },
  {
   "cell_type": "code",
   "execution_count": 8,
   "metadata": {
    "execution": {
     "iopub.execute_input": "2020-09-14T17:00:27.742121Z",
     "iopub.status.busy": "2020-09-14T17:00:27.739802Z",
     "iopub.status.idle": "2020-09-14T17:00:27.744912Z",
     "shell.execute_reply": "2020-09-14T17:00:27.744380Z"
    },
    "papermill": {
     "duration": 0.047583,
     "end_time": "2020-09-14T17:00:27.745024",
     "exception": false,
     "start_time": "2020-09-14T17:00:27.697441",
     "status": "completed"
    },
    "tags": []
   },
   "outputs": [],
   "source": [
    "def validate_data_function(model, test_loader, criterion):\n",
    "    test_loss = 0\n",
    "    accuracy = 0\n",
    "    image_id_list = []\n",
    "    pred_y_int_list = []\n",
    "    pred_y_dec_list = []\n",
    "    y_labels = []\n",
    "    loss_list = []\n",
    "    \n",
    "    model.eval()\n",
    "    with torch.no_grad():\n",
    "        for ii, (inputs, labels, image_id) in enumerate(test_loader):\n",
    "        \n",
    "            inputs, labels = inputs.to(device), labels.to(device)\n",
    "        \n",
    "            output = model.forward(inputs)\n",
    "            loss = criterion(output,labels)\n",
    "        \n",
    "            image_id_list.append(image_id)\n",
    "        \n",
    "            pred_y_int = output.sigmoid().sum(1).round().detach()\n",
    "            pred_y_int_list.append(pred_y_int)\n",
    "        \n",
    "            pred_y_dec = output.sigmoid().sum(1).detach()\n",
    "            pred_y_dec_list.append(pred_y_dec)\n",
    "            \n",
    "            y_labels.append(labels.sum(1))\n",
    "                \n",
    "            loss_np = loss.detach().cpu().numpy()\n",
    "            loss_list.append(loss_np)\n",
    "    \n",
    "    image_id_list = [j for i in image_id_list for j in i]\n",
    "    pred_y_int_list = torch.cat(pred_y_int_list).cpu().numpy()\n",
    "    pred_y_dec_list = torch.cat(pred_y_dec_list).cpu().numpy()\n",
    "    y_labels = torch.cat(y_labels).cpu().numpy()\n",
    "    \n",
    "    test_loss = np.mean(loss_list)\n",
    "    accuracy = np.mean(pred_y_int_list == y_labels) * 100.\n",
    "    \n",
    "    return test_loss, accuracy, image_id, image_id_list, pred_y_int_list, pred_y_dec_list, y_labels"
   ]
  },
  {
   "cell_type": "code",
   "execution_count": 9,
   "metadata": {
    "execution": {
     "iopub.execute_input": "2020-09-14T17:00:27.811412Z",
     "iopub.status.busy": "2020-09-14T17:00:27.810800Z",
     "iopub.status.idle": "2020-09-14T17:08:10.549547Z",
     "shell.execute_reply": "2020-09-14T17:08:10.550245Z"
    },
    "papermill": {
     "duration": 462.776785,
     "end_time": "2020-09-14T17:08:10.550423",
     "exception": false,
     "start_time": "2020-09-14T17:00:27.773638",
     "status": "completed"
    },
    "tags": []
   },
   "outputs": [
    {
     "name": "stdout",
     "output_type": "stream",
     "text": [
      "Base model accuracy: 89.49%\n"
     ]
    }
   ],
   "source": [
    "with torch.no_grad():\n",
    "    test_loss, accuracy, image_id, image_id_list, pred_y_int_list, pred_y_dec_list, y_label_list = validate_data_function(model, entire_set_loader, criterion)\n",
    "            \n",
    "print(\"Base model accuracy: {:.2f}%\".format(accuracy))"
   ]
  },
  {
   "cell_type": "markdown",
   "metadata": {
    "papermill": {
     "duration": 0.029504,
     "end_time": "2020-09-14T17:08:10.610672",
     "exception": false,
     "start_time": "2020-09-14T17:08:10.581168",
     "status": "completed"
    },
    "tags": []
   },
   "source": [
    "### Our base model's accuracy is printed directly above. The accuracy is of predictions that were obtained by committing a fatal sin: running predictions on training data. This is part of the Arutema method. In the next step, I will explain how I expect to atone for my data training transgressions and keep testing/training data separate."
   ]
  },
  {
   "cell_type": "markdown",
   "metadata": {
    "papermill": {
     "duration": 0.029153,
     "end_time": "2020-09-14T17:08:10.669130",
     "exception": false,
     "start_time": "2020-09-14T17:08:10.639977",
     "status": "completed"
    },
    "tags": []
   },
   "source": [
    "### Step 2: Define keep/remove datasets. Keep dataset will be training set. Remove dataset will be testing set."
   ]
  },
  {
   "cell_type": "code",
   "execution_count": 10,
   "metadata": {
    "execution": {
     "iopub.execute_input": "2020-09-14T17:08:10.756157Z",
     "iopub.status.busy": "2020-09-14T17:08:10.750301Z",
     "iopub.status.idle": "2020-09-14T17:08:10.898942Z",
     "shell.execute_reply": "2020-09-14T17:08:10.897485Z"
    },
    "papermill": {
     "duration": 0.200652,
     "end_time": "2020-09-14T17:08:10.899061",
     "exception": false,
     "start_time": "2020-09-14T17:08:10.698409",
     "status": "completed"
    },
    "tags": []
   },
   "outputs": [],
   "source": [
    "new_df = pd.DataFrame({'image_id': image_id_list,\n",
    "                       'pred_y_int': pred_y_int_list,\n",
    "                       'pred_y_dec': pred_y_dec_list,\n",
    "                       'isup_grade': y_label_list\n",
    "                       })\n",
    "\n",
    "# Defining threshold and keeping/removing images accordingly\n",
    "threshold = 1.6\n",
    "new_df['thresh_gap'] = [np.abs(x-y) for x, y in zip(new_df['isup_grade'], new_df['pred_y_dec'])]\n",
    "new_df['passed_thresh'] = [1 if x <= threshold else 0 for x in new_df['thresh_gap']]\n",
    "\n",
    "new_df_keep = new_df[new_df['thresh_gap']<= threshold]\n",
    "new_df_remove = new_df[new_df['thresh_gap']> threshold]\n",
    "\n",
    "new_df_keep.to_csv(\"sample_keep.csv\", sep=\",\", index=False)\n",
    "new_df_remove.to_csv(\"sample_remove.csv\", sep=\",\", index=False)"
   ]
  },
  {
   "cell_type": "code",
   "execution_count": 11,
   "metadata": {
    "execution": {
     "iopub.execute_input": "2020-09-14T17:08:10.971419Z",
     "iopub.status.busy": "2020-09-14T17:08:10.964927Z",
     "iopub.status.idle": "2020-09-14T17:08:10.975031Z",
     "shell.execute_reply": "2020-09-14T17:08:10.975545Z"
    },
    "papermill": {
     "duration": 0.046706,
     "end_time": "2020-09-14T17:08:10.975668",
     "exception": false,
     "start_time": "2020-09-14T17:08:10.928962",
     "status": "completed"
    },
    "tags": []
   },
   "outputs": [
    {
     "data": {
      "text/plain": [
       "1    10342\n",
       "0      274\n",
       "Name: passed_thresh, dtype: int64"
      ]
     },
     "execution_count": 11,
     "metadata": {},
     "output_type": "execute_result"
    }
   ],
   "source": [
    "new_df.passed_thresh.value_counts()"
   ]
  },
  {
   "cell_type": "code",
   "execution_count": 12,
   "metadata": {
    "execution": {
     "iopub.execute_input": "2020-09-14T17:08:11.041449Z",
     "iopub.status.busy": "2020-09-14T17:08:11.040821Z",
     "iopub.status.idle": "2020-09-14T17:08:11.235427Z",
     "shell.execute_reply": "2020-09-14T17:08:11.234413Z"
    },
    "papermill": {
     "duration": 0.229223,
     "end_time": "2020-09-14T17:08:11.235548",
     "exception": false,
     "start_time": "2020-09-14T17:08:11.006325",
     "status": "completed"
    },
    "tags": []
   },
   "outputs": [
    {
     "data": {
      "text/plain": [
       "Text(0, 0.5, 'ISUP Prediction (y_pred)')"
      ]
     },
     "execution_count": 12,
     "metadata": {},
     "output_type": "execute_result"
    },
    {
     "data": {
      "image/png": "[encoded data removed]",
      "text/plain": [
       "<Figure size 432x288 with 1 Axes>"
      ]
     },
     "metadata": {
      "needs_background": "light"
     },
     "output_type": "display_data"
    }
   ],
   "source": [
    "plt.scatter(new_df_keep['isup_grade'], new_df_keep['pred_y_dec'])\n",
    "plt.scatter(new_df_remove['isup_grade'], new_df_remove['pred_y_dec'])\n",
    "plt.xlabel('ISUP Label (y_label)')\n",
    "plt.ylabel('ISUP Prediction (y_pred)')"
   ]
  },
  {
   "cell_type": "markdown",
   "metadata": {
    "papermill": {
     "duration": 0.031495,
     "end_time": "2020-09-14T17:08:11.300018",
     "exception": false,
     "start_time": "2020-09-14T17:08:11.268523",
     "status": "completed"
    },
    "tags": []
   },
   "source": [
    "### Now only loading \"keep\" images to train a new model"
   ]
  },
  {
   "cell_type": "code",
   "execution_count": 13,
   "metadata": {
    "execution": {
     "iopub.execute_input": "2020-09-14T17:08:11.375003Z",
     "iopub.status.busy": "2020-09-14T17:08:11.371579Z",
     "iopub.status.idle": "2020-09-14T17:08:11.396948Z",
     "shell.execute_reply": "2020-09-14T17:08:11.396423Z"
    },
    "papermill": {
     "duration": 0.065142,
     "end_time": "2020-09-14T17:08:11.397049",
     "exception": false,
     "start_time": "2020-09-14T17:08:11.331907",
     "status": "completed"
    },
    "tags": []
   },
   "outputs": [],
   "source": [
    "# Loading ONLY KEEP csv dataset into the dataset loader function load_csv. \n",
    "sample_size = len(new_df_keep)\n",
    "train_ratio = .80\n",
    "valid_ratio = .10\n",
    "test_ratio = 1-(train_ratio + valid_ratio)\n",
    "train_size = int(train_ratio*sample_size)\n",
    "valid_size = int(valid_ratio*sample_size)\n",
    "test_size = sample_size - train_size - valid_size\n",
    "\n",
    "keep_dataset = load_csv(csv_file='./sample_keep.csv', root_dir='../input/prostate-cancer-tiles-4x4x128px-downsampling-4x/train_128x4x4_res1/train_128x4x4_res1')\n",
    "\n",
    "keep_train_set, keep_valid_set, keep_test_set = torch.utils.data.random_split(keep_dataset, [train_size, valid_size, test_size])\n",
    "\n",
    "remove_dataset = load_csv(csv_file='./sample_remove.csv', root_dir='../input/prostate-cancer-tiles-4x4x128px-downsampling-4x/train_128x4x4_res1/train_128x4x4_res1')\n",
    "\n",
    "keep_loader = torch.utils.data.DataLoader(keep_dataset, batch_size=30, shuffle=False)\n",
    "keep_train_loader = torch.utils.data.DataLoader(keep_dataset, batch_size=30, shuffle=False)\n",
    "keep_valid_loader = torch.utils.data.DataLoader(keep_dataset, batch_size=30, shuffle=False)\n",
    "keep_test_loader = torch.utils.data.DataLoader(keep_dataset, batch_size=30, shuffle=False)\n",
    "remove_loader = torch.utils.data.DataLoader(remove_dataset, batch_size=30, shuffle=False)"
   ]
  },
  {
   "cell_type": "code",
   "execution_count": 14,
   "metadata": {
    "execution": {
     "iopub.execute_input": "2020-09-14T17:08:11.468211Z",
     "iopub.status.busy": "2020-09-14T17:08:11.467351Z",
     "iopub.status.idle": "2020-09-14T17:08:12.661913Z",
     "shell.execute_reply": "2020-09-14T17:08:12.662420Z"
    },
    "papermill": {
     "duration": 1.233475,
     "end_time": "2020-09-14T17:08:12.662559",
     "exception": false,
     "start_time": "2020-09-14T17:08:11.429084",
     "status": "completed"
    },
    "tags": []
   },
   "outputs": [
    {
     "name": "stderr",
     "output_type": "stream",
     "text": [
      "Downloading: \"https://github.com/lukemelas/EfficientNet-PyTorch/releases/download/1.0/efficientnet-b0-355c32eb.pth\" to /root/.cache/torch/checkpoints/efficientnet-b0-355c32eb.pth\n"
     ]
    },
    {
     "data": {
      "application/vnd.jupyter.widget-view+json": {
       "model_id": "e687b2094751459eb24470d1bfee0bc5",
       "version_major": 2,
       "version_minor": 0
      },
      "text/plain": [
       "HBox(children=(FloatProgress(value=0.0, max=21388428.0), HTML(value='')))"
      ]
     },
     "metadata": {},
     "output_type": "display_data"
    },
    {
     "name": "stdout",
     "output_type": "stream",
     "text": [
      "\n",
      "Loaded pretrained weights for efficientnet-b0\n"
     ]
    }
   ],
   "source": [
    "# Creating model and uploading/creating needed training components\n",
    "arutema_model = EfficientNet.from_pretrained('efficientnet-b0', num_classes=5)\n",
    "arutema_model._fc = nn.Sequential(nn.Linear(arutema_model._fc.in_features, 216),\n",
    "                          nn.ReLU(),\n",
    "                          nn.Linear(216, 36, bias=True),\n",
    "                          nn.ReLU(),\n",
    "                          nn.Linear(36, 5, bias=True))\n",
    "\n",
    "\n",
    "if torch.cuda.is_available():\n",
    "    arutema_model = arutema_model.cuda()"
   ]
  },
  {
   "cell_type": "code",
   "execution_count": 15,
   "metadata": {
    "execution": {
     "iopub.execute_input": "2020-09-14T17:08:12.738383Z",
     "iopub.status.busy": "2020-09-14T17:08:12.737664Z",
     "iopub.status.idle": "2020-09-14T17:08:12.740630Z",
     "shell.execute_reply": "2020-09-14T17:08:12.741075Z"
    },
    "papermill": {
     "duration": 0.045387,
     "end_time": "2020-09-14T17:08:12.741206",
     "exception": false,
     "start_time": "2020-09-14T17:08:12.695819",
     "status": "completed"
    },
    "tags": []
   },
   "outputs": [],
   "source": [
    "init_lr = 3e-3\n",
    "warmup_factor = 10\n",
    "\n",
    "warmup_epo = 1\n",
    "n_epochs = 30\n",
    "\n",
    "#optimizer = optim.Adam(model.parameters())\n",
    "optimizer = optim.Adam(arutema_model.parameters(), lr=init_lr/warmup_factor)\n",
    "scheduler_cosine = torch.optim.lr_scheduler.CosineAnnealingLR(optimizer, n_epochs-warmup_epo)\n",
    "scheduler = GradualWarmupScheduler(optimizer, multiplier=warmup_factor, total_epoch=warmup_epo, after_scheduler=scheduler_cosine)\n",
    "\n",
    "criterion = nn.BCEWithLogitsLoss()"
   ]
  },
  {
   "cell_type": "code",
   "execution_count": 16,
   "metadata": {
    "execution": {
     "iopub.execute_input": "2020-09-14T17:08:12.820997Z",
     "iopub.status.busy": "2020-09-14T17:08:12.820080Z",
     "iopub.status.idle": "2020-09-14T23:50:01.262837Z",
     "shell.execute_reply": "2020-09-14T23:50:01.263442Z"
    },
    "papermill": {
     "duration": 24108.489692,
     "end_time": "2020-09-14T23:50:01.263743",
     "exception": false,
     "start_time": "2020-09-14T17:08:12.774051",
     "status": "completed"
    },
    "tags": []
   },
   "outputs": [
    {
     "name": "stderr",
     "output_type": "stream",
     "text": [
      "/opt/conda/lib/python3.7/site-packages/torch/optim/lr_scheduler.py:123: UserWarning: Detected call of `lr_scheduler.step()` before `optimizer.step()`. In PyTorch 1.1.0 and later, you should call them in the opposite order: `optimizer.step()` before `lr_scheduler.step()`.  Failure to do this will result in PyTorch skipping the first value of the learning rate schedule. See more details at https://pytorch.org/docs/stable/optim.html#how-to-adjust-learning-rate\n",
      "  \"https://pytorch.org/docs/stable/optim.html#how-to-adjust-learning-rate\", UserWarning)\n",
      "/opt/conda/lib/python3.7/site-packages/torch/optim/lr_scheduler.py:143: UserWarning: The epoch parameter in `scheduler.step()` was not necessary and is being deprecated where possible. Please use `scheduler.step()` to step the scheduler. During the deprecation, if epoch is different from None, the closed form is used instead of the new chainable form, where available. Please open an issue if you are unable to replicate your use case: https://github.com/pytorch/pytorch/issues/new/choose.\n",
      "  warnings.warn(EPOCH_DEPRECATION_WARNING, UserWarning)\n"
     ]
    },
    {
     "name": "stdout",
     "output_type": "stream",
     "text": [
      "Epoch: 1/30..|# of batches: 250..|lr: 0.000300..|Train loss: 0.013..|Train acc.: 3.920..| Valid. loss: 0.352..|Valid. acc.: 30.971|Time (min):  0.045..|\n",
      "Epoch: 2/30..|# of batches: 250..|lr: 0.003000..|Train loss: 0.013..|Train acc.: 3.627..| Valid. loss: 0.541..|Valid. acc.: 28.099|Time (min):  0.045..|\n",
      "Epoch: 3/30..|# of batches: 250..|lr: 0.000300..|Train loss: 0.010..|Train acc.: 2.053..| Valid. loss: 0.253..|Valid. acc.: 52.224|Time (min):  0.044..|\n",
      "Epoch: 4/30..|# of batches: 250..|lr: 0.002965..|Train loss: 0.011..|Train acc.: 2.093..| Valid. loss: 0.318..|Valid. acc.: 36.763|Time (min):  0.045..|\n",
      "Epoch: 5/30..|# of batches: 250..|lr: 0.002921..|Train loss: 0.010..|Train acc.: 1.867..| Valid. loss: 0.420..|Valid. acc.: 34.926|Time (min):  0.045..|\n",
      "Epoch: 6/30..|# of batches: 250..|lr: 0.002861..|Train loss: 0.009..|Train acc.: 1.853..| Valid. loss: 0.423..|Valid. acc.: 48.114|Time (min):  0.045..|\n",
      "Epoch: 7/30..|# of batches: 250..|lr: 0.002785..|Train loss: 0.009..|Train acc.: 1.440..| Valid. loss: 0.293..|Valid. acc.: 46.925|Time (min):  0.046..|\n",
      "Epoch: 8/30..|# of batches: 250..|lr: 0.002694..|Train loss: 0.008..|Train acc.: 1.160..| Valid. loss: 0.324..|Valid. acc.: 44.914|Time (min):  0.045..|\n",
      "Epoch: 9/30..|# of batches: 250..|lr: 0.002589..|Train loss: 0.008..|Train acc.: 0.920..| Valid. loss: 0.308..|Valid. acc.: 51.296|Time (min):  0.045..|\n",
      "Epoch: 10/30..|# of batches: 250..|lr: 0.002471..|Train loss: 0.007..|Train acc.: 0.987..| Valid. loss: 0.245..|Valid. acc.: 50.464|Time (min):  0.046..|\n",
      "Epoch: 11/30..|# of batches: 250..|lr: 0.002342..|Train loss: 0.007..|Train acc.: 0.787..| Valid. loss: 0.566..|Valid. acc.: 37.459|Time (min):  0.046..|\n",
      "Epoch: 12/30..|# of batches: 250..|lr: 0.002203..|Train loss: 0.006..|Train acc.: 0.947..| Valid. loss: 0.196..|Valid. acc.: 65.084|Time (min):  0.047..|\n",
      "Epoch: 13/30..|# of batches: 250..|lr: 0.002055..|Train loss: 0.005..|Train acc.: 0.920..| Valid. loss: 0.155..|Valid. acc.: 68.807|Time (min):  0.047..|\n",
      "Epoch: 14/30..|# of batches: 250..|lr: 0.001901..|Train loss: 0.005..|Train acc.: 0.787..| Valid. loss: 0.179..|Valid. acc.: 63.779|Time (min):  0.047..|\n",
      "Epoch: 15/30..|# of batches: 250..|lr: 0.001743..|Train loss: 0.004..|Train acc.: 0.907..| Valid. loss: 0.161..|Valid. acc.: 70.132|Time (min):  0.048..|\n",
      "Epoch: 16/30..|# of batches: 250..|lr: 0.001581..|Train loss: 0.003..|Train acc.: 0.587..| Valid. loss: 0.143..|Valid. acc.: 73.970|Time (min):  0.046..|\n",
      "Epoch: 17/30..|# of batches: 250..|lr: 0.001419..|Train loss: 0.003..|Train acc.: 0.613..| Valid. loss: 0.111..|Valid. acc.: 78.911|Time (min):  0.046..|\n",
      "Epoch: 18/30..|# of batches: 250..|lr: 0.001257..|Train loss: 0.003..|Train acc.: 0.560..| Valid. loss: 0.100..|Valid. acc.: 80.304|Time (min):  0.047..|\n",
      "Epoch: 19/30..|# of batches: 250..|lr: 0.001099..|Train loss: 0.002..|Train acc.: 0.387..| Valid. loss: 0.173..|Valid. acc.: 72.075|Time (min):  0.043..|\n",
      "Epoch: 20/30..|# of batches: 250..|lr: 0.000945..|Train loss: 0.002..|Train acc.: 0.453..| Valid. loss: 0.145..|Valid. acc.: 75.063|Time (min):  0.047..|\n",
      "Epoch: 21/30..|# of batches: 250..|lr: 0.000797..|Train loss: 0.001..|Train acc.: 0.213..| Valid. loss: 0.113..|Valid. acc.: 81.425|Time (min):  0.043..|\n",
      "Epoch: 22/30..|# of batches: 250..|lr: 0.000658..|Train loss: 0.001..|Train acc.: 0.280..| Valid. loss: 0.043..|Valid. acc.: 91.965|Time (min):  0.042..|\n",
      "Epoch: 23/30..|# of batches: 250..|lr: 0.000529..|Train loss: 0.001..|Train acc.: 0.120..| Valid. loss: 0.034..|Valid. acc.: 93.802|Time (min):  0.045..|\n",
      "Epoch: 24/30..|# of batches: 250..|lr: 0.000411..|Train loss: 0.001..|Train acc.: 0.067..| Valid. loss: 0.040..|Valid. acc.: 92.990|Time (min):  0.043..|\n",
      "Epoch: 25/30..|# of batches: 250..|lr: 0.000306..|Train loss: 0.000..|Train acc.: 0.107..| Valid. loss: 0.035..|Valid. acc.: 94.034|Time (min):  0.043..|\n",
      "Epoch: 26/30..|# of batches: 250..|lr: 0.000215..|Train loss: 0.000..|Train acc.: 0.040..| Valid. loss: 0.019..|Valid. acc.: 97.032|Time (min):  0.045..|\n",
      "Epoch: 27/30..|# of batches: 250..|lr: 0.000139..|Train loss: 0.000..|Train acc.: 0.067..| Valid. loss: 0.020..|Valid. acc.: 96.548|Time (min):  0.042..|\n",
      "Epoch: 28/30..|# of batches: 250..|lr: 0.000079..|Train loss: 0.000..|Train acc.: 0.053..| Valid. loss: 0.013..|Valid. acc.: 97.757|Time (min):  0.043..|\n",
      "Epoch: 29/30..|# of batches: 250..|lr: 0.000035..|Train loss: 0.000..|Train acc.: 0.027..| Valid. loss: 0.012..|Valid. acc.: 97.853|Time (min):  0.040..|\n",
      "Epoch: 30/30..|# of batches: 250..|lr: 0.000009..|Train loss: 0.000..|Train acc.: 0.027..| Valid. loss: 0.012..|Valid. acc.: 97.902|Time (min):  0.040..|\n"
     ]
    }
   ],
   "source": [
    "# Training parameters and t=0 inputs\n",
    "print_every = 250\n",
    "steps = 0\n",
    "test_loss = 0\n",
    "output_list = []\n",
    "label_list = []\n",
    "\n",
    "# May the training begin!\n",
    "for epoch in range(1, n_epochs+1):\n",
    "    arutema_model.train()\n",
    "    running_loss = 0\n",
    "    steps = 0\n",
    "    num_examples = 0\n",
    "    hits = 0\n",
    "    \n",
    "    start = time.time()\n",
    "\n",
    "    scheduler.step(epoch-1)\n",
    "    \n",
    "    for ii, (inputs, labels, image_id) in enumerate(keep_train_loader):\n",
    "        steps += 1\n",
    "        num_examples += inputs.shape[0]\n",
    "                \n",
    "        inputs, labels = inputs.to(device), labels.to(device)\n",
    "        \n",
    "        optimizer.zero_grad()\n",
    "        \n",
    "       \n",
    "        outputs = arutema_model.forward(inputs)\n",
    "        loss = criterion(outputs, labels)\n",
    "        loss.backward()\n",
    "        optimizer.step()\n",
    "    \n",
    "        running_loss += loss.item()\n",
    "        \n",
    "        with torch.no_grad():\n",
    "            hits+= (outputs.sum(1).round() == labels.sum(1)).float().sum()\n",
    "        \n",
    "        if steps % print_every == 0:\n",
    "            arutema_model.eval()\n",
    "            \n",
    "            train_accuracy=0.0\n",
    "            \n",
    "            with torch.no_grad():\n",
    "                valid_loss, accuracy, image_id, image_id_list, pred_y_int_list, pred_y_dec_list, y_label_list = validate_data_function(arutema_model, keep_valid_loader, criterion)\n",
    "                train_accuracy = hits*100.0/num_examples\n",
    "                #train_accuracy = equality.type(torch.FloatTensor)/steps * 100.\n",
    "                end = time.time()\n",
    "                train_time = end - start\n",
    "                train_time = train_time / print_every\n",
    "                \n",
    "            epoch_lr = optimizer.param_groups[0][\"lr\"]\n",
    "            print(f\"Epoch: {epoch}/{n_epochs}..|\"\n",
    "                  f\"# of batches: {steps:.0f}..|\"\n",
    "                  f\"lr: {epoch_lr:.6f}..|\"\n",
    "                  f\"Train loss: {running_loss/num_examples:.3f}..|\"\n",
    "                  f\"Train acc.: {train_accuracy:.3f}..| \"\n",
    "                  f\"Valid. loss: {valid_loss:.3f}..|\"                  \n",
    "                  f\"Valid. acc.: {accuracy:.3f}|\"\n",
    "                  f\"Time (min): {train_time/60: .3f}..|\"\n",
    "                 )\n",
    "            \n",
    "            \n",
    "            \n",
    "            # running_loss = 0\n",
    "            arutema_model.train()\n",
    "    \n",
    "    path = 'Arutema_base_model_w_logits.pth'\n",
    "    torch.save({\n",
    "            'epoch': epoch,\n",
    "            'model_state_dict': arutema_model.state_dict(),\n",
    "            'classifier_state_dict': arutema_model._fc.state_dict(),\n",
    "            'optimizer_state_dict': optimizer.state_dict(),\n",
    "            'loss': loss\n",
    "            }, path)\n",
    "    \n",
    "    \n",
    "    arutema_model.cuda() # moving model to GPU for further training        "
   ]
  },
  {
   "cell_type": "code",
   "execution_count": 17,
   "metadata": {
    "execution": {
     "iopub.execute_input": "2020-09-14T23:50:01.361218Z",
     "iopub.status.busy": "2020-09-14T23:50:01.360321Z",
     "iopub.status.idle": "2020-09-14T23:54:42.209109Z",
     "shell.execute_reply": "2020-09-14T23:54:42.209786Z"
    },
    "papermill": {
     "duration": 280.90097,
     "end_time": "2020-09-14T23:54:42.209971",
     "exception": false,
     "start_time": "2020-09-14T23:50:01.309001",
     "status": "completed"
    },
    "tags": []
   },
   "outputs": [
    {
     "name": "stdout",
     "output_type": "stream",
     "text": [
      "Test set accuracy: 97.95%\n"
     ]
    }
   ],
   "source": [
    "with torch.no_grad():\n",
    "    test_loss, accuracy, image_id, image_id_list, pred_y_int_list, pred_y_dec_list, y_labels = validate_data_function(arutema_model, keep_test_loader, criterion)\n",
    "\n",
    "print(\"Test set accuracy: {:.2f}%\".format(float(accuracy)))"
   ]
  },
  {
   "cell_type": "code",
   "execution_count": 18,
   "metadata": {
    "execution": {
     "iopub.execute_input": "2020-09-14T23:54:42.306524Z",
     "iopub.status.busy": "2020-09-14T23:54:42.305852Z",
     "iopub.status.idle": "2020-09-14T23:54:50.244035Z",
     "shell.execute_reply": "2020-09-14T23:54:50.243504Z"
    },
    "papermill": {
     "duration": 7.989403,
     "end_time": "2020-09-14T23:54:50.244154",
     "exception": false,
     "start_time": "2020-09-14T23:54:42.254751",
     "status": "completed"
    },
    "tags": []
   },
   "outputs": [
    {
     "name": "stdout",
     "output_type": "stream",
     "text": [
      "Remove set accuracy: 10.95%\n"
     ]
    }
   ],
   "source": [
    "with torch.no_grad():\n",
    "    test_loss, accuracy, image_id, image_id_list, pred_y_int_list, pred_y_dec_list, y_labels = validate_data_function(arutema_model, remove_loader, criterion)\n",
    "\n",
    "print(\"Remove set accuracy: {:.2f}%\".format(float(accuracy)))"
   ]
  },
  {
   "cell_type": "markdown",
   "metadata": {
    "papermill": {
     "duration": 0.044777,
     "end_time": "2020-09-14T23:54:50.335813",
     "exception": false,
     "start_time": "2020-09-14T23:54:50.291036",
     "status": "completed"
    },
    "tags": []
   },
   "source": [
    "### Remember, the test set (see accuracy above) is the \"new_df_remove\" dataset, which is data that fell outside of the Arutema threshold, which means that not only was the base model unable to correctly predict these images (ie. 0% accuracy), but failed to predict correctly beyond a reasonable threshold."
   ]
  },
  {
   "cell_type": "code",
   "execution_count": 19,
   "metadata": {
    "execution": {
     "iopub.execute_input": "2020-09-14T23:54:50.454569Z",
     "iopub.status.busy": "2020-09-14T23:54:50.453503Z",
     "iopub.status.idle": "2020-09-14T23:59:36.607157Z",
     "shell.execute_reply": "2020-09-14T23:59:36.607852Z"
    },
    "papermill": {
     "duration": 286.225923,
     "end_time": "2020-09-14T23:59:36.608032",
     "exception": false,
     "start_time": "2020-09-14T23:54:50.382109",
     "status": "completed"
    },
    "tags": []
   },
   "outputs": [
    {
     "name": "stdout",
     "output_type": "stream",
     "text": [
      "New model accuracy on entire dataset: 95.70%\n"
     ]
    }
   ],
   "source": [
    "with torch.no_grad():\n",
    "    test_loss, accuracy, image_id, image_id_list, pred_y_int_list, pred_y_dec_list, y_label_list = validate_data_function(arutema_model, entire_set_loader, criterion)\n",
    "            \n",
    "print(\"New model accuracy on entire dataset: {:.2f}%\".format(accuracy.item()))"
   ]
  }
 ],
 "metadata": {
  "kernelspec": {
   "display_name": "Python 3",
   "language": "python",
   "name": "python3"
  },
  "language_info": {
   "codemirror_mode": {
    "name": "ipython",
    "version": 3
   },
   "file_extension": ".py",
   "mimetype": "text/x-python",
   "name": "python",
   "nbconvert_exporter": "python",
   "pygments_lexer": "ipython3",
   "version": "3.7.6"
  },
  "papermill": {
   "duration": 25191.831558,
   "end_time": "2020-09-14T23:59:37.923395",
   "environment_variables": {},
   "exception": null,
   "input_path": "__notebook__.ipynb",
   "output_path": "__notebook__.ipynb",
   "parameters": {},
   "start_time": "2020-09-14T16:59:46.091837",
   "version": "2.1.0"
  },
  "widgets": {
   "application/vnd.jupyter.widget-state+json": {
    "state": {
     "024e5223f70347f4baa339946873a950": {
      "model_module": "@jupyter-widgets/controls",
      "model_module_version": "1.5.0",
      "model_name": "ProgressStyleModel",
      "state": {
       "_model_module": "@jupyter-widgets/controls",
       "_model_module_version": "1.5.0",
       "_model_name": "ProgressStyleModel",
       "_view_count": null,
       "_view_module": "@jupyter-widgets/base",
       "_view_module_version": "1.2.0",
       "_view_name": "StyleView",
       "bar_color": null,
       "description_width": "initial"
      }
     },
     "0fc5ac53a71c427b9adba33dc45737f0": {
      "model_module": "@jupyter-widgets/base",
      "model_module_version": "1.2.0",
      "model_name": "LayoutModel",
      "state": {
       "_model_module": "@jupyter-widgets/base",
       "_model_module_version": "1.2.0",
       "_model_name": "LayoutModel",
       "_view_count": null,
       "_view_module": "@jupyter-widgets/base",
       "_view_module_version": "1.2.0",
       "_view_name": "LayoutView",
       "align_content": null,
       "align_items": null,
       "align_self": null,
       "border": null,
       "bottom": null,
       "display": null,
       "flex": null,
       "flex_flow": null,
       "grid_area": null,
       "grid_auto_columns": null,
       "grid_auto_flow": null,
       "grid_auto_rows": null,
       "grid_column": null,
       "grid_gap": null,
       "grid_row": null,
       "grid_template_areas": null,
       "grid_template_columns": null,
       "grid_template_rows": null,
       "height": null,
       "justify_content": null,
       "justify_items": null,
       "left": null,
       "margin": null,
       "max_height": null,
       "max_width": null,
       "min_height": null,
       "min_width": null,
       "object_fit": null,
       "object_position": null,
       "order": null,
       "overflow": null,
       "overflow_x": null,
       "overflow_y": null,
       "padding": null,
       "right": null,
       "top": null,
       "visibility": null,
       "width": null
      }
     },
     "50160052b6b248d9bf663f63934a90fc": {
      "model_module": "@jupyter-widgets/base",
      "model_module_version": "1.2.0",
      "model_name": "LayoutModel",
      "state": {
       "_model_module": "@jupyter-widgets/base",
       "_model_module_version": "1.2.0",
       "_model_name": "LayoutModel",
       "_view_count": null,
       "_view_module": "@jupyter-widgets/base",
       "_view_module_version": "1.2.0",
       "_view_name": "LayoutView",
       "align_content": null,
       "align_items": null,
       "align_self": null,
       "border": null,
       "bottom": null,
       "display": null,
       "flex": null,
       "flex_flow": null,
       "grid_area": null,
       "grid_auto_columns": null,
       "grid_auto_flow": null,
       "grid_auto_rows": null,
       "grid_column": null,
       "grid_gap": null,
       "grid_row": null,
       "grid_template_areas": null,
       "grid_template_columns": null,
       "grid_template_rows": null,
       "height": null,
       "justify_content": null,
       "justify_items": null,
       "left": null,
       "margin": null,
       "max_height": null,
       "max_width": null,
       "min_height": null,
       "min_width": null,
       "object_fit": null,
       "object_position": null,
       "order": null,
       "overflow": null,
       "overflow_x": null,
       "overflow_y": null,
       "padding": null,
       "right": null,
       "top": null,
       "visibility": null,
       "width": null
      }
     },
     "98004a02c66c45a2b889100d905277fa": {
      "model_module": "@jupyter-widgets/base",
      "model_module_version": "1.2.0",
      "model_name": "LayoutModel",
      "state": {
       "_model_module": "@jupyter-widgets/base",
       "_model_module_version": "1.2.0",
       "_model_name": "LayoutModel",
       "_view_count": null,
       "_view_module": "@jupyter-widgets/base",
       "_view_module_version": "1.2.0",
       "_view_name": "LayoutView",
       "align_content": null,
       "align_items": null,
       "align_self": null,
       "border": null,
       "bottom": null,
       "display": null,
       "flex": null,
       "flex_flow": null,
       "grid_area": null,
       "grid_auto_columns": null,
       "grid_auto_flow": null,
       "grid_auto_rows": null,
       "grid_column": null,
       "grid_gap": null,
       "grid_row": null,
       "grid_template_areas": null,
       "grid_template_columns": null,
       "grid_template_rows": null,
       "height": null,
       "justify_content": null,
       "justify_items": null,
       "left": null,
       "margin": null,
       "max_height": null,
       "max_width": null,
       "min_height": null,
       "min_width": null,
       "object_fit": null,
       "object_position": null,
       "order": null,
       "overflow": null,
       "overflow_x": null,
       "overflow_y": null,
       "padding": null,
       "right": null,
       "top": null,
       "visibility": null,
       "width": null
      }
     },
     "cb6af71dd6f34eac83590ffa46e37b44": {
      "model_module": "@jupyter-widgets/controls",
      "model_module_version": "1.5.0",
      "model_name": "HTMLModel",
      "state": {
       "_dom_classes": [],
       "_model_module": "@jupyter-widgets/controls",
       "_model_module_version": "1.5.0",
       "_model_name": "HTMLModel",
       "_view_count": null,
       "_view_module": "@jupyter-widgets/controls",
       "_view_module_version": "1.5.0",
       "_view_name": "HTMLView",
       "description": "",
       "description_tooltip": null,
       "layout": "IPY_MODEL_98004a02c66c45a2b889100d905277fa",
       "placeholder": "​",
       "style": "IPY_MODEL_d24598e838c64a60a1cfaf4a2777e3de",
       "value": " 20.4M/20.4M [08:22&lt;00:00, 42.5kB/s]"
      }
     },
     "d24598e838c64a60a1cfaf4a2777e3de": {
      "model_module": "@jupyter-widgets/controls",
      "model_module_version": "1.5.0",
      "model_name": "DescriptionStyleModel",
      "state": {
       "_model_module": "@jupyter-widgets/controls",
       "_model_module_version": "1.5.0",
       "_model_name": "DescriptionStyleModel",
       "_view_count": null,
       "_view_module": "@jupyter-widgets/base",
       "_view_module_version": "1.2.0",
       "_view_name": "StyleView",
       "description_width": ""
      }
     },
     "e687b2094751459eb24470d1bfee0bc5": {
      "model_module": "@jupyter-widgets/controls",
      "model_module_version": "1.5.0",
      "model_name": "HBoxModel",
      "state": {
       "_dom_classes": [],
       "_model_module": "@jupyter-widgets/controls",
       "_model_module_version": "1.5.0",
       "_model_name": "HBoxModel",
       "_view_count": null,
       "_view_module": "@jupyter-widgets/controls",
       "_view_module_version": "1.5.0",
       "_view_name": "HBoxView",
       "box_style": "",
       "children": [
        "IPY_MODEL_e96161ec986f4230888db7ef0a188e7f",
        "IPY_MODEL_cb6af71dd6f34eac83590ffa46e37b44"
       ],
       "layout": "IPY_MODEL_0fc5ac53a71c427b9adba33dc45737f0"
      }
     },
     "e96161ec986f4230888db7ef0a188e7f": {
      "model_module": "@jupyter-widgets/controls",
      "model_module_version": "1.5.0",
      "model_name": "FloatProgressModel",
      "state": {
       "_dom_classes": [],
       "_model_module": "@jupyter-widgets/controls",
       "_model_module_version": "1.5.0",
       "_model_name": "FloatProgressModel",
       "_view_count": null,
       "_view_module": "@jupyter-widgets/controls",
       "_view_module_version": "1.5.0",
       "_view_name": "ProgressView",
       "bar_style": "success",
       "description": "100%",
       "description_tooltip": null,
       "layout": "IPY_MODEL_50160052b6b248d9bf663f63934a90fc",
       "max": 21388428.0,
       "min": 0.0,
       "orientation": "horizontal",
       "style": "IPY_MODEL_024e5223f70347f4baa339946873a950",
       "value": 21388428.0
      }
     }
    },
    "version_major": 2,
    "version_minor": 0
   }
  }
 },
 "nbformat": 4,
 "nbformat_minor": 4
}
